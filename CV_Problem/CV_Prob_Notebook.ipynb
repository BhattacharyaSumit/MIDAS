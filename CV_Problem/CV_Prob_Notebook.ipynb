{
  "nbformat": 4,
  "nbformat_minor": 0,
  "metadata": {
    "colab": {
      "name": "MIDAS_Comp-Vis.ipynb",
      "version": "0.3.2",
      "provenance": [],
      "collapsed_sections": []
    },
    "kernelspec": {
      "name": "python3",
      "display_name": "Python 3"
    },
    "accelerator": "GPU"
  },
  "cells": [
    {
      "metadata": {
        "id": "gywZrI_HhMxC",
        "colab_type": "code",
        "outputId": "5356d28d-c556-48a1-975c-86b13855d081",
        "colab": {
          "base_uri": "https://localhost:8080/",
          "height": 122
        }
      },
      "cell_type": "code",
      "source": [
        "from google.colab import drive   #Mounting the google drive\n",
        "drive.mount('/gdrive')"
      ],
      "execution_count": 1,
      "outputs": [
        {
          "output_type": "stream",
          "text": [
            "Go to this URL in a browser: https://accounts.google.com/o/oauth2/auth?client_id=947318989803-6bn6qk8qdgf4n4g3pfee6491hc0brc4i.apps.googleusercontent.com&redirect_uri=urn%3Aietf%3Awg%3Aoauth%3A2.0%3Aoob&scope=email%20https%3A%2F%2Fwww.googleapis.com%2Fauth%2Fdocs.test%20https%3A%2F%2Fwww.googleapis.com%2Fauth%2Fdrive%20https%3A%2F%2Fwww.googleapis.com%2Fauth%2Fdrive.photos.readonly%20https%3A%2F%2Fwww.googleapis.com%2Fauth%2Fpeopleapi.readonly&response_type=code\n",
            "\n",
            "Enter your authorization code:\n",
            "··········\n",
            "Mounted at /gdrive\n"
          ],
          "name": "stdout"
        }
      ]
    },
    {
      "metadata": {
        "id": "SHV7pp5v-YNj",
        "colab_type": "text"
      },
      "cell_type": "markdown",
      "source": [
        "As all the files are in pickle format , data has to be extracted from them"
      ]
    },
    {
      "metadata": {
        "id": "Ltqhje90hMvL",
        "colab_type": "code",
        "colab": {}
      },
      "cell_type": "code",
      "source": [
        "import pickle\n",
        "\n",
        "\n",
        "with open('/gdrive/My Drive/Copy of train_image.pkl', 'rb') as f:\n",
        "    data_train = pickle.load(f)"
      ],
      "execution_count": 0,
      "outputs": []
    },
    {
      "metadata": {
        "id": "qWP5ROcWiNvu",
        "colab_type": "code",
        "colab": {}
      },
      "cell_type": "code",
      "source": [
        "with open('/gdrive/My Drive/Copy of test_image.pkl', 'rb') as k:\n",
        "  data_test = pickle.load(k)"
      ],
      "execution_count": 0,
      "outputs": []
    },
    {
      "metadata": {
        "id": "hVanoX5FiZ8J",
        "colab_type": "code",
        "colab": {}
      },
      "cell_type": "code",
      "source": [
        "import numpy as np\n"
      ],
      "execution_count": 0,
      "outputs": []
    },
    {
      "metadata": {
        "id": "LWpQG-13-kCx",
        "colab_type": "text"
      },
      "cell_type": "markdown",
      "source": [
        "Now, the training data and the testing data are converted into list of arrays."
      ]
    },
    {
      "metadata": {
        "id": "vJuBr-0llOax",
        "colab_type": "code",
        "colab": {}
      },
      "cell_type": "code",
      "source": [
        "train_data =[]\n",
        "\n",
        "for i in range(len(data_train)):\n",
        "  aux = np.asarray(data_train[i])\n",
        "  aux = aux.reshape(28,28)\n",
        "  train_data.append(aux)"
      ],
      "execution_count": 0,
      "outputs": []
    },
    {
      "metadata": {
        "id": "uEgG2qJAlg0V",
        "colab_type": "code",
        "colab": {}
      },
      "cell_type": "code",
      "source": [
        "test_data =[]\n",
        "\n",
        "for i in range(len(data_test)):\n",
        "  aux = np.asarray(data_test[i])\n",
        "  aux = aux.reshape(28,28)\n",
        "  test_data.append(aux)"
      ],
      "execution_count": 0,
      "outputs": []
    },
    {
      "metadata": {
        "id": "FHKGr5MX-rob",
        "colab_type": "text"
      },
      "cell_type": "markdown",
      "source": [
        "Here, it becomes a bit necessary to visualize the data"
      ]
    },
    {
      "metadata": {
        "id": "ZMYA-CmKjIBb",
        "colab_type": "code",
        "colab": {}
      },
      "cell_type": "code",
      "source": [
        "arr = np.asarray(test_data[1])"
      ],
      "execution_count": 0,
      "outputs": []
    },
    {
      "metadata": {
        "id": "pRFDANV_kT4y",
        "colab_type": "code",
        "colab": {}
      },
      "cell_type": "code",
      "source": [
        "import matplotlib.pyplot as plt\n",
        "\n",
        "plt.imshow(arr)\n",
        "plt.show()"
      ],
      "execution_count": 0,
      "outputs": []
    },
    {
      "metadata": {
        "id": "0WzsDlgg-xfr",
        "colab_type": "text"
      },
      "cell_type": "markdown",
      "source": [
        "The, label file is extracted"
      ]
    },
    {
      "metadata": {
        "id": "fFGe69l4kstA",
        "colab_type": "code",
        "colab": {}
      },
      "cell_type": "code",
      "source": [
        "with open('train_label.pkl', 'rb') as t:\n",
        "  lebels = pickle.load(t)"
      ],
      "execution_count": 0,
      "outputs": []
    },
    {
      "metadata": {
        "id": "tf_UzwMC-3li",
        "colab_type": "text"
      },
      "cell_type": "markdown",
      "source": [
        "Till here, I have just extracted the data. Now it modelling wll take place. For this, I will take 3 models and compare their peerformance."
      ]
    },
    {
      "metadata": {
        "id": "XGh6iuDulAnY",
        "colab_type": "code",
        "outputId": "8e600733-a770-4629-c9af-924ddfcc7a18",
        "colab": {
          "base_uri": "https://localhost:8080/",
          "height": 34
        }
      },
      "cell_type": "code",
      "source": [
        "import keras"
      ],
      "execution_count": 11,
      "outputs": [
        {
          "output_type": "stream",
          "text": [
            "Using TensorFlow backend.\n"
          ],
          "name": "stderr"
        }
      ]
    },
    {
      "metadata": {
        "id": "vhHtZ5o5lBO5",
        "colab_type": "code",
        "colab": {}
      },
      "cell_type": "code",
      "source": [
        "# Importing necessary modules\n",
        "from keras.models import Sequential\n",
        "from keras.layers.normalization import BatchNormalization\n",
        "from keras.layers.convolutional import Conv2D\n",
        "from keras.layers.convolutional import MaxPooling2D\n",
        "from keras.layers.core import Activation\n",
        "from keras.layers.core import Flatten\n",
        "from keras.layers.core import Dropout\n",
        "from keras.layers.core import Dense\n",
        "from keras.layers import InputLayer"
      ],
      "execution_count": 0,
      "outputs": []
    },
    {
      "metadata": {
        "id": "UlVct9ju_Sgq",
        "colab_type": "text"
      },
      "cell_type": "markdown",
      "source": [
        "Here , the 1st model is designed. The architecture of this model is very similar to VGG16 model but this has very few layers. I have not used the built-in VGG16  model because it accepts only coloured pictures but as plotted above, our dataset contains greyscale images."
      ]
    },
    {
      "metadata": {
        "id": "F6VO5edUNwvf",
        "colab_type": "code",
        "colab": {}
      },
      "cell_type": "code",
      "source": [
        "model_1 = Sequential()"
      ],
      "execution_count": 0,
      "outputs": []
    },
    {
      "metadata": {
        "id": "tLlajYAQOLC1",
        "colab_type": "code",
        "outputId": "c76ea542-2471-49f8-b81a-6c07c829cbdd",
        "colab": {
          "base_uri": "https://localhost:8080/",
          "height": 139
        }
      },
      "cell_type": "code",
      "source": [
        "model_1.add(Conv2D(32, (3, 3), padding=\"same\",\n",
        "\t\t\tinput_shape=(28,28,1)))\n",
        "model_1.add(Activation(\"relu\"))\n",
        "model_1.add(BatchNormalization(axis=-1))\n",
        "model_1.add(Conv2D(32, (3, 3), padding=\"same\"))\n",
        "model_1.add(Activation(\"relu\"))\n",
        "model_1.add(BatchNormalization(axis=-1))\n",
        "model_1.add(MaxPooling2D(pool_size=(2, 2)))\n",
        "model_1.add(Dropout(0.25))\n",
        " \n",
        "\n",
        "model_1.add(Conv2D(64, (3, 3), padding=\"same\"))\n",
        "model_1.add(Activation(\"relu\"))\n",
        "model_1.add(BatchNormalization(axis=-1))\n",
        "model_1.add(Conv2D(64, (3, 3), padding=\"same\"))\n",
        "model_1.add(Activation(\"relu\"))\n",
        "model_1.add(BatchNormalization(axis=-1))\n",
        "model_1.add(MaxPooling2D(pool_size=(2, 2)))\n",
        "model_1.add(Dropout(0.25))\n",
        " \n",
        "\t\t\n",
        "model_1.add(Flatten())\n",
        "model_1.add(Dense(512))\n",
        "model_1.add(Activation(\"relu\"))\n",
        "model_1.add(BatchNormalization())\n",
        "model_1.add(Dropout(0.5))\n",
        " \n",
        "\t\t\n",
        "model_1.add(Dense(4))\n",
        "model_1.add(Activation(\"softmax\"))\n",
        " \n",
        "\t\t\n",
        "\t\t"
      ],
      "execution_count": 0,
      "outputs": [
        {
          "output_type": "stream",
          "text": [
            "WARNING:tensorflow:From /usr/local/lib/python3.6/dist-packages/tensorflow/python/framework/op_def_library.py:263: colocate_with (from tensorflow.python.framework.ops) is deprecated and will be removed in a future version.\n",
            "Instructions for updating:\n",
            "Colocations handled automatically by placer.\n",
            "WARNING:tensorflow:From /usr/local/lib/python3.6/dist-packages/keras/backend/tensorflow_backend.py:3445: calling dropout (from tensorflow.python.ops.nn_ops) with keep_prob is deprecated and will be removed in a future version.\n",
            "Instructions for updating:\n",
            "Please use `rate` instead of `keep_prob`. Rate should be set to `rate = 1 - keep_prob`.\n"
          ],
          "name": "stdout"
        }
      ]
    },
    {
      "metadata": {
        "id": "P-T0pUaqRGYr",
        "colab_type": "code",
        "colab": {}
      },
      "cell_type": "code",
      "source": [
        "from keras.optimizers import SGD\n",
        "opt = SGD(lr=1e-2, momentum=0.9)"
      ],
      "execution_count": 0,
      "outputs": []
    },
    {
      "metadata": {
        "id": "2v89F4jp_4WI",
        "colab_type": "text"
      },
      "cell_type": "markdown",
      "source": [
        "Here, test and train data list are converted to numpy arrays "
      ]
    },
    {
      "metadata": {
        "id": "NJmEH5ZGRT0T",
        "colab_type": "code",
        "colab": {}
      },
      "cell_type": "code",
      "source": [
        "train = np.array(train_data)\n",
        "test = np.array(test_data)"
      ],
      "execution_count": 0,
      "outputs": []
    },
    {
      "metadata": {
        "id": "dy1OgqxOR7NF",
        "colab_type": "code",
        "colab": {}
      },
      "cell_type": "code",
      "source": [
        "from keras.utils import np_utils"
      ],
      "execution_count": 0,
      "outputs": []
    },
    {
      "metadata": {
        "id": "IiRPpxj9SPry",
        "colab_type": "code",
        "outputId": "9451ff91-b7d4-4a41-ba54-1a29533dad10",
        "colab": {
          "base_uri": "https://localhost:8080/",
          "height": 282
        }
      },
      "cell_type": "code",
      "source": [
        "train_y = np_utils.to_categorical(lebels, 4)"
      ],
      "execution_count": 0,
      "outputs": [
        {
          "output_type": "error",
          "ename": "IndexError",
          "evalue": "ignored",
          "traceback": [
            "\u001b[0;31m---------------------------------------------------------------------------\u001b[0m",
            "\u001b[0;31mIndexError\u001b[0m                                Traceback (most recent call last)",
            "\u001b[0;32m<ipython-input-19-7c42bf7f0735>\u001b[0m in \u001b[0;36m<module>\u001b[0;34m()\u001b[0m\n\u001b[0;32m----> 1\u001b[0;31m \u001b[0mtrain_y\u001b[0m \u001b[0;34m=\u001b[0m \u001b[0mnp_utils\u001b[0m\u001b[0;34m.\u001b[0m\u001b[0mto_categorical\u001b[0m\u001b[0;34m(\u001b[0m\u001b[0mlebels\u001b[0m\u001b[0;34m,\u001b[0m \u001b[0;36m4\u001b[0m\u001b[0;34m)\u001b[0m\u001b[0;34m\u001b[0m\u001b[0;34m\u001b[0m\u001b[0m\n\u001b[0m",
            "\u001b[0;32m/usr/local/lib/python3.6/dist-packages/keras/utils/np_utils.py\u001b[0m in \u001b[0;36mto_categorical\u001b[0;34m(y, num_classes, dtype)\u001b[0m\n\u001b[1;32m     32\u001b[0m     \u001b[0mn\u001b[0m \u001b[0;34m=\u001b[0m \u001b[0my\u001b[0m\u001b[0;34m.\u001b[0m\u001b[0mshape\u001b[0m\u001b[0;34m[\u001b[0m\u001b[0;36m0\u001b[0m\u001b[0;34m]\u001b[0m\u001b[0;34m\u001b[0m\u001b[0;34m\u001b[0m\u001b[0m\n\u001b[1;32m     33\u001b[0m     \u001b[0mcategorical\u001b[0m \u001b[0;34m=\u001b[0m \u001b[0mnp\u001b[0m\u001b[0;34m.\u001b[0m\u001b[0mzeros\u001b[0m\u001b[0;34m(\u001b[0m\u001b[0;34m(\u001b[0m\u001b[0mn\u001b[0m\u001b[0;34m,\u001b[0m \u001b[0mnum_classes\u001b[0m\u001b[0;34m)\u001b[0m\u001b[0;34m,\u001b[0m \u001b[0mdtype\u001b[0m\u001b[0;34m=\u001b[0m\u001b[0mdtype\u001b[0m\u001b[0;34m)\u001b[0m\u001b[0;34m\u001b[0m\u001b[0;34m\u001b[0m\u001b[0m\n\u001b[0;32m---> 34\u001b[0;31m     \u001b[0mcategorical\u001b[0m\u001b[0;34m[\u001b[0m\u001b[0mnp\u001b[0m\u001b[0;34m.\u001b[0m\u001b[0marange\u001b[0m\u001b[0;34m(\u001b[0m\u001b[0mn\u001b[0m\u001b[0;34m)\u001b[0m\u001b[0;34m,\u001b[0m \u001b[0my\u001b[0m\u001b[0;34m]\u001b[0m \u001b[0;34m=\u001b[0m \u001b[0;36m1\u001b[0m\u001b[0;34m\u001b[0m\u001b[0;34m\u001b[0m\u001b[0m\n\u001b[0m\u001b[1;32m     35\u001b[0m     \u001b[0moutput_shape\u001b[0m \u001b[0;34m=\u001b[0m \u001b[0minput_shape\u001b[0m \u001b[0;34m+\u001b[0m \u001b[0;34m(\u001b[0m\u001b[0mnum_classes\u001b[0m\u001b[0;34m,\u001b[0m\u001b[0;34m)\u001b[0m\u001b[0;34m\u001b[0m\u001b[0;34m\u001b[0m\u001b[0m\n\u001b[1;32m     36\u001b[0m     \u001b[0mcategorical\u001b[0m \u001b[0;34m=\u001b[0m \u001b[0mnp\u001b[0m\u001b[0;34m.\u001b[0m\u001b[0mreshape\u001b[0m\u001b[0;34m(\u001b[0m\u001b[0mcategorical\u001b[0m\u001b[0;34m,\u001b[0m \u001b[0moutput_shape\u001b[0m\u001b[0;34m)\u001b[0m\u001b[0;34m\u001b[0m\u001b[0;34m\u001b[0m\u001b[0m\n",
            "\u001b[0;31mIndexError\u001b[0m: index 6 is out of bounds for axis 1 with size 4"
          ]
        }
      ]
    },
    {
      "metadata": {
        "id": "3UZKcmG9__1L",
        "colab_type": "text"
      },
      "cell_type": "markdown",
      "source": [
        "Here, seems to be a problem regarding index 6."
      ]
    },
    {
      "metadata": {
        "id": "BAQ4WvgFSd0L",
        "colab_type": "code",
        "colab": {}
      },
      "cell_type": "code",
      "source": [
        "count =0\n",
        "for i in range(len(lebels)):\n",
        "  if(lebels[i] == 6):\n",
        "      count = count+1"
      ],
      "execution_count": 0,
      "outputs": []
    },
    {
      "metadata": {
        "id": "fLBLRWXTVOck",
        "colab_type": "code",
        "outputId": "c435005c-9af8-48eb-f277-466c79e68622",
        "colab": {
          "base_uri": "https://localhost:8080/",
          "height": 34
        }
      },
      "cell_type": "code",
      "source": [
        "count"
      ],
      "execution_count": 27,
      "outputs": [
        {
          "output_type": "execute_result",
          "data": {
            "text/plain": [
              "0"
            ]
          },
          "metadata": {
            "tags": []
          },
          "execution_count": 27
        }
      ]
    },
    {
      "metadata": {
        "id": "G74pVN_JAFwh",
        "colab_type": "text"
      },
      "cell_type": "markdown",
      "source": [
        "  The classes present are- 0,2,3,6. But our model will predict classes from 0 to 4. So what I will do is that I will map all classes that are '6' and rename them as '1'."
      ]
    },
    {
      "metadata": {
        "id": "UfBeztt6Sz0p",
        "colab_type": "code",
        "colab": {}
      },
      "cell_type": "code",
      "source": [
        "for k in range(len(lebels)):\n",
        "  if(lebels[k] ==6):\n",
        "    lebels[k]=1"
      ],
      "execution_count": 0,
      "outputs": []
    },
    {
      "metadata": {
        "id": "CUd6AKxbU6kI",
        "colab_type": "code",
        "colab": {}
      },
      "cell_type": "code",
      "source": [
        "train_y = np_utils.to_categorical(lebels, 4)"
      ],
      "execution_count": 0,
      "outputs": []
    },
    {
      "metadata": {
        "id": "UX8-5KWFAdyd",
        "colab_type": "text"
      },
      "cell_type": "markdown",
      "source": [
        "Model compilation is required, I have used my customized optimizer."
      ]
    },
    {
      "metadata": {
        "id": "ZBDMVG2nVYe7",
        "colab_type": "code",
        "colab": {}
      },
      "cell_type": "code",
      "source": [
        "model_1.compile(loss=\"categorical_crossentropy\", optimizer=opt,\n",
        "\tmetrics=[\"accuracy\"])\n",
        " "
      ],
      "execution_count": 0,
      "outputs": []
    },
    {
      "metadata": {
        "id": "NXis-rn0AphX",
        "colab_type": "text"
      },
      "cell_type": "markdown",
      "source": [
        "Early Stopping is the feature where the training stops before the complete number of epochs are reached depending on the the decreasing performance of the model.\n",
        "\n",
        "ModelCheckpoint will save the model at each point. I will customize it to save only the best results."
      ]
    },
    {
      "metadata": {
        "id": "QNM8F-MSW8vD",
        "colab_type": "code",
        "colab": {}
      },
      "cell_type": "code",
      "source": [
        "es = keras.callbacks.EarlyStopping(monitor='val_loss', restore_best_weights=True, patience=5)"
      ],
      "execution_count": 0,
      "outputs": []
    },
    {
      "metadata": {
        "id": "v3XElgWXekjB",
        "colab_type": "code",
        "colab": {}
      },
      "cell_type": "code",
      "source": [
        "mp = keras.callbacks.ModelCheckpoint('weights_new.hdf5', monitor='val_loss', verbose=0, save_best_only=True, mode='auto', period=1)"
      ],
      "execution_count": 0,
      "outputs": []
    },
    {
      "metadata": {
        "id": "cmCYXEBqsXlh",
        "colab_type": "code",
        "outputId": "f02e6776-f03d-40d6-a517-b78f019c42bd",
        "colab": {
          "base_uri": "https://localhost:8080/",
          "height": 1445
        }
      },
      "cell_type": "code",
      "source": [
        "train[0] #Checking the values of the pixels in the 1st image"
      ],
      "execution_count": 0,
      "outputs": [
        {
          "output_type": "execute_result",
          "data": {
            "text/plain": [
              "array([[  0,   0,   0,   0,   0,   1,   0,   0,   0,   0,  41, 188, 103,\n",
              "         54,  48,  43,  87, 168, 133,  16,   0,   0,   0,   0,   0,   0,\n",
              "          0,   0],\n",
              "       [  0,   0,   0,   1,   0,   0,   0,  49, 136, 219, 216, 228, 236,\n",
              "        255, 255, 255, 255, 217, 215, 254, 231, 160,  45,   0,   0,   0,\n",
              "          0,   0],\n",
              "       [  0,   0,   0,   0,   0,  14, 176, 222, 224, 212, 203, 198, 196,\n",
              "        200, 215, 204, 202, 201, 201, 201, 209, 218, 224, 164,   0,   0,\n",
              "          0,   0],\n",
              "       [  0,   0,   0,   0,   0, 188, 219, 200, 198, 202, 198, 199, 199,\n",
              "        201, 196, 198, 198, 200, 200, 200, 200, 201, 200, 225,  41,   0,\n",
              "          0,   0],\n",
              "       [  0,   0,   0,   0,  51, 219, 199, 203, 203, 212, 238, 248, 250,\n",
              "        245, 249, 246, 247, 252, 248, 235, 207, 203, 203, 222, 140,   0,\n",
              "          0,   0],\n",
              "       [  0,   0,   0,   0, 116, 226, 206, 204, 207, 204, 101,  75,  47,\n",
              "         73,  48,  50,  45,  51,  63, 113, 222, 202, 206, 220, 224,   0,\n",
              "          0,   0],\n",
              "       [  0,   0,   0,   0, 200, 222, 209, 203, 215, 200,   0,  70,  98,\n",
              "          0, 103,  59,  68,  71,  49,   0, 219, 206, 214, 210, 250,  38,\n",
              "          0,   0],\n",
              "       [  0,   0,   0,   0, 247, 218, 212, 210, 215, 214,   0, 254, 243,\n",
              "        139, 255, 174, 251, 255, 205,   0, 215, 217, 214, 208, 220,  95,\n",
              "          0,   0],\n",
              "       [  0,   0,   0,  45, 226, 214, 214, 215, 224, 205,   0,  42,  35,\n",
              "         60,  16,  17,  12,  13,  70,   0, 189, 216, 212, 206, 212, 156,\n",
              "          0,   0],\n",
              "       [  0,   0,   0, 164, 235, 214, 211, 220, 216, 201,  52,  71,  89,\n",
              "         94,  83,  78,  70,  76,  92,  87, 206, 207, 222, 213, 219, 208,\n",
              "          0,   0],\n",
              "       [  0,   0,   0, 106, 187, 223, 237, 248, 211, 198, 252, 250, 248,\n",
              "        245, 248, 252, 253, 250, 252, 239, 201, 212, 225, 215, 193, 113,\n",
              "          0,   0],\n",
              "       [  0,   0,   0,   0,   0,  17,  54, 159, 222, 193, 208, 192, 197,\n",
              "        200, 200, 200, 200, 201, 203, 195, 210, 165,   0,   0,   0,   0,\n",
              "          0,   0],\n",
              "       [  0,   0,   0,   0,   0,   0,   0,  47, 225, 192, 214, 203, 206,\n",
              "        204, 204, 205, 206, 204, 212, 197, 218, 107,   0,   0,   0,   0,\n",
              "          0,   0],\n",
              "       [  0,   0,   0,   0,   1,   6,   0,  46, 212, 195, 212, 202, 206,\n",
              "        205, 204, 205, 206, 204, 212, 200, 218,  91,   0,   3,   1,   0,\n",
              "          0,   0],\n",
              "       [  0,   0,   0,   0,   0,   1,   0,  11, 197, 199, 205, 202, 205,\n",
              "        206, 204, 205, 207, 204, 205, 205, 218,  77,   0,   5,   0,   0,\n",
              "          0,   0],\n",
              "       [  0,   0,   0,   0,   0,   3,   0,   2, 191, 198, 201, 205, 206,\n",
              "        205, 205, 206, 209, 206, 199, 209, 219,  74,   0,   5,   0,   0,\n",
              "          0,   0],\n",
              "       [  0,   0,   0,   0,   0,   2,   0,   0, 188, 197, 200, 207, 207,\n",
              "        204, 207, 207, 210, 208, 198, 207, 221,  72,   0,   4,   0,   0,\n",
              "          0,   0],\n",
              "       [  0,   0,   0,   0,   0,   2,   0,   0, 215, 198, 203, 206, 208,\n",
              "        205, 207, 207, 210, 208, 200, 202, 222,  75,   0,   4,   0,   0,\n",
              "          0,   0],\n",
              "       [  0,   0,   0,   0,   0,   1,   0,   0, 212, 198, 209, 206, 209,\n",
              "        206, 208, 207, 211, 206, 205, 198, 221,  80,   0,   3,   0,   0,\n",
              "          0,   0],\n",
              "       [  0,   0,   0,   0,   0,   1,   0,   0, 204, 201, 205, 208, 207,\n",
              "        205, 211, 205, 210, 210, 209, 195, 221,  96,   0,   3,   0,   0,\n",
              "          0,   0],\n",
              "       [  0,   0,   0,   0,   0,   1,   0,   0, 202, 201, 205, 209, 207,\n",
              "        205, 213, 206, 210, 209, 210, 194, 217, 105,   0,   2,   0,   0,\n",
              "          0,   0],\n",
              "       [  0,   0,   0,   0,   0,   1,   0,   0, 204, 204, 205, 208, 207,\n",
              "        205, 215, 207, 210, 208, 211, 193, 213, 115,   0,   2,   0,   0,\n",
              "          0,   0],\n",
              "       [  0,   0,   0,   0,   0,   0,   0,   0, 204, 207, 207, 208, 206,\n",
              "        206, 215, 210, 210, 207, 212, 195, 210, 118,   0,   2,   0,   0,\n",
              "          0,   0],\n",
              "       [  0,   0,   0,   0,   0,   1,   0,   0, 198, 208, 208, 208, 204,\n",
              "        207, 212, 212, 210, 207, 211, 196, 207, 121,   0,   1,   0,   0,\n",
              "          0,   0],\n",
              "       [  0,   0,   0,   0,   0,   1,   0,   0, 198, 210, 207, 208, 206,\n",
              "        209, 213, 212, 211, 207, 210, 197, 207, 124,   0,   1,   0,   0,\n",
              "          0,   0],\n",
              "       [  0,   0,   0,   0,   0,   0,   0,   0, 172, 210, 203, 201, 199,\n",
              "        204, 207, 205, 204, 201, 205, 197, 206, 127,   0,   0,   0,   0,\n",
              "          0,   0],\n",
              "       [  0,   0,   0,   0,   0,   0,   0,   0, 188, 221, 214, 234, 236,\n",
              "        238, 244, 244, 244, 240, 243, 214, 224, 162,   0,   2,   0,   0,\n",
              "          0,   0],\n",
              "       [  0,   0,   0,   0,   0,   1,   0,   0, 139, 146, 130, 135, 135,\n",
              "        137, 125, 124, 125, 121, 119, 114, 130,  76,   0,   0,   0,   0,\n",
              "          0,   0]])"
            ]
          },
          "metadata": {
            "tags": []
          },
          "execution_count": 27
        }
      ]
    },
    {
      "metadata": {
        "id": "4AQDnriBA94R",
        "colab_type": "text"
      },
      "cell_type": "markdown",
      "source": [
        "It is known in Deep Learning that Neural Networks (specifically CNNs), works the best when input data is in the range 0 to 1. So, the all values are divided by 255 (in both train and test dataset)."
      ]
    },
    {
      "metadata": {
        "id": "mKIBJWCDcLYg",
        "colab_type": "code",
        "colab": {}
      },
      "cell_type": "code",
      "source": [
        "train = train/255.0\n",
        "test = test/255.0"
      ],
      "execution_count": 0,
      "outputs": []
    },
    {
      "metadata": {
        "id": "yMOEQBB0shHK",
        "colab_type": "code",
        "outputId": "08de1bb1-2140-4262-f15b-922490a63e09",
        "colab": {
          "base_uri": "https://localhost:8080/",
          "height": 2873
        }
      },
      "cell_type": "code",
      "source": [
        "train[0] #Again the cheecking the values of the pixels in the 1st image"
      ],
      "execution_count": 30,
      "outputs": [
        {
          "output_type": "execute_result",
          "data": {
            "text/plain": [
              "array([[0.        , 0.        , 0.        , 0.        , 0.        ,\n",
              "        0.00392157, 0.        , 0.        , 0.        , 0.        ,\n",
              "        0.16078431, 0.7372549 , 0.40392157, 0.21176471, 0.18823529,\n",
              "        0.16862745, 0.34117647, 0.65882353, 0.52156863, 0.0627451 ,\n",
              "        0.        , 0.        , 0.        , 0.        , 0.        ,\n",
              "        0.        , 0.        , 0.        ],\n",
              "       [0.        , 0.        , 0.        , 0.00392157, 0.        ,\n",
              "        0.        , 0.        , 0.19215686, 0.53333333, 0.85882353,\n",
              "        0.84705882, 0.89411765, 0.9254902 , 1.        , 1.        ,\n",
              "        1.        , 1.        , 0.85098039, 0.84313725, 0.99607843,\n",
              "        0.90588235, 0.62745098, 0.17647059, 0.        , 0.        ,\n",
              "        0.        , 0.        , 0.        ],\n",
              "       [0.        , 0.        , 0.        , 0.        , 0.        ,\n",
              "        0.05490196, 0.69019608, 0.87058824, 0.87843137, 0.83137255,\n",
              "        0.79607843, 0.77647059, 0.76862745, 0.78431373, 0.84313725,\n",
              "        0.8       , 0.79215686, 0.78823529, 0.78823529, 0.78823529,\n",
              "        0.81960784, 0.85490196, 0.87843137, 0.64313725, 0.        ,\n",
              "        0.        , 0.        , 0.        ],\n",
              "       [0.        , 0.        , 0.        , 0.        , 0.        ,\n",
              "        0.7372549 , 0.85882353, 0.78431373, 0.77647059, 0.79215686,\n",
              "        0.77647059, 0.78039216, 0.78039216, 0.78823529, 0.76862745,\n",
              "        0.77647059, 0.77647059, 0.78431373, 0.78431373, 0.78431373,\n",
              "        0.78431373, 0.78823529, 0.78431373, 0.88235294, 0.16078431,\n",
              "        0.        , 0.        , 0.        ],\n",
              "       [0.        , 0.        , 0.        , 0.        , 0.2       ,\n",
              "        0.85882353, 0.78039216, 0.79607843, 0.79607843, 0.83137255,\n",
              "        0.93333333, 0.97254902, 0.98039216, 0.96078431, 0.97647059,\n",
              "        0.96470588, 0.96862745, 0.98823529, 0.97254902, 0.92156863,\n",
              "        0.81176471, 0.79607843, 0.79607843, 0.87058824, 0.54901961,\n",
              "        0.        , 0.        , 0.        ],\n",
              "       [0.        , 0.        , 0.        , 0.        , 0.45490196,\n",
              "        0.88627451, 0.80784314, 0.8       , 0.81176471, 0.8       ,\n",
              "        0.39607843, 0.29411765, 0.18431373, 0.28627451, 0.18823529,\n",
              "        0.19607843, 0.17647059, 0.2       , 0.24705882, 0.44313725,\n",
              "        0.87058824, 0.79215686, 0.80784314, 0.8627451 , 0.87843137,\n",
              "        0.        , 0.        , 0.        ],\n",
              "       [0.        , 0.        , 0.        , 0.        , 0.78431373,\n",
              "        0.87058824, 0.81960784, 0.79607843, 0.84313725, 0.78431373,\n",
              "        0.        , 0.2745098 , 0.38431373, 0.        , 0.40392157,\n",
              "        0.23137255, 0.26666667, 0.27843137, 0.19215686, 0.        ,\n",
              "        0.85882353, 0.80784314, 0.83921569, 0.82352941, 0.98039216,\n",
              "        0.14901961, 0.        , 0.        ],\n",
              "       [0.        , 0.        , 0.        , 0.        , 0.96862745,\n",
              "        0.85490196, 0.83137255, 0.82352941, 0.84313725, 0.83921569,\n",
              "        0.        , 0.99607843, 0.95294118, 0.54509804, 1.        ,\n",
              "        0.68235294, 0.98431373, 1.        , 0.80392157, 0.        ,\n",
              "        0.84313725, 0.85098039, 0.83921569, 0.81568627, 0.8627451 ,\n",
              "        0.37254902, 0.        , 0.        ],\n",
              "       [0.        , 0.        , 0.        , 0.17647059, 0.88627451,\n",
              "        0.83921569, 0.83921569, 0.84313725, 0.87843137, 0.80392157,\n",
              "        0.        , 0.16470588, 0.1372549 , 0.23529412, 0.0627451 ,\n",
              "        0.06666667, 0.04705882, 0.05098039, 0.2745098 , 0.        ,\n",
              "        0.74117647, 0.84705882, 0.83137255, 0.80784314, 0.83137255,\n",
              "        0.61176471, 0.        , 0.        ],\n",
              "       [0.        , 0.        , 0.        , 0.64313725, 0.92156863,\n",
              "        0.83921569, 0.82745098, 0.8627451 , 0.84705882, 0.78823529,\n",
              "        0.20392157, 0.27843137, 0.34901961, 0.36862745, 0.3254902 ,\n",
              "        0.30588235, 0.2745098 , 0.29803922, 0.36078431, 0.34117647,\n",
              "        0.80784314, 0.81176471, 0.87058824, 0.83529412, 0.85882353,\n",
              "        0.81568627, 0.        , 0.        ],\n",
              "       [0.        , 0.        , 0.        , 0.41568627, 0.73333333,\n",
              "        0.8745098 , 0.92941176, 0.97254902, 0.82745098, 0.77647059,\n",
              "        0.98823529, 0.98039216, 0.97254902, 0.96078431, 0.97254902,\n",
              "        0.98823529, 0.99215686, 0.98039216, 0.98823529, 0.9372549 ,\n",
              "        0.78823529, 0.83137255, 0.88235294, 0.84313725, 0.75686275,\n",
              "        0.44313725, 0.        , 0.        ],\n",
              "       [0.        , 0.        , 0.        , 0.        , 0.        ,\n",
              "        0.06666667, 0.21176471, 0.62352941, 0.87058824, 0.75686275,\n",
              "        0.81568627, 0.75294118, 0.77254902, 0.78431373, 0.78431373,\n",
              "        0.78431373, 0.78431373, 0.78823529, 0.79607843, 0.76470588,\n",
              "        0.82352941, 0.64705882, 0.        , 0.        , 0.        ,\n",
              "        0.        , 0.        , 0.        ],\n",
              "       [0.        , 0.        , 0.        , 0.        , 0.        ,\n",
              "        0.        , 0.        , 0.18431373, 0.88235294, 0.75294118,\n",
              "        0.83921569, 0.79607843, 0.80784314, 0.8       , 0.8       ,\n",
              "        0.80392157, 0.80784314, 0.8       , 0.83137255, 0.77254902,\n",
              "        0.85490196, 0.41960784, 0.        , 0.        , 0.        ,\n",
              "        0.        , 0.        , 0.        ],\n",
              "       [0.        , 0.        , 0.        , 0.        , 0.00392157,\n",
              "        0.02352941, 0.        , 0.18039216, 0.83137255, 0.76470588,\n",
              "        0.83137255, 0.79215686, 0.80784314, 0.80392157, 0.8       ,\n",
              "        0.80392157, 0.80784314, 0.8       , 0.83137255, 0.78431373,\n",
              "        0.85490196, 0.35686275, 0.        , 0.01176471, 0.00392157,\n",
              "        0.        , 0.        , 0.        ],\n",
              "       [0.        , 0.        , 0.        , 0.        , 0.        ,\n",
              "        0.00392157, 0.        , 0.04313725, 0.77254902, 0.78039216,\n",
              "        0.80392157, 0.79215686, 0.80392157, 0.80784314, 0.8       ,\n",
              "        0.80392157, 0.81176471, 0.8       , 0.80392157, 0.80392157,\n",
              "        0.85490196, 0.30196078, 0.        , 0.01960784, 0.        ,\n",
              "        0.        , 0.        , 0.        ],\n",
              "       [0.        , 0.        , 0.        , 0.        , 0.        ,\n",
              "        0.01176471, 0.        , 0.00784314, 0.74901961, 0.77647059,\n",
              "        0.78823529, 0.80392157, 0.80784314, 0.80392157, 0.80392157,\n",
              "        0.80784314, 0.81960784, 0.80784314, 0.78039216, 0.81960784,\n",
              "        0.85882353, 0.29019608, 0.        , 0.01960784, 0.        ,\n",
              "        0.        , 0.        , 0.        ],\n",
              "       [0.        , 0.        , 0.        , 0.        , 0.        ,\n",
              "        0.00784314, 0.        , 0.        , 0.7372549 , 0.77254902,\n",
              "        0.78431373, 0.81176471, 0.81176471, 0.8       , 0.81176471,\n",
              "        0.81176471, 0.82352941, 0.81568627, 0.77647059, 0.81176471,\n",
              "        0.86666667, 0.28235294, 0.        , 0.01568627, 0.        ,\n",
              "        0.        , 0.        , 0.        ],\n",
              "       [0.        , 0.        , 0.        , 0.        , 0.        ,\n",
              "        0.00784314, 0.        , 0.        , 0.84313725, 0.77647059,\n",
              "        0.79607843, 0.80784314, 0.81568627, 0.80392157, 0.81176471,\n",
              "        0.81176471, 0.82352941, 0.81568627, 0.78431373, 0.79215686,\n",
              "        0.87058824, 0.29411765, 0.        , 0.01568627, 0.        ,\n",
              "        0.        , 0.        , 0.        ],\n",
              "       [0.        , 0.        , 0.        , 0.        , 0.        ,\n",
              "        0.00392157, 0.        , 0.        , 0.83137255, 0.77647059,\n",
              "        0.81960784, 0.80784314, 0.81960784, 0.80784314, 0.81568627,\n",
              "        0.81176471, 0.82745098, 0.80784314, 0.80392157, 0.77647059,\n",
              "        0.86666667, 0.31372549, 0.        , 0.01176471, 0.        ,\n",
              "        0.        , 0.        , 0.        ],\n",
              "       [0.        , 0.        , 0.        , 0.        , 0.        ,\n",
              "        0.00392157, 0.        , 0.        , 0.8       , 0.78823529,\n",
              "        0.80392157, 0.81568627, 0.81176471, 0.80392157, 0.82745098,\n",
              "        0.80392157, 0.82352941, 0.82352941, 0.81960784, 0.76470588,\n",
              "        0.86666667, 0.37647059, 0.        , 0.01176471, 0.        ,\n",
              "        0.        , 0.        , 0.        ],\n",
              "       [0.        , 0.        , 0.        , 0.        , 0.        ,\n",
              "        0.00392157, 0.        , 0.        , 0.79215686, 0.78823529,\n",
              "        0.80392157, 0.81960784, 0.81176471, 0.80392157, 0.83529412,\n",
              "        0.80784314, 0.82352941, 0.81960784, 0.82352941, 0.76078431,\n",
              "        0.85098039, 0.41176471, 0.        , 0.00784314, 0.        ,\n",
              "        0.        , 0.        , 0.        ],\n",
              "       [0.        , 0.        , 0.        , 0.        , 0.        ,\n",
              "        0.00392157, 0.        , 0.        , 0.8       , 0.8       ,\n",
              "        0.80392157, 0.81568627, 0.81176471, 0.80392157, 0.84313725,\n",
              "        0.81176471, 0.82352941, 0.81568627, 0.82745098, 0.75686275,\n",
              "        0.83529412, 0.45098039, 0.        , 0.00784314, 0.        ,\n",
              "        0.        , 0.        , 0.        ],\n",
              "       [0.        , 0.        , 0.        , 0.        , 0.        ,\n",
              "        0.        , 0.        , 0.        , 0.8       , 0.81176471,\n",
              "        0.81176471, 0.81568627, 0.80784314, 0.80784314, 0.84313725,\n",
              "        0.82352941, 0.82352941, 0.81176471, 0.83137255, 0.76470588,\n",
              "        0.82352941, 0.4627451 , 0.        , 0.00784314, 0.        ,\n",
              "        0.        , 0.        , 0.        ],\n",
              "       [0.        , 0.        , 0.        , 0.        , 0.        ,\n",
              "        0.00392157, 0.        , 0.        , 0.77647059, 0.81568627,\n",
              "        0.81568627, 0.81568627, 0.8       , 0.81176471, 0.83137255,\n",
              "        0.83137255, 0.82352941, 0.81176471, 0.82745098, 0.76862745,\n",
              "        0.81176471, 0.4745098 , 0.        , 0.00392157, 0.        ,\n",
              "        0.        , 0.        , 0.        ],\n",
              "       [0.        , 0.        , 0.        , 0.        , 0.        ,\n",
              "        0.00392157, 0.        , 0.        , 0.77647059, 0.82352941,\n",
              "        0.81176471, 0.81568627, 0.80784314, 0.81960784, 0.83529412,\n",
              "        0.83137255, 0.82745098, 0.81176471, 0.82352941, 0.77254902,\n",
              "        0.81176471, 0.48627451, 0.        , 0.00392157, 0.        ,\n",
              "        0.        , 0.        , 0.        ],\n",
              "       [0.        , 0.        , 0.        , 0.        , 0.        ,\n",
              "        0.        , 0.        , 0.        , 0.6745098 , 0.82352941,\n",
              "        0.79607843, 0.78823529, 0.78039216, 0.8       , 0.81176471,\n",
              "        0.80392157, 0.8       , 0.78823529, 0.80392157, 0.77254902,\n",
              "        0.80784314, 0.49803922, 0.        , 0.        , 0.        ,\n",
              "        0.        , 0.        , 0.        ],\n",
              "       [0.        , 0.        , 0.        , 0.        , 0.        ,\n",
              "        0.        , 0.        , 0.        , 0.7372549 , 0.86666667,\n",
              "        0.83921569, 0.91764706, 0.9254902 , 0.93333333, 0.95686275,\n",
              "        0.95686275, 0.95686275, 0.94117647, 0.95294118, 0.83921569,\n",
              "        0.87843137, 0.63529412, 0.        , 0.00784314, 0.        ,\n",
              "        0.        , 0.        , 0.        ],\n",
              "       [0.        , 0.        , 0.        , 0.        , 0.        ,\n",
              "        0.00392157, 0.        , 0.        , 0.54509804, 0.57254902,\n",
              "        0.50980392, 0.52941176, 0.52941176, 0.5372549 , 0.49019608,\n",
              "        0.48627451, 0.49019608, 0.4745098 , 0.46666667, 0.44705882,\n",
              "        0.50980392, 0.29803922, 0.        , 0.        , 0.        ,\n",
              "        0.        , 0.        , 0.        ]])"
            ]
          },
          "metadata": {
            "tags": []
          },
          "execution_count": 30
        }
      ]
    },
    {
      "metadata": {
        "id": "ayUQRPaxBYWB",
        "colab_type": "text"
      },
      "cell_type": "markdown",
      "source": [
        "Now, as all other things are done, finally model is to be fit."
      ]
    },
    {
      "metadata": {
        "id": "t86Ul0z8VvzV",
        "colab_type": "code",
        "outputId": "b7e837e6-77af-4ab5-b2dd-e2bb498437a7",
        "colab": {
          "base_uri": "https://localhost:8080/",
          "height": 530
        }
      },
      "cell_type": "code",
      "source": [
        "model_1.fit(train.reshape(-1,28,28,1), train_y,\n",
        "\tvalidation_split=0.2, epochs=30, callbacks=[es, mp])"
      ],
      "execution_count": 0,
      "outputs": [
        {
          "output_type": "stream",
          "text": [
            "WARNING:tensorflow:From /usr/local/lib/python3.6/dist-packages/tensorflow/python/ops/math_ops.py:3066: to_int32 (from tensorflow.python.ops.math_ops) is deprecated and will be removed in a future version.\n",
            "Instructions for updating:\n",
            "Use tf.cast instead.\n",
            "Train on 6400 samples, validate on 1600 samples\n",
            "Epoch 1/30\n",
            "6400/6400 [==============================] - 7s 1ms/step - loss: 0.7358 - acc: 0.7947 - val_loss: 5.8141 - val_acc: 0.0100\n",
            "Epoch 2/30\n",
            "6400/6400 [==============================] - 3s 498us/step - loss: 0.5428 - acc: 0.8352 - val_loss: 2.3705 - val_acc: 0.1900\n",
            "Epoch 3/30\n",
            "6400/6400 [==============================] - 3s 496us/step - loss: 0.4501 - acc: 0.8613 - val_loss: 2.2723 - val_acc: 0.3444\n",
            "Epoch 4/30\n",
            "6400/6400 [==============================] - 3s 496us/step - loss: 0.4177 - acc: 0.8681 - val_loss: 2.1528 - val_acc: 0.1619\n",
            "Epoch 5/30\n",
            "6400/6400 [==============================] - 3s 494us/step - loss: 0.3883 - acc: 0.8777 - val_loss: 1.3725 - val_acc: 0.4863\n",
            "Epoch 6/30\n",
            "6400/6400 [==============================] - 3s 493us/step - loss: 0.3666 - acc: 0.8816 - val_loss: 1.9981 - val_acc: 0.3256\n",
            "Epoch 7/30\n",
            "6400/6400 [==============================] - 3s 490us/step - loss: 0.3479 - acc: 0.8877 - val_loss: 1.0511 - val_acc: 0.5906\n",
            "Epoch 8/30\n",
            "6400/6400 [==============================] - 3s 487us/step - loss: 0.3149 - acc: 0.8953 - val_loss: 2.4204 - val_acc: 0.2387\n",
            "Epoch 9/30\n",
            "6400/6400 [==============================] - 3s 487us/step - loss: 0.3240 - acc: 0.8948 - val_loss: 1.1691 - val_acc: 0.5706\n",
            "Epoch 10/30\n",
            "6400/6400 [==============================] - 3s 488us/step - loss: 0.2861 - acc: 0.9053 - val_loss: 1.8064 - val_acc: 0.3925\n",
            "Epoch 11/30\n",
            "6400/6400 [==============================] - 3s 491us/step - loss: 0.2967 - acc: 0.9008 - val_loss: 1.5028 - val_acc: 0.4481\n",
            "Epoch 12/30\n",
            "6400/6400 [==============================] - 3s 489us/step - loss: 0.2769 - acc: 0.9045 - val_loss: 2.2804 - val_acc: 0.3306\n"
          ],
          "name": "stdout"
        },
        {
          "output_type": "execute_result",
          "data": {
            "text/plain": [
              "<keras.callbacks.History at 0x7f30fe197128>"
            ]
          },
          "metadata": {
            "tags": []
          },
          "execution_count": 30
        }
      ]
    },
    {
      "metadata": {
        "id": "hNVEp6iTBkCf",
        "colab_type": "text"
      },
      "cell_type": "markdown",
      "source": [
        "This , does not seem to be a good model as validation accuracy is low.\n",
        "\n",
        "Another model which can be constructed is ...."
      ]
    },
    {
      "metadata": {
        "id": "K1_kHhdWdEwH",
        "colab_type": "code",
        "colab": {}
      },
      "cell_type": "code",
      "source": [
        "model_2 = Sequential()\n",
        "model_2.add(Conv2D(32, (3, 3), padding=\"same\",\n",
        "\t\t\tinput_shape=(28,28,1)))\n",
        "model_2.add(Activation(\"relu\"))\n",
        "model_2.add(BatchNormalization(axis=-1))\n",
        "model_2.add(Conv2D(32, (3, 3), padding=\"same\"))\n",
        "model_2.add(Activation(\"relu\"))\n",
        "model_2.add(BatchNormalization(axis=-1))\n",
        "model_2.add(MaxPooling2D(pool_size=(2, 2)))\n",
        "model_2.add(Dropout(0.25))\n",
        " \n",
        "\n",
        "model_2.add(Conv2D(64, (3, 3), padding=\"same\"))\n",
        "model_2.add(Activation(\"relu\"))\n",
        "model_2.add(BatchNormalization(axis=-1))\n",
        "model_2.add(Conv2D(64, (3, 3), padding=\"same\"))\n",
        "model_2.add(Activation(\"relu\"))\n",
        "model_2.add(BatchNormalization(axis=-1))\n",
        "model_2.add(MaxPooling2D(pool_size=(2, 2)))\n",
        "model_2.add(Dropout(0.25))\n",
        " \n",
        "\t\t\n",
        "model_2.add(Flatten())\n",
        "model_2.add(Dense(512))\n",
        "model_2.add(Activation(\"relu\"))\n",
        "model_2.add(BatchNormalization())\n",
        "model_2.add(Dropout(0.5))\n",
        " \n",
        "\t\t\n",
        "model_2.add(Dense(4))\n",
        "model_2.add(Activation(\"softmax\"))\n",
        " "
      ],
      "execution_count": 0,
      "outputs": []
    },
    {
      "metadata": {
        "id": "GsCgjIKbdhOF",
        "colab_type": "code",
        "colab": {}
      },
      "cell_type": "code",
      "source": [
        "model_2.compile(loss=\"categorical_crossentropy\", optimizer='adadelta',\n",
        "\tmetrics=[\"accuracy\"])"
      ],
      "execution_count": 0,
      "outputs": []
    },
    {
      "metadata": {
        "id": "vxQgqITndkil",
        "colab_type": "code",
        "outputId": "45a88173-9b70-4658-ae85-ee57b9735f85",
        "colab": {
          "base_uri": "https://localhost:8080/",
          "height": 547
        }
      },
      "cell_type": "code",
      "source": [
        "model_2.fit(train.reshape(-1,28,28,1), train_y,\n",
        "\tvalidation_split=0.2, epochs=30, callbacks=[es, mp])"
      ],
      "execution_count": 0,
      "outputs": [
        {
          "output_type": "stream",
          "text": [
            "Train on 6400 samples, validate on 1600 samples\n",
            "Epoch 1/30\n",
            "6400/6400 [==============================] - 6s 883us/step - loss: 0.5915 - acc: 0.8231 - val_loss: 2.2946 - val_acc: 0.3000\n",
            "Epoch 2/30\n",
            "6400/6400 [==============================] - 4s 656us/step - loss: 0.4100 - acc: 0.8697 - val_loss: 1.9213 - val_acc: 0.3269\n",
            "Epoch 3/30\n",
            "6400/6400 [==============================] - 4s 651us/step - loss: 0.3495 - acc: 0.8855 - val_loss: 2.9971 - val_acc: 0.2238\n",
            "Epoch 4/30\n",
            "6400/6400 [==============================] - 4s 646us/step - loss: 0.3193 - acc: 0.8959 - val_loss: 2.7260 - val_acc: 0.1906\n",
            "Epoch 5/30\n",
            "6400/6400 [==============================] - 4s 645us/step - loss: 0.2776 - acc: 0.9072 - val_loss: 1.1662 - val_acc: 0.5500\n",
            "Epoch 6/30\n",
            "6400/6400 [==============================] - 4s 646us/step - loss: 0.2695 - acc: 0.9100 - val_loss: 1.2110 - val_acc: 0.4919\n",
            "Epoch 7/30\n",
            "6400/6400 [==============================] - 4s 646us/step - loss: 0.2511 - acc: 0.9123 - val_loss: 1.6679 - val_acc: 0.4669\n",
            "Epoch 8/30\n",
            "6400/6400 [==============================] - 4s 647us/step - loss: 0.2327 - acc: 0.9186 - val_loss: 1.1266 - val_acc: 0.5800\n",
            "Epoch 9/30\n",
            "6400/6400 [==============================] - 4s 639us/step - loss: 0.2078 - acc: 0.9266 - val_loss: 0.7925 - val_acc: 0.6856\n",
            "Epoch 10/30\n",
            "6400/6400 [==============================] - 4s 645us/step - loss: 0.2046 - acc: 0.9292 - val_loss: 1.3610 - val_acc: 0.5194\n",
            "Epoch 11/30\n",
            "6400/6400 [==============================] - 4s 643us/step - loss: 0.1880 - acc: 0.9323 - val_loss: 1.0713 - val_acc: 0.6256\n",
            "Epoch 12/30\n",
            "6400/6400 [==============================] - 4s 642us/step - loss: 0.1864 - acc: 0.9327 - val_loss: 1.3132 - val_acc: 0.5506\n",
            "Epoch 13/30\n",
            "6400/6400 [==============================] - 4s 644us/step - loss: 0.1694 - acc: 0.9417 - val_loss: 1.5827 - val_acc: 0.4938\n",
            "Epoch 14/30\n",
            "6400/6400 [==============================] - 4s 648us/step - loss: 0.1610 - acc: 0.9408 - val_loss: 1.1323 - val_acc: 0.5869\n"
          ],
          "name": "stdout"
        },
        {
          "output_type": "execute_result",
          "data": {
            "text/plain": [
              "<keras.callbacks.History at 0x7f30fd3f34e0>"
            ]
          },
          "metadata": {
            "tags": []
          },
          "execution_count": 33
        }
      ]
    },
    {
      "metadata": {
        "id": "swM3zxTKB2X1",
        "colab_type": "text"
      },
      "cell_type": "markdown",
      "source": [
        "The result seems to be a bit satisfactory with this model. The optimizer used was adadelta whereby the learning rate is not constant."
      ]
    },
    {
      "metadata": {
        "id": "2gsM_6SgCJms",
        "colab_type": "text"
      },
      "cell_type": "markdown",
      "source": [
        "Now, 3rd model will be a bit simple  to check whether a simple model can outperfrom relatively complex models."
      ]
    },
    {
      "metadata": {
        "id": "JNdMXZzgghBt",
        "colab_type": "code",
        "colab": {}
      },
      "cell_type": "code",
      "source": [
        "model_3 = Sequential()\n",
        "model_3.add(Conv2D(32, (5, 5), padding=\"same\", input_shape=[28, 28, 1]))\n",
        "model_3.add(MaxPooling2D((2,2)))\n",
        "model_3.add(Conv2D(64, (5, 5), padding=\"same\"))\n",
        "model_3.add(MaxPooling2D((2,2)))\n",
        "model_3.add(Flatten())\n",
        "model_3.add(Dense(1024, activation='relu'))\n",
        "model_3.add(Dropout(0.5))\n",
        "model_3.add(Dense(4, activation='softmax'))\n"
      ],
      "execution_count": 0,
      "outputs": []
    },
    {
      "metadata": {
        "id": "XymOO5DOzpKY",
        "colab_type": "code",
        "colab": {}
      },
      "cell_type": "code",
      "source": [
        "model_3.compile(keras.optimizers.Adam(1e-4), loss='categorical_crossentropy', metrics=['accuracy'])"
      ],
      "execution_count": 0,
      "outputs": []
    },
    {
      "metadata": {
        "id": "Zdz2zGe1h1Yj",
        "colab_type": "code",
        "outputId": "943a09d5-5efd-48c4-af65-ed953d67c2aa",
        "colab": {
          "base_uri": "https://localhost:8080/",
          "height": 1091
        }
      },
      "cell_type": "code",
      "source": [
        "model_3.fit(train.reshape(-1,28,28,1), train_y, validation_split=0.10, batch_size=64, epochs=30, callbacks=[mp])"
      ],
      "execution_count": 0,
      "outputs": [
        {
          "output_type": "stream",
          "text": [
            "Train on 7200 samples, validate on 800 samples\n",
            "Epoch 1/30\n",
            "7200/7200 [==============================] - 2s 223us/step - loss: 0.1461 - acc: 0.9464 - val_loss: 0.7640 - val_acc: 0.7212\n",
            "Epoch 2/30\n",
            "7200/7200 [==============================] - 2s 210us/step - loss: 0.1455 - acc: 0.9489 - val_loss: 0.8278 - val_acc: 0.6800\n",
            "Epoch 3/30\n",
            "7200/7200 [==============================] - 2s 210us/step - loss: 0.1344 - acc: 0.9533 - val_loss: 0.7104 - val_acc: 0.7288\n",
            "Epoch 4/30\n",
            "7200/7200 [==============================] - 2s 212us/step - loss: 0.1335 - acc: 0.9526 - val_loss: 0.7574 - val_acc: 0.7087\n",
            "Epoch 5/30\n",
            "7200/7200 [==============================] - 2s 210us/step - loss: 0.1328 - acc: 0.9536 - val_loss: 0.7698 - val_acc: 0.7113\n",
            "Epoch 6/30\n",
            "7200/7200 [==============================] - 1s 208us/step - loss: 0.1147 - acc: 0.9625 - val_loss: 0.6289 - val_acc: 0.7650\n",
            "Epoch 7/30\n",
            "7200/7200 [==============================] - 2s 210us/step - loss: 0.1153 - acc: 0.9625 - val_loss: 0.8622 - val_acc: 0.6763\n",
            "Epoch 8/30\n",
            "7200/7200 [==============================] - 2s 209us/step - loss: 0.1086 - acc: 0.9642 - val_loss: 0.8399 - val_acc: 0.7100\n",
            "Epoch 9/30\n",
            "7200/7200 [==============================] - 2s 210us/step - loss: 0.1079 - acc: 0.9654 - val_loss: 0.7552 - val_acc: 0.7262\n",
            "Epoch 10/30\n",
            "7200/7200 [==============================] - 1s 208us/step - loss: 0.0984 - acc: 0.9700 - val_loss: 0.8168 - val_acc: 0.7000\n",
            "Epoch 11/30\n",
            "7200/7200 [==============================] - 2s 209us/step - loss: 0.0958 - acc: 0.9714 - val_loss: 0.8696 - val_acc: 0.7025\n",
            "Epoch 12/30\n",
            "7200/7200 [==============================] - 2s 210us/step - loss: 0.0898 - acc: 0.9717 - val_loss: 1.1589 - val_acc: 0.6338\n",
            "Epoch 13/30\n",
            "7200/7200 [==============================] - 2s 210us/step - loss: 0.0922 - acc: 0.9733 - val_loss: 0.8585 - val_acc: 0.7137\n",
            "Epoch 14/30\n",
            "7200/7200 [==============================] - 2s 211us/step - loss: 0.0842 - acc: 0.9732 - val_loss: 0.7877 - val_acc: 0.7375\n",
            "Epoch 15/30\n",
            "7200/7200 [==============================] - 2s 209us/step - loss: 0.0845 - acc: 0.9736 - val_loss: 0.8839 - val_acc: 0.7075\n",
            "Epoch 16/30\n",
            "7200/7200 [==============================] - 2s 211us/step - loss: 0.0786 - acc: 0.9758 - val_loss: 0.8839 - val_acc: 0.7100\n",
            "Epoch 17/30\n",
            "7200/7200 [==============================] - 2s 210us/step - loss: 0.0756 - acc: 0.9758 - val_loss: 1.1960 - val_acc: 0.6212\n",
            "Epoch 18/30\n",
            "7200/7200 [==============================] - 2s 211us/step - loss: 0.0701 - acc: 0.9797 - val_loss: 1.0705 - val_acc: 0.6613\n",
            "Epoch 19/30\n",
            "7200/7200 [==============================] - 2s 212us/step - loss: 0.0720 - acc: 0.9765 - val_loss: 0.7222 - val_acc: 0.7588\n",
            "Epoch 20/30\n",
            "7200/7200 [==============================] - 2s 211us/step - loss: 0.0650 - acc: 0.9810 - val_loss: 0.7421 - val_acc: 0.7600\n",
            "Epoch 21/30\n",
            "7200/7200 [==============================] - 2s 212us/step - loss: 0.0662 - acc: 0.9801 - val_loss: 0.8938 - val_acc: 0.7100\n",
            "Epoch 22/30\n",
            "7200/7200 [==============================] - 2s 211us/step - loss: 0.0584 - acc: 0.9826 - val_loss: 0.7699 - val_acc: 0.7475\n",
            "Epoch 23/30\n",
            "7200/7200 [==============================] - 2s 210us/step - loss: 0.0602 - acc: 0.9812 - val_loss: 1.0494 - val_acc: 0.6813\n",
            "Epoch 24/30\n",
            "7200/7200 [==============================] - 2s 210us/step - loss: 0.0567 - acc: 0.9831 - val_loss: 0.9611 - val_acc: 0.7250\n",
            "Epoch 25/30\n",
            "7200/7200 [==============================] - 2s 209us/step - loss: 0.0518 - acc: 0.9842 - val_loss: 0.9826 - val_acc: 0.6975\n",
            "Epoch 26/30\n",
            "7200/7200 [==============================] - 2s 209us/step - loss: 0.0478 - acc: 0.9878 - val_loss: 0.8917 - val_acc: 0.7325\n",
            "Epoch 27/30\n",
            "7200/7200 [==============================] - 2s 213us/step - loss: 0.0491 - acc: 0.9868 - val_loss: 0.9473 - val_acc: 0.7262\n",
            "Epoch 28/30\n",
            "7200/7200 [==============================] - 2s 212us/step - loss: 0.0453 - acc: 0.9885 - val_loss: 0.9022 - val_acc: 0.7512\n",
            "Epoch 29/30\n",
            "7200/7200 [==============================] - 2s 209us/step - loss: 0.0444 - acc: 0.9892 - val_loss: 1.4005 - val_acc: 0.6175\n",
            "Epoch 30/30\n",
            "7200/7200 [==============================] - 2s 212us/step - loss: 0.0408 - acc: 0.9903 - val_loss: 1.0034 - val_acc: 0.7125\n"
          ],
          "name": "stdout"
        },
        {
          "output_type": "execute_result",
          "data": {
            "text/plain": [
              "<keras.callbacks.History at 0x7f30fc87bda0>"
            ]
          },
          "metadata": {
            "tags": []
          },
          "execution_count": 59
        }
      ]
    },
    {
      "metadata": {
        "id": "0r76H3lcCWYs",
        "colab_type": "text"
      },
      "cell_type": "markdown",
      "source": [
        "The result here seems to be best among the 3. On top of that, due to the ModelCheckPoint callback, the best is weights are stored. \n",
        "\n",
        "But, there may be some improvement in the performance of the network if ~\n",
        "\n",
        "1} The architecture of the netwroks are changed a bit to include better drop-out options.\n",
        "\n",
        "2} Some randomness in the form of Data Augmentation is added in the dataset for more generalizability."
      ]
    },
    {
      "metadata": {
        "id": "sd60YiC1SmGE",
        "colab_type": "code",
        "colab": {}
      },
      "cell_type": "code",
      "source": [
        "cnn4 = Sequential()  # This is a CNN model with 4 CNN layers.\n",
        "cnn4.add(Conv2D(32, kernel_size=(3, 3), activation='relu', input_shape=[28,28,1]))\n",
        "cnn4.add(BatchNormalization())\n",
        "\n",
        "cnn4.add(Conv2D(32, kernel_size=(3, 3), activation='relu'))\n",
        "cnn4.add(BatchNormalization())\n",
        "cnn4.add(MaxPooling2D(pool_size=(2, 2)))\n",
        "cnn4.add(Dropout(0.25))\n",
        "\n",
        "cnn4.add(Conv2D(64, kernel_size=(3, 3), activation='relu'))\n",
        "cnn4.add(BatchNormalization())\n",
        "cnn4.add(Dropout(0.25))\n",
        "\n",
        "cnn4.add(Conv2D(128, kernel_size=(3, 3), activation='relu'))\n",
        "cnn4.add(BatchNormalization())\n",
        "cnn4.add(MaxPooling2D(pool_size=(2, 2)))\n",
        "cnn4.add(Dropout(0.25))\n",
        "\n",
        "cnn4.add(Flatten())\n",
        "\n",
        "cnn4.add(Dense(512, activation='relu'))\n",
        "cnn4.add(BatchNormalization())\n",
        "cnn4.add(Dropout(0.5))\n",
        "\n",
        "cnn4.add(Dense(128, activation='relu'))\n",
        "cnn4.add(BatchNormalization())\n",
        "cnn4.add(Dropout(0.5))\n",
        "\n",
        "cnn4.add(Dense(4, activation='softmax'))\n",
        "\n",
        "cnn4.compile(loss=keras.losses.categorical_crossentropy,\n",
        "              optimizer=keras.optimizers.Adam(),\n",
        "              metrics=['accuracy'])"
      ],
      "execution_count": 0,
      "outputs": []
    },
    {
      "metadata": {
        "id": "EJzmr6QhTGfg",
        "colab_type": "code",
        "colab": {
          "base_uri": "https://localhost:8080/",
          "height": 1717
        },
        "outputId": "ca02c0ac-11c5-42d4-d8db-81767a20db2e"
      },
      "cell_type": "code",
      "source": [
        "cnn4.fit(train.reshape(-1,28,28,1), train_y, validation_split=0.10, batch_size=64, epochs=50)"
      ],
      "execution_count": 31,
      "outputs": [
        {
          "output_type": "stream",
          "text": [
            "Train on 7200 samples, validate on 800 samples\n",
            "Epoch 1/50\n",
            "7200/7200 [==============================] - 5s 709us/step - loss: 0.8938 - acc: 0.6901 - val_loss: 1.3513 - val_acc: 0.3463\n",
            "Epoch 2/50\n",
            "7200/7200 [==============================] - 3s 407us/step - loss: 0.6160 - acc: 0.7685 - val_loss: 1.0701 - val_acc: 0.5400\n",
            "Epoch 3/50\n",
            "7200/7200 [==============================] - 3s 395us/step - loss: 0.5269 - acc: 0.7978 - val_loss: 0.6661 - val_acc: 0.6975\n",
            "Epoch 4/50\n",
            "7200/7200 [==============================] - 3s 389us/step - loss: 0.4747 - acc: 0.8187 - val_loss: 0.5850 - val_acc: 0.7200\n",
            "Epoch 5/50\n",
            "7200/7200 [==============================] - 3s 391us/step - loss: 0.4182 - acc: 0.8446 - val_loss: 0.8269 - val_acc: 0.6388\n",
            "Epoch 6/50\n",
            "7200/7200 [==============================] - 3s 386us/step - loss: 0.4054 - acc: 0.8451 - val_loss: 0.6803 - val_acc: 0.6713\n",
            "Epoch 7/50\n",
            "7200/7200 [==============================] - 3s 389us/step - loss: 0.3785 - acc: 0.8572 - val_loss: 0.4723 - val_acc: 0.7688\n",
            "Epoch 8/50\n",
            "7200/7200 [==============================] - 3s 385us/step - loss: 0.3510 - acc: 0.8693 - val_loss: 0.9625 - val_acc: 0.5663\n",
            "Epoch 9/50\n",
            "7200/7200 [==============================] - 3s 385us/step - loss: 0.3346 - acc: 0.8746 - val_loss: 0.6345 - val_acc: 0.7312\n",
            "Epoch 11/50\n",
            "7200/7200 [==============================] - 3s 381us/step - loss: 0.3056 - acc: 0.8854 - val_loss: 0.5616 - val_acc: 0.7725\n",
            "Epoch 12/50\n",
            "7200/7200 [==============================] - 3s 384us/step - loss: 0.2979 - acc: 0.8871 - val_loss: 0.4965 - val_acc: 0.7900\n",
            "Epoch 13/50\n",
            "7200/7200 [==============================] - 3s 382us/step - loss: 0.2894 - acc: 0.8925 - val_loss: 0.5631 - val_acc: 0.7725\n",
            "Epoch 14/50\n",
            "7200/7200 [==============================] - 3s 382us/step - loss: 0.2791 - acc: 0.8938 - val_loss: 0.5812 - val_acc: 0.7638\n",
            "Epoch 15/50\n",
            "7200/7200 [==============================] - 3s 380us/step - loss: 0.2636 - acc: 0.9017 - val_loss: 0.5005 - val_acc: 0.7975\n",
            "Epoch 16/50\n",
            "7200/7200 [==============================] - 3s 377us/step - loss: 0.2592 - acc: 0.9028 - val_loss: 0.5374 - val_acc: 0.7825\n",
            "Epoch 17/50\n",
            "7200/7200 [==============================] - 3s 382us/step - loss: 0.2433 - acc: 0.9111 - val_loss: 0.7582 - val_acc: 0.7188\n",
            "Epoch 18/50\n",
            "7200/7200 [==============================] - 3s 382us/step - loss: 0.2535 - acc: 0.9071 - val_loss: 0.4384 - val_acc: 0.8337\n",
            "Epoch 19/50\n",
            "7200/7200 [==============================] - 3s 382us/step - loss: 0.2379 - acc: 0.9132 - val_loss: 0.6633 - val_acc: 0.7488\n",
            "Epoch 20/50\n",
            "7200/7200 [==============================] - 3s 380us/step - loss: 0.2493 - acc: 0.8994 - val_loss: 0.7660 - val_acc: 0.7000\n",
            "Epoch 21/50\n",
            "7200/7200 [==============================] - 3s 383us/step - loss: 0.2257 - acc: 0.9189 - val_loss: 0.6299 - val_acc: 0.7675\n",
            "Epoch 22/50\n",
            "7200/7200 [==============================] - 3s 383us/step - loss: 0.2159 - acc: 0.9160 - val_loss: 0.4978 - val_acc: 0.8063\n",
            "Epoch 23/50\n",
            "7200/7200 [==============================] - 3s 390us/step - loss: 0.2112 - acc: 0.9185 - val_loss: 0.8584 - val_acc: 0.6987\n",
            "Epoch 24/50\n",
            "7200/7200 [==============================] - 3s 384us/step - loss: 0.2113 - acc: 0.9178 - val_loss: 0.4578 - val_acc: 0.8163\n",
            "Epoch 25/50\n",
            "7200/7200 [==============================] - 3s 381us/step - loss: 0.2069 - acc: 0.9226 - val_loss: 0.5115 - val_acc: 0.8100\n",
            "Epoch 26/50\n",
            "7200/7200 [==============================] - 3s 381us/step - loss: 0.1870 - acc: 0.9331 - val_loss: 0.5281 - val_acc: 0.8063\n",
            "Epoch 27/50\n",
            "7200/7200 [==============================] - 3s 381us/step - loss: 0.1909 - acc: 0.9308 - val_loss: 0.4668 - val_acc: 0.8300\n",
            "Epoch 28/50\n",
            "7200/7200 [==============================] - 3s 381us/step - loss: 0.1814 - acc: 0.9329 - val_loss: 0.7149 - val_acc: 0.7500\n",
            "Epoch 29/50\n",
            "7200/7200 [==============================] - 3s 382us/step - loss: 0.1826 - acc: 0.9326 - val_loss: 0.6416 - val_acc: 0.7675\n",
            "Epoch 30/50\n",
            "7200/7200 [==============================] - 3s 381us/step - loss: 0.1782 - acc: 0.9303 - val_loss: 0.8048 - val_acc: 0.7188\n",
            "Epoch 31/50\n",
            "7200/7200 [==============================] - 3s 381us/step - loss: 0.1835 - acc: 0.9325 - val_loss: 0.8116 - val_acc: 0.7325\n",
            "Epoch 32/50\n",
            "7200/7200 [==============================] - 3s 383us/step - loss: 0.1699 - acc: 0.9331 - val_loss: 0.4394 - val_acc: 0.8738\n",
            "Epoch 33/50\n",
            "7200/7200 [==============================] - 3s 383us/step - loss: 0.1644 - acc: 0.9383 - val_loss: 0.5552 - val_acc: 0.8113\n",
            "Epoch 34/50\n",
            "7200/7200 [==============================] - 3s 381us/step - loss: 0.1553 - acc: 0.9433 - val_loss: 0.6533 - val_acc: 0.7812\n",
            "Epoch 35/50\n",
            "7200/7200 [==============================] - 3s 382us/step - loss: 0.1504 - acc: 0.9444 - val_loss: 0.7217 - val_acc: 0.7612\n",
            "Epoch 36/50\n",
            "7200/7200 [==============================] - 3s 380us/step - loss: 0.1501 - acc: 0.9425 - val_loss: 0.6470 - val_acc: 0.7987\n",
            "Epoch 37/50\n",
            "7200/7200 [==============================] - 3s 380us/step - loss: 0.1444 - acc: 0.9456 - val_loss: 0.9711 - val_acc: 0.6975\n",
            "Epoch 38/50\n",
            "7200/7200 [==============================] - 3s 381us/step - loss: 0.1312 - acc: 0.9490 - val_loss: 0.6732 - val_acc: 0.7900\n",
            "Epoch 39/50\n",
            "7200/7200 [==============================] - 3s 378us/step - loss: 0.1414 - acc: 0.9514 - val_loss: 0.6278 - val_acc: 0.7788\n",
            "Epoch 40/50\n",
            "7200/7200 [==============================] - 3s 378us/step - loss: 0.1519 - acc: 0.9458 - val_loss: 0.5738 - val_acc: 0.8150\n",
            "Epoch 41/50\n",
            "7200/7200 [==============================] - 3s 378us/step - loss: 0.1546 - acc: 0.9414 - val_loss: 0.8529 - val_acc: 0.7325\n",
            "Epoch 42/50\n",
            "7200/7200 [==============================] - 3s 379us/step - loss: 0.1337 - acc: 0.9494 - val_loss: 0.7173 - val_acc: 0.7812\n",
            "Epoch 43/50\n",
            "7200/7200 [==============================] - 3s 382us/step - loss: 0.1262 - acc: 0.9544 - val_loss: 0.5643 - val_acc: 0.8263\n",
            "Epoch 44/50\n",
            "7200/7200 [==============================] - 3s 379us/step - loss: 0.1203 - acc: 0.9574 - val_loss: 0.8217 - val_acc: 0.7675\n",
            "Epoch 45/50\n",
            "7200/7200 [==============================] - 3s 378us/step - loss: 0.1116 - acc: 0.9585 - val_loss: 0.8148 - val_acc: 0.7662\n",
            "Epoch 46/50\n",
            "7200/7200 [==============================] - 3s 380us/step - loss: 0.1130 - acc: 0.9589 - val_loss: 0.6762 - val_acc: 0.8100\n",
            "Epoch 47/50\n",
            "7200/7200 [==============================] - 3s 376us/step - loss: 0.1130 - acc: 0.9589 - val_loss: 0.6905 - val_acc: 0.8025\n",
            "Epoch 48/50\n",
            "7200/7200 [==============================] - 3s 375us/step - loss: 0.1222 - acc: 0.9582 - val_loss: 1.0189 - val_acc: 0.7212\n",
            "Epoch 49/50\n",
            "7200/7200 [==============================] - 3s 376us/step - loss: 0.1102 - acc: 0.9607 - val_loss: 0.8722 - val_acc: 0.7488\n",
            "Epoch 50/50\n",
            "7200/7200 [==============================] - 3s 374us/step - loss: 0.1057 - acc: 0.9621 - val_loss: 0.6304 - val_acc: 0.8175\n"
          ],
          "name": "stdout"
        },
        {
          "output_type": "execute_result",
          "data": {
            "text/plain": [
              "<keras.callbacks.History at 0x7fb089d9beb8>"
            ]
          },
          "metadata": {
            "tags": []
          },
          "execution_count": 31
        }
      ]
    },
    {
      "metadata": {
        "id": "V0ayE4msVKAU",
        "colab_type": "code",
        "colab": {}
      },
      "cell_type": "code",
      "source": [
        "model = Sequential() # This is a short model with 3 CNN layers.\n",
        "\n",
        "model.add(Conv2D(32, kernel_size=(3, 3),\n",
        "                 activation='relu',\n",
        "                 kernel_initializer='he_normal',\n",
        "                 input_shape=(28,28, 1)))\n",
        "model.add(MaxPooling2D((2, 2)))\n",
        "\n",
        "model.add(Dropout(0.25))\n",
        "model.add(Conv2D(64, \n",
        "                 kernel_size=(3, 3), \n",
        "                 activation='relu'))\n",
        "model.add(MaxPooling2D(pool_size=(2, 2)))\n",
        "\n",
        "model.add(Dropout(0.25))\n",
        "model.add(Conv2D(128, (3, 3), activation='relu'))\n",
        "\n",
        "model.add(Dropout(0.4))\n",
        "model.add(Flatten())\n",
        "model.add(Dense(128, activation='relu'))\n",
        "\n",
        "model.add(Dropout(0.3))\n",
        "model.add(Dense(4, activation='softmax'))\n",
        "\n",
        "\n",
        "model.compile(loss=keras.losses.categorical_crossentropy,\n",
        "              optimizer='adadelta',\n",
        "              metrics=['accuracy'])"
      ],
      "execution_count": 0,
      "outputs": []
    },
    {
      "metadata": {
        "id": "UEmK8nXilcWF",
        "colab_type": "text"
      },
      "cell_type": "markdown",
      "source": [
        "ImageDataGenerator from Keras can be used for Data Augmentation\n"
      ]
    },
    {
      "metadata": {
        "id": "hBGZTWUBXTp8",
        "colab_type": "code",
        "colab": {}
      },
      "cell_type": "code",
      "source": [
        "from keras.preprocessing.image import ImageDataGenerator"
      ],
      "execution_count": 0,
      "outputs": []
    },
    {
      "metadata": {
        "id": "y3M4KhE6ZFFP",
        "colab_type": "code",
        "colab": {}
      },
      "cell_type": "code",
      "source": [
        "from sklearn.model_selection import train_test_split\n",
        "X_train, X_val, y_train, y_val = train_test_split(train, train_y, test_size=0.18, random_state=12345) \n",
        "\n",
        "# Above, I have split the dataset into training and validation datasets. Out of 8000 images, 1440 are in validation and 6560 are in training now."
      ],
      "execution_count": 0,
      "outputs": []
    },
    {
      "metadata": {
        "id": "8q8jhmU4ZRX9",
        "colab_type": "code",
        "colab": {}
      },
      "cell_type": "code",
      "source": [
        "gen = ImageDataGenerator(rotation_range=8, width_shift_range=0.08, shear_range=0.3,\n",
        "                               height_shift_range=0.08, zoom_range=0.08, horizontal_flip=True)\n",
        "batches = gen.flow(X_train.reshape(-1,28,28,1), y_train, batch_size=64)\n",
        "val = gen.flow(X_val.reshape(-1,28,28,1), y_val, batch_size=64)"
      ],
      "execution_count": 0,
      "outputs": []
    },
    {
      "metadata": {
        "id": "S8vyFQ3AVduM",
        "colab_type": "code",
        "colab": {
          "base_uri": "https://localhost:8080/",
          "height": 1734
        },
        "outputId": "6bd04a8b-ca1a-4b89-9cb6-960def38ea44"
      },
      "cell_type": "code",
      "source": [
        "model.fit_generator(batches,validation_data=val, epochs=50, validation_steps=1440/64 ,steps_per_epoch=6560/64)"
      ],
      "execution_count": 48,
      "outputs": [
        {
          "output_type": "stream",
          "text": [
            "Epoch 1/50\n",
            "103/102 [==============================] - 4s 36ms/step - loss: 0.3836 - acc: 0.8532 - val_loss: 0.3050 - val_acc: 0.8812\n",
            "Epoch 2/50\n",
            "103/102 [==============================] - 4s 34ms/step - loss: 0.3822 - acc: 0.8529 - val_loss: 0.3122 - val_acc: 0.8833\n",
            "Epoch 3/50\n",
            "103/102 [==============================] - 4s 34ms/step - loss: 0.3943 - acc: 0.8471 - val_loss: 0.3236 - val_acc: 0.8812\n",
            "Epoch 4/50\n",
            "103/102 [==============================] - 3s 34ms/step - loss: 0.3791 - acc: 0.8553 - val_loss: 0.3298 - val_acc: 0.8757\n",
            "Epoch 5/50\n",
            "103/102 [==============================] - 4s 35ms/step - loss: 0.3908 - acc: 0.8471 - val_loss: 0.3239 - val_acc: 0.8806\n",
            "Epoch 6/50\n",
            "103/102 [==============================] - 4s 34ms/step - loss: 0.3784 - acc: 0.8582 - val_loss: 0.3509 - val_acc: 0.8688\n",
            "Epoch 7/50\n",
            "103/102 [==============================] - 4s 34ms/step - loss: 0.3838 - acc: 0.8497 - val_loss: 0.3264 - val_acc: 0.8847\n",
            "Epoch 8/50\n",
            "103/102 [==============================] - 4s 34ms/step - loss: 0.3697 - acc: 0.8550 - val_loss: 0.3276 - val_acc: 0.8771\n",
            "Epoch 9/50\n",
            "103/102 [==============================] - 4s 34ms/step - loss: 0.3816 - acc: 0.8513 - val_loss: 0.3578 - val_acc: 0.8701\n",
            "Epoch 10/50\n",
            "103/102 [==============================] - 3s 34ms/step - loss: 0.3804 - acc: 0.8498 - val_loss: 0.3299 - val_acc: 0.8799\n",
            "Epoch 11/50\n",
            "103/102 [==============================] - 3s 34ms/step - loss: 0.3872 - acc: 0.8522 - val_loss: 0.3141 - val_acc: 0.8799\n",
            "Epoch 12/50\n",
            "103/102 [==============================] - 4s 35ms/step - loss: 0.3686 - acc: 0.8600 - val_loss: 0.3151 - val_acc: 0.8854\n",
            "Epoch 13/50\n",
            "103/102 [==============================] - 3s 34ms/step - loss: 0.3793 - acc: 0.8545 - val_loss: 0.3693 - val_acc: 0.8646\n",
            "Epoch 14/50\n",
            "103/102 [==============================] - 4s 35ms/step - loss: 0.3697 - acc: 0.8594 - val_loss: 0.3301 - val_acc: 0.8764\n",
            "Epoch 15/50\n",
            "103/102 [==============================] - 4s 34ms/step - loss: 0.3742 - acc: 0.8579 - val_loss: 0.3457 - val_acc: 0.8688\n",
            "Epoch 16/50\n",
            "103/102 [==============================] - 3s 34ms/step - loss: 0.3689 - acc: 0.8591 - val_loss: 0.3372 - val_acc: 0.8750\n",
            "Epoch 17/50\n",
            "103/102 [==============================] - 4s 34ms/step - loss: 0.3578 - acc: 0.8613 - val_loss: 0.3398 - val_acc: 0.8750\n",
            "Epoch 18/50\n",
            "103/102 [==============================] - 4s 35ms/step - loss: 0.3647 - acc: 0.8612 - val_loss: 0.3282 - val_acc: 0.8785\n",
            "Epoch 19/50\n",
            "103/102 [==============================] - 4s 34ms/step - loss: 0.3716 - acc: 0.8532 - val_loss: 0.3445 - val_acc: 0.8764\n",
            "Epoch 20/50\n",
            "103/102 [==============================] - 4s 34ms/step - loss: 0.3557 - acc: 0.8654 - val_loss: 0.3320 - val_acc: 0.8792\n",
            "Epoch 21/50\n",
            "103/102 [==============================] - 4s 35ms/step - loss: 0.3668 - acc: 0.8609 - val_loss: 0.3300 - val_acc: 0.8757\n",
            "Epoch 22/50\n",
            "103/102 [==============================] - 4s 35ms/step - loss: 0.3596 - acc: 0.8626 - val_loss: 0.3442 - val_acc: 0.8708\n",
            "Epoch 23/50\n",
            "103/102 [==============================] - 4s 34ms/step - loss: 0.3644 - acc: 0.8588 - val_loss: 0.3540 - val_acc: 0.8660\n",
            "Epoch 24/50\n",
            "103/102 [==============================] - 4s 34ms/step - loss: 0.3574 - acc: 0.8613 - val_loss: 0.3623 - val_acc: 0.8646\n",
            "Epoch 25/50\n",
            "103/102 [==============================] - 3s 34ms/step - loss: 0.3751 - acc: 0.8562 - val_loss: 0.3407 - val_acc: 0.8764\n",
            "Epoch 26/50\n",
            "103/102 [==============================] - 4s 34ms/step - loss: 0.3535 - acc: 0.8618 - val_loss: 0.3577 - val_acc: 0.8812\n",
            "Epoch 27/50\n",
            "103/102 [==============================] - 3s 34ms/step - loss: 0.3674 - acc: 0.8586 - val_loss: 0.3328 - val_acc: 0.8799\n",
            "Epoch 28/50\n",
            "103/102 [==============================] - 4s 34ms/step - loss: 0.3604 - acc: 0.8632 - val_loss: 0.4059 - val_acc: 0.8500\n",
            "Epoch 29/50\n",
            "103/102 [==============================] - 4s 35ms/step - loss: 0.3644 - acc: 0.8577 - val_loss: 0.3310 - val_acc: 0.8764\n",
            "Epoch 30/50\n",
            "103/102 [==============================] - 4s 35ms/step - loss: 0.3512 - acc: 0.8613 - val_loss: 0.3156 - val_acc: 0.8854\n",
            "Epoch 31/50\n",
            "103/102 [==============================] - 3s 34ms/step - loss: 0.3621 - acc: 0.8603 - val_loss: 0.3132 - val_acc: 0.8819\n",
            "Epoch 32/50\n",
            "103/102 [==============================] - 3s 34ms/step - loss: 0.3683 - acc: 0.8569 - val_loss: 0.3420 - val_acc: 0.8667\n",
            "Epoch 33/50\n",
            "103/102 [==============================] - 4s 34ms/step - loss: 0.3533 - acc: 0.8642 - val_loss: 0.3476 - val_acc: 0.8764\n",
            "Epoch 34/50\n",
            "103/102 [==============================] - 3s 34ms/step - loss: 0.3563 - acc: 0.8650 - val_loss: 0.3296 - val_acc: 0.8743\n",
            "Epoch 35/50\n",
            "103/102 [==============================] - 3s 34ms/step - loss: 0.3657 - acc: 0.8551 - val_loss: 0.3549 - val_acc: 0.8771\n",
            "Epoch 36/50\n",
            "103/102 [==============================] - 4s 34ms/step - loss: 0.3515 - acc: 0.8665 - val_loss: 0.3222 - val_acc: 0.8757\n",
            "Epoch 37/50\n",
            "103/102 [==============================] - 4s 34ms/step - loss: 0.3629 - acc: 0.8609 - val_loss: 0.3126 - val_acc: 0.8882\n",
            "Epoch 38/50\n",
            "103/102 [==============================] - 4s 34ms/step - loss: 0.3637 - acc: 0.8609 - val_loss: 0.3964 - val_acc: 0.8458\n",
            "Epoch 39/50\n",
            "103/102 [==============================] - 4s 35ms/step - loss: 0.3539 - acc: 0.8714 - val_loss: 0.3373 - val_acc: 0.8819\n",
            "Epoch 40/50\n",
            "103/102 [==============================] - 4s 35ms/step - loss: 0.3517 - acc: 0.8636 - val_loss: 0.3332 - val_acc: 0.8785\n",
            "Epoch 41/50\n",
            "103/102 [==============================] - 4s 36ms/step - loss: 0.3593 - acc: 0.8623 - val_loss: 0.3448 - val_acc: 0.8694\n",
            "Epoch 42/50\n",
            "103/102 [==============================] - 4s 34ms/step - loss: 0.3420 - acc: 0.8686 - val_loss: 0.3176 - val_acc: 0.8812\n",
            "Epoch 43/50\n",
            "103/102 [==============================] - 4s 34ms/step - loss: 0.3528 - acc: 0.8653 - val_loss: 0.3249 - val_acc: 0.8819\n",
            "Epoch 44/50\n",
            "103/102 [==============================] - 3s 34ms/step - loss: 0.3431 - acc: 0.8686 - val_loss: 0.3468 - val_acc: 0.8646\n",
            "Epoch 45/50\n",
            "103/102 [==============================] - 4s 34ms/step - loss: 0.3502 - acc: 0.8677 - val_loss: 0.3518 - val_acc: 0.8701\n",
            "Epoch 46/50\n",
            "103/102 [==============================] - 3s 34ms/step - loss: 0.3457 - acc: 0.8694 - val_loss: 0.3704 - val_acc: 0.8646\n",
            "Epoch 47/50\n",
            "103/102 [==============================] - 4s 34ms/step - loss: 0.3545 - acc: 0.8654 - val_loss: 0.3655 - val_acc: 0.8715\n",
            "Epoch 48/50\n",
            "103/102 [==============================] - 4s 34ms/step - loss: 0.3515 - acc: 0.8714 - val_loss: 0.3251 - val_acc: 0.8847\n",
            "Epoch 49/50\n",
            "103/102 [==============================] - 4s 34ms/step - loss: 0.3470 - acc: 0.8689 - val_loss: 0.3461 - val_acc: 0.8826\n",
            "Epoch 50/50\n",
            "103/102 [==============================] - 3s 34ms/step - loss: 0.3595 - acc: 0.8617 - val_loss: 0.3411 - val_acc: 0.8812\n"
          ],
          "name": "stdout"
        },
        {
          "output_type": "execute_result",
          "data": {
            "text/plain": [
              "<keras.callbacks.History at 0x7fb084050390>"
            ]
          },
          "metadata": {
            "tags": []
          },
          "execution_count": 48
        }
      ]
    },
    {
      "metadata": {
        "id": "jY7USz1yflrl",
        "colab_type": "code",
        "colab": {}
      },
      "cell_type": "code",
      "source": [
        "cnn = Sequential()\n",
        "    \n",
        "cnn.add(InputLayer(input_shape=(28,28,1)))\n",
        "    \n",
        "cnn.add(BatchNormalization())\n",
        "    \n",
        "    \n",
        "cnn.add(Conv2D(64, (4, 4), padding='same', activation='relu'))\n",
        "cnn.add(MaxPooling2D(pool_size=(2, 2)))\n",
        "\n",
        "    \n",
        "cnn.add(Dropout(0.1))\n",
        "    \n",
        "    \n",
        "cnn.add(Conv2D(64, (4, 4), activation='relu'))\n",
        "cnn.add(MaxPooling2D(pool_size=(2, 2)))\n",
        "\n",
        "    \n",
        "cnn.add(Dropout(0.3))\n",
        "\n",
        "    \n",
        "cnn.add(Flatten())\n",
        "\n",
        "    \n",
        "cnn.add(Dense(256, activation='relu'))\n",
        "\n",
        "    \n",
        "cnn.add(Dropout(0.5))\n",
        "    \n",
        "    \n",
        "cnn.add(Dense(64, activation='relu'))\n",
        "    \n",
        "    \n",
        "cnn.add(BatchNormalization())\n",
        "\n",
        "cnn.add(Dense(4, activation='softmax'))\n",
        "cnn.compile(loss='categorical_crossentropy',\n",
        "                optimizer='adam',\n",
        "                metrics=['accuracy'])"
      ],
      "execution_count": 0,
      "outputs": []
    },
    {
      "metadata": {
        "id": "0gJKnWc9iHZa",
        "colab_type": "code",
        "colab": {
          "base_uri": "https://localhost:8080/",
          "height": 1734
        },
        "outputId": "0be273cb-6ce1-4616-b729-dc29109bfb1b"
      },
      "cell_type": "code",
      "source": [
        "cnn.fit_generator(batches,validation_data=val, epochs=50, validation_steps=1440/64 ,steps_per_epoch=6560/64)"
      ],
      "execution_count": 56,
      "outputs": [
        {
          "output_type": "stream",
          "text": [
            "Epoch 1/50\n",
            "103/102 [==============================] - 5s 50ms/step - loss: 1.0660 - acc: 0.5425 - val_loss: 0.7730 - val_acc: 0.6840\n",
            "Epoch 2/50\n",
            "103/102 [==============================] - 4s 37ms/step - loss: 0.7356 - acc: 0.6978 - val_loss: 0.6826 - val_acc: 0.7215\n",
            "Epoch 3/50\n",
            "103/102 [==============================] - 4s 37ms/step - loss: 0.6788 - acc: 0.7198 - val_loss: 0.5923 - val_acc: 0.7583\n",
            "Epoch 4/50\n",
            "103/102 [==============================] - 4s 37ms/step - loss: 0.6486 - acc: 0.7321 - val_loss: 0.5489 - val_acc: 0.7694\n",
            "Epoch 5/50\n",
            "103/102 [==============================] - 4s 37ms/step - loss: 0.5959 - acc: 0.7611 - val_loss: 0.5525 - val_acc: 0.7757\n",
            "Epoch 6/50\n",
            "103/102 [==============================] - 4s 38ms/step - loss: 0.5742 - acc: 0.7700 - val_loss: 0.5047 - val_acc: 0.7944\n",
            "Epoch 7/50\n",
            "103/102 [==============================] - 4s 38ms/step - loss: 0.5461 - acc: 0.7776 - val_loss: 0.5225 - val_acc: 0.7847\n",
            "Epoch 8/50\n",
            "103/102 [==============================] - 4s 38ms/step - loss: 0.5466 - acc: 0.7778 - val_loss: 0.4415 - val_acc: 0.8264\n",
            "Epoch 9/50\n",
            "103/102 [==============================] - 4s 37ms/step - loss: 0.5186 - acc: 0.7929 - val_loss: 0.5089 - val_acc: 0.7910\n",
            "Epoch 10/50\n",
            "103/102 [==============================] - 4s 37ms/step - loss: 0.5154 - acc: 0.7940 - val_loss: 0.4631 - val_acc: 0.8167\n",
            "Epoch 11/50\n",
            "103/102 [==============================] - 4s 38ms/step - loss: 0.4967 - acc: 0.8045 - val_loss: 0.4677 - val_acc: 0.8139\n",
            "Epoch 12/50\n",
            "103/102 [==============================] - 4s 38ms/step - loss: 0.4957 - acc: 0.8037 - val_loss: 0.4336 - val_acc: 0.8243\n",
            "Epoch 13/50\n",
            "103/102 [==============================] - 4s 37ms/step - loss: 0.4952 - acc: 0.7981 - val_loss: 0.4613 - val_acc: 0.8167\n",
            "Epoch 14/50\n",
            "103/102 [==============================] - 4s 38ms/step - loss: 0.4702 - acc: 0.8137 - val_loss: 0.4073 - val_acc: 0.8438\n",
            "Epoch 15/50\n",
            "103/102 [==============================] - 4s 37ms/step - loss: 0.4639 - acc: 0.8183 - val_loss: 0.4619 - val_acc: 0.8229\n",
            "Epoch 16/50\n",
            "103/102 [==============================] - 4s 37ms/step - loss: 0.4761 - acc: 0.8095 - val_loss: 0.4045 - val_acc: 0.8451\n",
            "Epoch 17/50\n",
            "103/102 [==============================] - 4s 37ms/step - loss: 0.4716 - acc: 0.8055 - val_loss: 0.4284 - val_acc: 0.8285\n",
            "Epoch 18/50\n",
            "103/102 [==============================] - 4s 36ms/step - loss: 0.4503 - acc: 0.8239 - val_loss: 0.4145 - val_acc: 0.8451\n",
            "Epoch 19/50\n",
            "103/102 [==============================] - 4s 36ms/step - loss: 0.4375 - acc: 0.8242 - val_loss: 0.4157 - val_acc: 0.8403\n",
            "Epoch 20/50\n",
            "103/102 [==============================] - 4s 37ms/step - loss: 0.4517 - acc: 0.8171 - val_loss: 0.3928 - val_acc: 0.8431\n",
            "Epoch 21/50\n",
            "103/102 [==============================] - 4s 37ms/step - loss: 0.4404 - acc: 0.8257 - val_loss: 0.4411 - val_acc: 0.8278\n",
            "Epoch 22/50\n",
            "103/102 [==============================] - 4s 37ms/step - loss: 0.4288 - acc: 0.8334 - val_loss: 0.3682 - val_acc: 0.8611\n",
            "Epoch 23/50\n",
            "103/102 [==============================] - 4s 37ms/step - loss: 0.4299 - acc: 0.8328 - val_loss: 0.4117 - val_acc: 0.8347\n",
            "Epoch 24/50\n",
            "103/102 [==============================] - 4s 38ms/step - loss: 0.4315 - acc: 0.8281 - val_loss: 0.4120 - val_acc: 0.8368\n",
            "Epoch 25/50\n",
            "103/102 [==============================] - 4s 38ms/step - loss: 0.4232 - acc: 0.8340 - val_loss: 0.3603 - val_acc: 0.8576\n",
            "Epoch 26/50\n",
            "103/102 [==============================] - 4s 38ms/step - loss: 0.4278 - acc: 0.8289 - val_loss: 0.3937 - val_acc: 0.8438\n",
            "Epoch 27/50\n",
            "103/102 [==============================] - 4s 38ms/step - loss: 0.3959 - acc: 0.8447 - val_loss: 0.3805 - val_acc: 0.8569\n",
            "Epoch 28/50\n",
            "103/102 [==============================] - 4s 39ms/step - loss: 0.4091 - acc: 0.8397 - val_loss: 0.3464 - val_acc: 0.8708\n",
            "Epoch 29/50\n",
            "103/102 [==============================] - 4s 39ms/step - loss: 0.4142 - acc: 0.8366 - val_loss: 0.4573 - val_acc: 0.8285\n",
            "Epoch 30/50\n",
            "103/102 [==============================] - 4s 38ms/step - loss: 0.4179 - acc: 0.8393 - val_loss: 0.3927 - val_acc: 0.8486\n",
            "Epoch 31/50\n",
            "103/102 [==============================] - 4s 36ms/step - loss: 0.3944 - acc: 0.8434 - val_loss: 0.3736 - val_acc: 0.8556\n",
            "Epoch 32/50\n",
            "103/102 [==============================] - 4s 36ms/step - loss: 0.3952 - acc: 0.8439 - val_loss: 0.3783 - val_acc: 0.8583\n",
            "Epoch 33/50\n",
            "103/102 [==============================] - 4s 37ms/step - loss: 0.3893 - acc: 0.8438 - val_loss: 0.3804 - val_acc: 0.8562\n",
            "Epoch 34/50\n",
            "103/102 [==============================] - 4s 38ms/step - loss: 0.3986 - acc: 0.8442 - val_loss: 0.3750 - val_acc: 0.8590\n",
            "Epoch 35/50\n",
            "103/102 [==============================] - 4s 38ms/step - loss: 0.3776 - acc: 0.8486 - val_loss: 0.4456 - val_acc: 0.8326\n",
            "Epoch 36/50\n",
            "103/102 [==============================] - 4s 38ms/step - loss: 0.3991 - acc: 0.8381 - val_loss: 0.3645 - val_acc: 0.8583\n",
            "Epoch 37/50\n",
            "103/102 [==============================] - 4s 38ms/step - loss: 0.3752 - acc: 0.8551 - val_loss: 0.3807 - val_acc: 0.8583\n",
            "Epoch 38/50\n",
            "103/102 [==============================] - 4s 37ms/step - loss: 0.3701 - acc: 0.8573 - val_loss: 0.3863 - val_acc: 0.8514\n",
            "Epoch 39/50\n",
            "103/102 [==============================] - 4s 36ms/step - loss: 0.3831 - acc: 0.8500 - val_loss: 0.4209 - val_acc: 0.8424\n",
            "Epoch 40/50\n",
            "103/102 [==============================] - 4s 36ms/step - loss: 0.3884 - acc: 0.8472 - val_loss: 0.3380 - val_acc: 0.8708\n",
            "Epoch 41/50\n",
            "103/102 [==============================] - 4s 36ms/step - loss: 0.3537 - acc: 0.8618 - val_loss: 0.3523 - val_acc: 0.8708\n",
            "Epoch 42/50\n",
            "103/102 [==============================] - 4s 36ms/step - loss: 0.3746 - acc: 0.8562 - val_loss: 0.3815 - val_acc: 0.8514\n",
            "Epoch 43/50\n",
            "103/102 [==============================] - 4s 36ms/step - loss: 0.3654 - acc: 0.8585 - val_loss: 0.3784 - val_acc: 0.8507\n",
            "Epoch 44/50\n",
            "103/102 [==============================] - 4s 36ms/step - loss: 0.3594 - acc: 0.8624 - val_loss: 0.4208 - val_acc: 0.8444\n",
            "Epoch 45/50\n",
            "103/102 [==============================] - 4s 37ms/step - loss: 0.3688 - acc: 0.8566 - val_loss: 0.3376 - val_acc: 0.8764\n",
            "Epoch 46/50\n",
            "103/102 [==============================] - 4s 38ms/step - loss: 0.3571 - acc: 0.8621 - val_loss: 0.3637 - val_acc: 0.8681\n",
            "Epoch 47/50\n",
            "103/102 [==============================] - 4s 38ms/step - loss: 0.3655 - acc: 0.8538 - val_loss: 0.3725 - val_acc: 0.8556\n",
            "Epoch 48/50\n",
            "103/102 [==============================] - 4s 38ms/step - loss: 0.3542 - acc: 0.8613 - val_loss: 0.3381 - val_acc: 0.8715\n",
            "Epoch 49/50\n",
            "103/102 [==============================] - 4s 37ms/step - loss: 0.3558 - acc: 0.8606 - val_loss: 0.3926 - val_acc: 0.8542\n",
            "Epoch 50/50\n",
            "103/102 [==============================] - 4s 38ms/step - loss: 0.3422 - acc: 0.8656 - val_loss: 0.3502 - val_acc: 0.8736\n"
          ],
          "name": "stdout"
        },
        {
          "output_type": "execute_result",
          "data": {
            "text/plain": [
              "<keras.callbacks.History at 0x7fb0868a6978>"
            ]
          },
          "metadata": {
            "tags": []
          },
          "execution_count": 56
        }
      ]
    },
    {
      "metadata": {
        "id": "jKGaZEgpmGfX",
        "colab_type": "text"
      },
      "cell_type": "markdown",
      "source": [
        "The 'cnn4' model created above was not trained on augmented data. It may perform better in the new augmented dataset."
      ]
    },
    {
      "metadata": {
        "id": "XTmvzLbgjFNk",
        "colab_type": "code",
        "colab": {
          "base_uri": "https://localhost:8080/",
          "height": 1700
        },
        "outputId": "a5dedd6e-bf1b-46b8-9f62-042be95e4808"
      },
      "cell_type": "code",
      "source": [
        "cnn4.fit_generator(batches,validation_data=val, epochs=50, validation_steps=1440/64 ,steps_per_epoch=6560/64)"
      ],
      "execution_count": 58,
      "outputs": [
        {
          "output_type": "stream",
          "text": [
            "Epoch 1/50\n",
            "103/102 [==============================] - 4s 36ms/step - loss: 0.3193 - acc: 0.8788 - val_loss: 0.3216 - val_acc: 0.8778\n",
            "Epoch 2/50\n",
            "103/102 [==============================] - 4s 42ms/step - loss: 0.3160 - acc: 0.8811 - val_loss: 0.3318 - val_acc: 0.8681\n",
            "Epoch 3/50\n",
            "103/102 [==============================] - 4s 42ms/step - loss: 0.2955 - acc: 0.8890 - val_loss: 0.3102 - val_acc: 0.8910\n",
            "Epoch 4/50\n",
            "103/102 [==============================] - 4s 43ms/step - loss: 0.2918 - acc: 0.8905 - val_loss: 0.3256 - val_acc: 0.8750\n",
            "Epoch 5/50\n",
            "103/102 [==============================] - 4s 43ms/step - loss: 0.3042 - acc: 0.8849 - val_loss: 0.3073 - val_acc: 0.8833\n",
            "Epoch 6/50\n",
            "103/102 [==============================] - 4s 44ms/step - loss: 0.2947 - acc: 0.8885 - val_loss: 0.3040 - val_acc: 0.8826\n",
            "Epoch 7/50\n",
            "103/102 [==============================] - 4s 42ms/step - loss: 0.2988 - acc: 0.8858 - val_loss: 0.3146 - val_acc: 0.8757\n",
            "Epoch 8/50\n",
            "103/102 [==============================] - 4s 41ms/step - loss: 0.3098 - acc: 0.8818 - val_loss: 0.3466 - val_acc: 0.8688\n",
            "Epoch 9/50\n",
            "103/102 [==============================] - 4s 42ms/step - loss: 0.2830 - acc: 0.8952 - val_loss: 0.3282 - val_acc: 0.8792\n",
            "Epoch 10/50\n",
            "103/102 [==============================] - 4s 42ms/step - loss: 0.2913 - acc: 0.8906 - val_loss: 0.3012 - val_acc: 0.8924\n",
            "Epoch 11/50\n",
            "103/102 [==============================] - 4s 42ms/step - loss: 0.2878 - acc: 0.8877 - val_loss: 0.3094 - val_acc: 0.8903\n",
            "Epoch 12/50\n",
            "103/102 [==============================] - 4s 42ms/step - loss: 0.2832 - acc: 0.8934 - val_loss: 0.3523 - val_acc: 0.8688\n",
            "Epoch 13/50\n",
            "103/102 [==============================] - 4s 42ms/step - loss: 0.2897 - acc: 0.8887 - val_loss: 0.3143 - val_acc: 0.8854\n",
            "Epoch 14/50\n",
            "103/102 [==============================] - 4s 41ms/step - loss: 0.2771 - acc: 0.8981 - val_loss: 0.3008 - val_acc: 0.8965\n",
            "Epoch 15/50\n",
            "103/102 [==============================] - 4s 41ms/step - loss: 0.2829 - acc: 0.8920 - val_loss: 0.3160 - val_acc: 0.8875\n",
            "Epoch 16/50\n",
            "103/102 [==============================] - 4s 42ms/step - loss: 0.2842 - acc: 0.8952 - val_loss: 0.3336 - val_acc: 0.8694\n",
            "Epoch 17/50\n",
            "103/102 [==============================] - 4s 41ms/step - loss: 0.2799 - acc: 0.8944 - val_loss: 0.3127 - val_acc: 0.8889\n",
            "Epoch 18/50\n",
            "103/102 [==============================] - 4s 41ms/step - loss: 0.2877 - acc: 0.8874 - val_loss: 0.3272 - val_acc: 0.8819\n",
            "Epoch 19/50\n",
            "103/102 [==============================] - 4s 40ms/step - loss: 0.2803 - acc: 0.8909 - val_loss: 0.3528 - val_acc: 0.8764\n",
            "Epoch 20/50\n",
            "103/102 [==============================] - 4s 41ms/step - loss: 0.2837 - acc: 0.8935 - val_loss: 0.3008 - val_acc: 0.8840\n",
            "Epoch 21/50\n",
            "103/102 [==============================] - 4s 40ms/step - loss: 0.2821 - acc: 0.8926 - val_loss: 0.3258 - val_acc: 0.8799\n",
            "Epoch 22/50\n",
            "103/102 [==============================] - 4s 40ms/step - loss: 0.2806 - acc: 0.8958 - val_loss: 0.3021 - val_acc: 0.8854\n",
            "Epoch 23/50\n",
            "103/102 [==============================] - 4s 41ms/step - loss: 0.2744 - acc: 0.8949 - val_loss: 0.2994 - val_acc: 0.8840\n",
            "Epoch 24/50\n",
            "103/102 [==============================] - 4s 42ms/step - loss: 0.2770 - acc: 0.8956 - val_loss: 0.3292 - val_acc: 0.8771\n",
            "Epoch 25/50\n",
            "103/102 [==============================] - 4s 42ms/step - loss: 0.2718 - acc: 0.8987 - val_loss: 0.2921 - val_acc: 0.8868\n",
            "Epoch 26/50\n",
            "103/102 [==============================] - 4s 41ms/step - loss: 0.2762 - acc: 0.8982 - val_loss: 0.3058 - val_acc: 0.8861\n",
            "Epoch 27/50\n",
            "103/102 [==============================] - 4s 41ms/step - loss: 0.2762 - acc: 0.8976 - val_loss: 0.3088 - val_acc: 0.8875\n",
            "Epoch 29/50\n",
            "103/102 [==============================] - 4s 41ms/step - loss: 0.2780 - acc: 0.8947 - val_loss: 0.3301 - val_acc: 0.8812\n",
            "Epoch 30/50\n",
            "103/102 [==============================] - 4s 41ms/step - loss: 0.2708 - acc: 0.8990 - val_loss: 0.2994 - val_acc: 0.8889\n",
            "Epoch 31/50\n",
            "103/102 [==============================] - 4s 41ms/step - loss: 0.2716 - acc: 0.8969 - val_loss: 0.3437 - val_acc: 0.8792\n",
            "Epoch 32/50\n",
            "103/102 [==============================] - 4s 40ms/step - loss: 0.2620 - acc: 0.8990 - val_loss: 0.3050 - val_acc: 0.8840\n",
            "Epoch 33/50\n",
            "103/102 [==============================] - 4s 41ms/step - loss: 0.2635 - acc: 0.8994 - val_loss: 0.3156 - val_acc: 0.8812\n",
            "Epoch 34/50\n",
            "103/102 [==============================] - 4s 41ms/step - loss: 0.2658 - acc: 0.8968 - val_loss: 0.3670 - val_acc: 0.8576\n",
            "Epoch 35/50\n",
            "103/102 [==============================] - 4s 40ms/step - loss: 0.2556 - acc: 0.9029 - val_loss: 0.3120 - val_acc: 0.8875\n",
            "Epoch 36/50\n",
            "103/102 [==============================] - 4s 40ms/step - loss: 0.2588 - acc: 0.8985 - val_loss: 0.3139 - val_acc: 0.8785\n",
            "Epoch 37/50\n",
            "103/102 [==============================] - 4s 40ms/step - loss: 0.2637 - acc: 0.9026 - val_loss: 0.3169 - val_acc: 0.8889\n",
            "Epoch 38/50\n",
            "103/102 [==============================] - 4s 40ms/step - loss: 0.2701 - acc: 0.8967 - val_loss: 0.2986 - val_acc: 0.8924\n",
            "Epoch 39/50\n",
            "103/102 [==============================] - 4s 41ms/step - loss: 0.2500 - acc: 0.9090 - val_loss: 0.3004 - val_acc: 0.8903\n",
            "Epoch 40/50\n",
            "103/102 [==============================] - 4s 41ms/step - loss: 0.2680 - acc: 0.8985 - val_loss: 0.3199 - val_acc: 0.8875\n",
            "Epoch 41/50\n",
            "103/102 [==============================] - 4s 41ms/step - loss: 0.2628 - acc: 0.8996 - val_loss: 0.3121 - val_acc: 0.8833\n",
            "Epoch 42/50\n",
            "103/102 [==============================] - 4s 40ms/step - loss: 0.2618 - acc: 0.9032 - val_loss: 0.2891 - val_acc: 0.8944\n",
            "Epoch 43/50\n",
            "103/102 [==============================] - 4s 40ms/step - loss: 0.2609 - acc: 0.9016 - val_loss: 0.3202 - val_acc: 0.8799\n",
            "Epoch 44/50\n",
            "103/102 [==============================] - 4s 41ms/step - loss: 0.2519 - acc: 0.9046 - val_loss: 0.3250 - val_acc: 0.8778\n",
            "Epoch 45/50\n",
            "103/102 [==============================] - 4s 41ms/step - loss: 0.2593 - acc: 0.9053 - val_loss: 0.3285 - val_acc: 0.8840\n",
            "Epoch 46/50\n",
            "103/102 [==============================] - 4s 41ms/step - loss: 0.2507 - acc: 0.9064 - val_loss: 0.3410 - val_acc: 0.8819\n",
            "Epoch 47/50\n",
            "103/102 [==============================] - 4s 41ms/step - loss: 0.2407 - acc: 0.9081 - val_loss: 0.3260 - val_acc: 0.8903\n",
            "Epoch 48/50\n",
            "103/102 [==============================] - 4s 41ms/step - loss: 0.2535 - acc: 0.9049 - val_loss: 0.3223 - val_acc: 0.8833\n",
            "Epoch 49/50\n",
            "103/102 [==============================] - 4s 41ms/step - loss: 0.2453 - acc: 0.9061 - val_loss: 0.3334 - val_acc: 0.8799\n",
            "Epoch 50/50\n",
            "103/102 [==============================] - 4s 41ms/step - loss: 0.2557 - acc: 0.9067 - val_loss: 0.3059 - val_acc: 0.8806\n"
          ],
          "name": "stdout"
        },
        {
          "output_type": "execute_result",
          "data": {
            "text/plain": [
              "<keras.callbacks.History at 0x7fb0868a6cc0>"
            ]
          },
          "metadata": {
            "tags": []
          },
          "execution_count": 58
        }
      ]
    },
    {
      "metadata": {
        "id": "r9Yh9MBsmVPB",
        "colab_type": "text"
      },
      "cell_type": "markdown",
      "source": [
        "'model_3' although performed good among the initial 3 models but was overtrained.  \n",
        "It can be checked for efficiency once with the augmented data."
      ]
    },
    {
      "metadata": {
        "id": "MYfPTA0OnLo5",
        "colab_type": "code",
        "colab": {
          "base_uri": "https://localhost:8080/",
          "height": 1734
        },
        "outputId": "22a173b3-9579-4901-d2f1-96acdcb6dff0"
      },
      "cell_type": "code",
      "source": [
        "model_3.fit_generator(batches,validation_data=val, epochs=50, validation_steps=1440/64 ,steps_per_epoch=6560/64)"
      ],
      "execution_count": 61,
      "outputs": [
        {
          "output_type": "stream",
          "text": [
            "Epoch 1/50\n",
            "103/102 [==============================] - 4s 43ms/step - loss: 0.8769 - acc: 0.6329 - val_loss: 0.7435 - val_acc: 0.6868\n",
            "Epoch 2/50\n",
            "103/102 [==============================] - 4s 35ms/step - loss: 0.7240 - acc: 0.6943 - val_loss: 0.7282 - val_acc: 0.6854\n",
            "Epoch 3/50\n",
            "103/102 [==============================] - 4s 34ms/step - loss: 0.6883 - acc: 0.7172 - val_loss: 0.6798 - val_acc: 0.7174\n",
            "Epoch 4/50\n",
            "103/102 [==============================] - 4s 34ms/step - loss: 0.6587 - acc: 0.7282 - val_loss: 0.6282 - val_acc: 0.7417\n",
            "Epoch 5/50\n",
            "103/102 [==============================] - 4s 36ms/step - loss: 0.6329 - acc: 0.7400 - val_loss: 0.5995 - val_acc: 0.7431\n",
            "Epoch 6/50\n",
            "103/102 [==============================] - 4s 34ms/step - loss: 0.6146 - acc: 0.7464 - val_loss: 0.6174 - val_acc: 0.7271\n",
            "Epoch 7/50\n",
            "103/102 [==============================] - 4s 35ms/step - loss: 0.6048 - acc: 0.7546 - val_loss: 0.5948 - val_acc: 0.7556\n",
            "Epoch 8/50\n",
            "103/102 [==============================] - 4s 34ms/step - loss: 0.5836 - acc: 0.7636 - val_loss: 0.5971 - val_acc: 0.7569\n",
            "Epoch 9/50\n",
            "103/102 [==============================] - 4s 34ms/step - loss: 0.5783 - acc: 0.7667 - val_loss: 0.5520 - val_acc: 0.7743\n",
            "Epoch 10/50\n",
            "103/102 [==============================] - 4s 34ms/step - loss: 0.5674 - acc: 0.7734 - val_loss: 0.5675 - val_acc: 0.7639\n",
            "Epoch 11/50\n",
            "103/102 [==============================] - 4s 34ms/step - loss: 0.5447 - acc: 0.7844 - val_loss: 0.5378 - val_acc: 0.7833\n",
            "Epoch 12/50\n",
            "103/102 [==============================] - 4s 34ms/step - loss: 0.5443 - acc: 0.7764 - val_loss: 0.5467 - val_acc: 0.7792\n",
            "Epoch 13/50\n",
            "103/102 [==============================] - 4s 35ms/step - loss: 0.5259 - acc: 0.7882 - val_loss: 0.5353 - val_acc: 0.7833\n",
            "Epoch 14/50\n",
            "103/102 [==============================] - 4s 35ms/step - loss: 0.5222 - acc: 0.7944 - val_loss: 0.5114 - val_acc: 0.7903\n",
            "Epoch 15/50\n",
            "103/102 [==============================] - 4s 35ms/step - loss: 0.5129 - acc: 0.7952 - val_loss: 0.5119 - val_acc: 0.7882\n",
            "Epoch 16/50\n",
            "103/102 [==============================] - 4s 36ms/step - loss: 0.5092 - acc: 0.7964 - val_loss: 0.5122 - val_acc: 0.8014\n",
            "Epoch 17/50\n",
            "103/102 [==============================] - 4s 36ms/step - loss: 0.5018 - acc: 0.7976 - val_loss: 0.5080 - val_acc: 0.7917\n",
            "Epoch 18/50\n",
            "103/102 [==============================] - 4s 36ms/step - loss: 0.4906 - acc: 0.8031 - val_loss: 0.5034 - val_acc: 0.7924\n",
            "Epoch 19/50\n",
            "103/102 [==============================] - 4s 37ms/step - loss: 0.4889 - acc: 0.8084 - val_loss: 0.4791 - val_acc: 0.8181\n",
            "Epoch 20/50\n",
            "103/102 [==============================] - 4s 36ms/step - loss: 0.4834 - acc: 0.8064 - val_loss: 0.4688 - val_acc: 0.8090\n",
            "Epoch 21/50\n",
            "103/102 [==============================] - 4s 36ms/step - loss: 0.4661 - acc: 0.8169 - val_loss: 0.4896 - val_acc: 0.7993\n",
            "Epoch 22/50\n",
            "103/102 [==============================] - 4s 36ms/step - loss: 0.4677 - acc: 0.8136 - val_loss: 0.4539 - val_acc: 0.8132\n",
            "Epoch 23/50\n",
            "103/102 [==============================] - 4s 36ms/step - loss: 0.4650 - acc: 0.8154 - val_loss: 0.4666 - val_acc: 0.8194\n",
            "Epoch 24/50\n",
            "103/102 [==============================] - 4s 34ms/step - loss: 0.4612 - acc: 0.8201 - val_loss: 0.4561 - val_acc: 0.8132\n",
            "Epoch 25/50\n",
            "103/102 [==============================] - 4s 40ms/step - loss: 0.4503 - acc: 0.8233 - val_loss: 0.4669 - val_acc: 0.8097\n",
            "Epoch 26/50\n",
            "103/102 [==============================] - 4s 35ms/step - loss: 0.4491 - acc: 0.8278 - val_loss: 0.4813 - val_acc: 0.8167\n",
            "Epoch 27/50\n",
            "103/102 [==============================] - 4s 35ms/step - loss: 0.4589 - acc: 0.8231 - val_loss: 0.4329 - val_acc: 0.8285\n",
            "Epoch 28/50\n",
            "103/102 [==============================] - 4s 36ms/step - loss: 0.4399 - acc: 0.8231 - val_loss: 0.4450 - val_acc: 0.8187\n",
            "Epoch 29/50\n",
            "103/102 [==============================] - 4s 35ms/step - loss: 0.4402 - acc: 0.8236 - val_loss: 0.4653 - val_acc: 0.8139\n",
            "Epoch 30/50\n",
            "103/102 [==============================] - 4s 35ms/step - loss: 0.4412 - acc: 0.8208 - val_loss: 0.4579 - val_acc: 0.8222\n",
            "Epoch 31/50\n",
            "103/102 [==============================] - 4s 36ms/step - loss: 0.4375 - acc: 0.8268 - val_loss: 0.4462 - val_acc: 0.8243\n",
            "Epoch 32/50\n",
            "103/102 [==============================] - 4s 35ms/step - loss: 0.4359 - acc: 0.8316 - val_loss: 0.4469 - val_acc: 0.8215\n",
            "Epoch 33/50\n",
            "103/102 [==============================] - 4s 35ms/step - loss: 0.4179 - acc: 0.8371 - val_loss: 0.4326 - val_acc: 0.8243\n",
            "Epoch 34/50\n",
            "103/102 [==============================] - 4s 35ms/step - loss: 0.4208 - acc: 0.8293 - val_loss: 0.4231 - val_acc: 0.8319\n",
            "Epoch 35/50\n",
            "103/102 [==============================] - 4s 35ms/step - loss: 0.4118 - acc: 0.8380 - val_loss: 0.4349 - val_acc: 0.8326\n",
            "Epoch 36/50\n",
            "103/102 [==============================] - 4s 35ms/step - loss: 0.4089 - acc: 0.8383 - val_loss: 0.4505 - val_acc: 0.8181\n",
            "Epoch 37/50\n",
            "103/102 [==============================] - 4s 35ms/step - loss: 0.4226 - acc: 0.8339 - val_loss: 0.4161 - val_acc: 0.8292\n",
            "Epoch 38/50\n",
            "103/102 [==============================] - 4s 35ms/step - loss: 0.4209 - acc: 0.8381 - val_loss: 0.4154 - val_acc: 0.8306\n",
            "Epoch 39/50\n",
            "103/102 [==============================] - 4s 35ms/step - loss: 0.3976 - acc: 0.8401 - val_loss: 0.4312 - val_acc: 0.8278\n",
            "Epoch 40/50\n",
            "103/102 [==============================] - 4s 36ms/step - loss: 0.4069 - acc: 0.8394 - val_loss: 0.4179 - val_acc: 0.8389\n",
            "Epoch 41/50\n",
            "103/102 [==============================] - 4s 35ms/step - loss: 0.3998 - acc: 0.8481 - val_loss: 0.4291 - val_acc: 0.8278\n",
            "Epoch 42/50\n",
            "103/102 [==============================] - 4s 35ms/step - loss: 0.4015 - acc: 0.8436 - val_loss: 0.4145 - val_acc: 0.8354\n",
            "Epoch 43/50\n",
            "103/102 [==============================] - 4s 37ms/step - loss: 0.3986 - acc: 0.8416 - val_loss: 0.4435 - val_acc: 0.8368\n",
            "Epoch 44/50\n",
            "103/102 [==============================] - 4s 36ms/step - loss: 0.3949 - acc: 0.8427 - val_loss: 0.4008 - val_acc: 0.8382\n",
            "Epoch 45/50\n",
            "103/102 [==============================] - 4s 36ms/step - loss: 0.3941 - acc: 0.8441 - val_loss: 0.4369 - val_acc: 0.8347\n",
            "Epoch 46/50\n",
            "103/102 [==============================] - 4s 37ms/step - loss: 0.3946 - acc: 0.8387 - val_loss: 0.4086 - val_acc: 0.8306\n",
            "Epoch 47/50\n",
            "103/102 [==============================] - 4s 37ms/step - loss: 0.3984 - acc: 0.8413 - val_loss: 0.4055 - val_acc: 0.8438\n",
            "Epoch 48/50\n",
            "103/102 [==============================] - 4s 36ms/step - loss: 0.3840 - acc: 0.8448 - val_loss: 0.4279 - val_acc: 0.8375\n",
            "Epoch 49/50\n",
            "103/102 [==============================] - 4s 37ms/step - loss: 0.3896 - acc: 0.8450 - val_loss: 0.4020 - val_acc: 0.8431\n",
            "Epoch 50/50\n",
            "103/102 [==============================] - 4s 36ms/step - loss: 0.3883 - acc: 0.8477 - val_loss: 0.4007 - val_acc: 0.8410\n"
          ],
          "name": "stdout"
        },
        {
          "output_type": "execute_result",
          "data": {
            "text/plain": [
              "<keras.callbacks.History at 0x7fb08745b978>"
            ]
          },
          "metadata": {
            "tags": []
          },
          "execution_count": 61
        }
      ]
    },
    {
      "metadata": {
        "id": "O1O8ZO6aqmCX",
        "colab_type": "text"
      },
      "cell_type": "markdown",
      "source": [
        "So. now we have 4 models that perform good with the augmented data.\n",
        "\n",
        "\n",
        "\n",
        "\n",
        "\n",
        "\n",
        "---\n",
        "\n",
        "Model Name :   'model'\n",
        "\n",
        "Training Accuracy : 0.8617\n",
        "\n",
        "Validation Accuracy : 0.8812\n",
        "\n",
        "\n",
        "\n",
        "---\n",
        "\n",
        "Model Name :   'model_3'\n",
        "\n",
        "Training Accuracy : 0.8477\n",
        "\n",
        "Validation Accuracy : 0.8410\n",
        "\n",
        "\n",
        "\n",
        "---\n",
        "\n",
        "Model Name :   'cnn'\n",
        "\n",
        "Training Accuracy : 0.8656\n",
        "\n",
        "Validation Accuracy : 0.8736\n",
        "\n",
        "\n",
        "\n",
        "---\n",
        "\n",
        "Model Name :   'cnn4'\n",
        "\n",
        "Training Accuracy : 0.9067\n",
        "\n",
        "Validation Accuracy : 0.8806\n",
        "\n",
        "\n",
        "\n",
        "---\n",
        "\n",
        "\n",
        "It can be logically argued that it is very difficult for 2 neural networks to commit the same error. And a properly trained neurak network is hardly 'absolutely' wrong.   In the above mentioned models, the training and validation accuracies are  less because of the reason that the training and validation datasets are very small for the networks to perform their best.\n",
        "\n",
        "It is better if we take the predicted probabiltites of each of the models and then combine them by averaging and take final output.\n",
        "\n",
        "\n",
        "\n"
      ]
    },
    {
      "metadata": {
        "id": "vkCkaz8MovkS",
        "colab_type": "code",
        "colab": {}
      },
      "cell_type": "code",
      "source": [
        "pred_model = model.predict(test.reshape(-1, 28,28,1))"
      ],
      "execution_count": 0,
      "outputs": []
    },
    {
      "metadata": {
        "id": "6FtXocRA0mu4",
        "colab_type": "code",
        "colab": {}
      },
      "cell_type": "code",
      "source": [
        "pred_model_3 = model_3.predict(test.reshape(-1,28,28,1))"
      ],
      "execution_count": 0,
      "outputs": []
    },
    {
      "metadata": {
        "id": "fKNd6uVN0x4P",
        "colab_type": "code",
        "colab": {}
      },
      "cell_type": "code",
      "source": [
        "pred_cnn = cnn.predict(test.reshape(-1,28,28,1))"
      ],
      "execution_count": 0,
      "outputs": []
    },
    {
      "metadata": {
        "id": "Xf49M6BY05FL",
        "colab_type": "code",
        "colab": {}
      },
      "cell_type": "code",
      "source": [
        "pred_cnn4 = cnn4.predict(test.reshape(-1,28,28,1))"
      ],
      "execution_count": 0,
      "outputs": []
    },
    {
      "metadata": {
        "id": "RFLavYnz0-h0",
        "colab_type": "code",
        "colab": {}
      },
      "cell_type": "code",
      "source": [
        "k = pred_model + pred_model_3 + pred_cnn + pred_cnn4"
      ],
      "execution_count": 0,
      "outputs": []
    },
    {
      "metadata": {
        "id": "IkQ2DdFF1Ych",
        "colab_type": "code",
        "colab": {}
      },
      "cell_type": "code",
      "source": [
        "k = k/4"
      ],
      "execution_count": 0,
      "outputs": []
    },
    {
      "metadata": {
        "id": "wSh-RRLT1_1Z",
        "colab_type": "text"
      },
      "cell_type": "markdown",
      "source": [
        "The prediction will give us the probablilities of different classes. We need to select the class with maximum probability."
      ]
    },
    {
      "metadata": {
        "id": "RWv-kq1i115T",
        "colab_type": "code",
        "colab": {}
      },
      "cell_type": "code",
      "source": [
        "pred = np.argmax(k, axis=1)"
      ],
      "execution_count": 0,
      "outputs": []
    },
    {
      "metadata": {
        "id": "poQSOsrM2I2c",
        "colab_type": "code",
        "colab": {
          "base_uri": "https://localhost:8080/",
          "height": 34
        },
        "outputId": "9c120ec5-1b84-4eb2-9a98-cfaabf181518"
      },
      "cell_type": "code",
      "source": [
        "np.sum(pred==0)"
      ],
      "execution_count": 92,
      "outputs": [
        {
          "output_type": "execute_result",
          "data": {
            "text/plain": [
              "461"
            ]
          },
          "metadata": {
            "tags": []
          },
          "execution_count": 92
        }
      ]
    },
    {
      "metadata": {
        "id": "DyrIY-NJC0wl",
        "colab_type": "text"
      },
      "cell_type": "markdown",
      "source": [
        "Now, class 1 is changed back to class 6"
      ]
    },
    {
      "metadata": {
        "id": "1Lz_MrSI5uO-",
        "colab_type": "code",
        "colab": {}
      },
      "cell_type": "code",
      "source": [
        "for i in range(len(pred)):\n",
        "  if(pred[i]==1):\n",
        "    pred[i]=6\n",
        "  "
      ],
      "execution_count": 0,
      "outputs": []
    },
    {
      "metadata": {
        "id": "TRChBdJWC4--",
        "colab_type": "text"
      },
      "cell_type": "markdown",
      "source": [
        "Sample Submission file is loaded ."
      ]
    },
    {
      "metadata": {
        "id": "ieVvNUmm6r9G",
        "colab_type": "code",
        "colab": {}
      },
      "cell_type": "code",
      "source": [
        "import pandas as pd\n",
        "df = pd.read_csv('hitkul(sample_submission).csv')"
      ],
      "execution_count": 0,
      "outputs": []
    },
    {
      "metadata": {
        "id": "ceItA9dW6yVG",
        "colab_type": "code",
        "colab": {}
      },
      "cell_type": "code",
      "source": [
        "index1 = [i for i in range(2000)]"
      ],
      "execution_count": 0,
      "outputs": []
    },
    {
      "metadata": {
        "id": "_QXYAgZX7dN2",
        "colab_type": "code",
        "outputId": "f60c4115-b2ff-41ac-b5f4-5c4fb955997b",
        "colab": {
          "base_uri": "https://localhost:8080/",
          "height": 173
        }
      },
      "cell_type": "code",
      "source": [
        "df"
      ],
      "execution_count": 95,
      "outputs": [
        {
          "output_type": "execute_result",
          "data": {
            "text/html": [
              "<div>\n",
              "<style scoped>\n",
              "    .dataframe tbody tr th:only-of-type {\n",
              "        vertical-align: middle;\n",
              "    }\n",
              "\n",
              "    .dataframe tbody tr th {\n",
              "        vertical-align: top;\n",
              "    }\n",
              "\n",
              "    .dataframe thead th {\n",
              "        text-align: right;\n",
              "    }\n",
              "</style>\n",
              "<table border=\"1\" class=\"dataframe\">\n",
              "  <thead>\n",
              "    <tr style=\"text-align: right;\">\n",
              "      <th></th>\n",
              "      <th>image_index</th>\n",
              "      <th>class</th>\n",
              "    </tr>\n",
              "  </thead>\n",
              "  <tbody>\n",
              "    <tr>\n",
              "      <th>0</th>\n",
              "      <td>0</td>\n",
              "      <td>2</td>\n",
              "    </tr>\n",
              "    <tr>\n",
              "      <th>1</th>\n",
              "      <td>1</td>\n",
              "      <td>3</td>\n",
              "    </tr>\n",
              "    <tr>\n",
              "      <th>2</th>\n",
              "      <td>2</td>\n",
              "      <td>0</td>\n",
              "    </tr>\n",
              "    <tr>\n",
              "      <th>3</th>\n",
              "      <td>3</td>\n",
              "      <td>6</td>\n",
              "    </tr>\n",
              "  </tbody>\n",
              "</table>\n",
              "</div>"
            ],
            "text/plain": [
              "   image_index  class\n",
              "0            0      2\n",
              "1            1      3\n",
              "2            2      0\n",
              "3            3      6"
            ]
          },
          "metadata": {
            "tags": []
          },
          "execution_count": 95
        }
      ]
    },
    {
      "metadata": {
        "id": "LNPaKexu7ggy",
        "colab_type": "code",
        "colab": {}
      },
      "cell_type": "code",
      "source": [
        "prediction = pd.DataFrame(index1)"
      ],
      "execution_count": 0,
      "outputs": []
    },
    {
      "metadata": {
        "id": "DcIQqbTf8cA3",
        "colab_type": "code",
        "colab": {}
      },
      "cell_type": "code",
      "source": [
        "prediction.columns= ['image_index']"
      ],
      "execution_count": 0,
      "outputs": []
    },
    {
      "metadata": {
        "id": "KRpYL73Y81nZ",
        "colab_type": "code",
        "colab": {}
      },
      "cell_type": "code",
      "source": [
        "prediction['class'] = pred"
      ],
      "execution_count": 0,
      "outputs": []
    },
    {
      "metadata": {
        "id": "aZu1uEl184gC",
        "colab_type": "code",
        "outputId": "0e80725b-fbae-4fff-da3a-098bb3ee352f",
        "colab": {
          "base_uri": "https://localhost:8080/",
          "height": 204
        }
      },
      "cell_type": "code",
      "source": [
        "prediction.head()"
      ],
      "execution_count": 99,
      "outputs": [
        {
          "output_type": "execute_result",
          "data": {
            "text/html": [
              "<div>\n",
              "<style scoped>\n",
              "    .dataframe tbody tr th:only-of-type {\n",
              "        vertical-align: middle;\n",
              "    }\n",
              "\n",
              "    .dataframe tbody tr th {\n",
              "        vertical-align: top;\n",
              "    }\n",
              "\n",
              "    .dataframe thead th {\n",
              "        text-align: right;\n",
              "    }\n",
              "</style>\n",
              "<table border=\"1\" class=\"dataframe\">\n",
              "  <thead>\n",
              "    <tr style=\"text-align: right;\">\n",
              "      <th></th>\n",
              "      <th>image_index</th>\n",
              "      <th>class</th>\n",
              "    </tr>\n",
              "  </thead>\n",
              "  <tbody>\n",
              "    <tr>\n",
              "      <th>0</th>\n",
              "      <td>0</td>\n",
              "      <td>0</td>\n",
              "    </tr>\n",
              "    <tr>\n",
              "      <th>1</th>\n",
              "      <td>1</td>\n",
              "      <td>6</td>\n",
              "    </tr>\n",
              "    <tr>\n",
              "      <th>2</th>\n",
              "      <td>2</td>\n",
              "      <td>0</td>\n",
              "    </tr>\n",
              "    <tr>\n",
              "      <th>3</th>\n",
              "      <td>3</td>\n",
              "      <td>0</td>\n",
              "    </tr>\n",
              "    <tr>\n",
              "      <th>4</th>\n",
              "      <td>4</td>\n",
              "      <td>0</td>\n",
              "    </tr>\n",
              "  </tbody>\n",
              "</table>\n",
              "</div>"
            ],
            "text/plain": [
              "   image_index  class\n",
              "0            0      0\n",
              "1            1      6\n",
              "2            2      0\n",
              "3            3      0\n",
              "4            4      0"
            ]
          },
          "metadata": {
            "tags": []
          },
          "execution_count": 99
        }
      ]
    },
    {
      "metadata": {
        "id": "dyIktazUDGvL",
        "colab_type": "text"
      },
      "cell_type": "markdown",
      "source": [
        "Finally, the predictions are saved as csv file."
      ]
    },
    {
      "metadata": {
        "id": "6iunuLQO9V6A",
        "colab_type": "code",
        "colab": {}
      },
      "cell_type": "code",
      "source": [
        "prediction.to_csv('CV_predictions.csv', index=None)"
      ],
      "execution_count": 0,
      "outputs": []
    }
  ]
}