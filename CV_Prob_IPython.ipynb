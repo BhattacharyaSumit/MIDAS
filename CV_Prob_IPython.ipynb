{
  "nbformat": 4,
  "nbformat_minor": 0,
  "metadata": {
    "colab": {
      "name": "MIDAS_Comp-Vis.ipynb",
      "version": "0.3.2",
      "provenance": []
    },
    "kernelspec": {
      "name": "python3",
      "display_name": "Python 3"
    },
    "accelerator": "GPU"
  },
  "cells": [
    {
      "metadata": {
        "id": "gywZrI_HhMxC",
        "colab_type": "code",
        "outputId": "3b88000c-f5b2-4ddb-85b7-83b75a3b4de1",
        "colab": {
          "base_uri": "https://localhost:8080/",
          "height": 122
        }
      },
      "cell_type": "code",
      "source": [
        "from google.colab import drive   #Mouting the google drive\n",
        "drive.mount('/gdrive')"
      ],
      "execution_count": 1,
      "outputs": [
        {
          "output_type": "stream",
          "text": [
            "Go to this URL in a browser: https://accounts.google.com/o/oauth2/auth?client_id=947318989803-6bn6qk8qdgf4n4g3pfee6491hc0brc4i.apps.googleusercontent.com&redirect_uri=urn%3Aietf%3Awg%3Aoauth%3A2.0%3Aoob&scope=email%20https%3A%2F%2Fwww.googleapis.com%2Fauth%2Fdocs.test%20https%3A%2F%2Fwww.googleapis.com%2Fauth%2Fdrive%20https%3A%2F%2Fwww.googleapis.com%2Fauth%2Fdrive.photos.readonly%20https%3A%2F%2Fwww.googleapis.com%2Fauth%2Fpeopleapi.readonly&response_type=code\n",
            "\n",
            "Enter your authorization code:\n",
            "··········\n",
            "Mounted at /gdrive\n"
          ],
          "name": "stdout"
        }
      ]
    },
    {
      "metadata": {
        "id": "SHV7pp5v-YNj",
        "colab_type": "text"
      },
      "cell_type": "markdown",
      "source": [
        "As all the files are in pickle format , data has to be extracted from them"
      ]
    },
    {
      "metadata": {
        "id": "Ltqhje90hMvL",
        "colab_type": "code",
        "colab": {}
      },
      "cell_type": "code",
      "source": [
        "import pickle\n",
        "\n",
        "\n",
        "with open('/gdrive/My Drive/Copy of train_image.pkl', 'rb') as f:\n",
        "    data_train = pickle.load(f)"
      ],
      "execution_count": 0,
      "outputs": []
    },
    {
      "metadata": {
        "id": "qWP5ROcWiNvu",
        "colab_type": "code",
        "colab": {}
      },
      "cell_type": "code",
      "source": [
        "with open('/gdrive/My Drive/Copy of test_image.pkl', 'rb') as k:\n",
        "  data_test = pickle.load(k)"
      ],
      "execution_count": 0,
      "outputs": []
    },
    {
      "metadata": {
        "id": "hVanoX5FiZ8J",
        "colab_type": "code",
        "colab": {}
      },
      "cell_type": "code",
      "source": [
        "import numpy as np\n"
      ],
      "execution_count": 0,
      "outputs": []
    },
    {
      "metadata": {
        "id": "LWpQG-13-kCx",
        "colab_type": "text"
      },
      "cell_type": "markdown",
      "source": [
        "Now, the training data and the testing data are converted into list of arrays."
      ]
    },
    {
      "metadata": {
        "id": "vJuBr-0llOax",
        "colab_type": "code",
        "colab": {}
      },
      "cell_type": "code",
      "source": [
        "train_data =[]\n",
        "\n",
        "for i in range(len(data_train)):\n",
        "  aux = np.asarray(data_train[i])\n",
        "  aux = aux.reshape(28,28)\n",
        "  train_data.append(aux)"
      ],
      "execution_count": 0,
      "outputs": []
    },
    {
      "metadata": {
        "id": "uEgG2qJAlg0V",
        "colab_type": "code",
        "colab": {}
      },
      "cell_type": "code",
      "source": [
        "test_data =[]\n",
        "\n",
        "for i in range(len(data_test)):\n",
        "  aux = np.asarray(data_test[i])\n",
        "  aux = aux.reshape(28,28)\n",
        "  test_data.append(aux)"
      ],
      "execution_count": 0,
      "outputs": []
    },
    {
      "metadata": {
        "id": "FHKGr5MX-rob",
        "colab_type": "text"
      },
      "cell_type": "markdown",
      "source": [
        "Here, it becomes a bit necessary to visualize the data"
      ]
    },
    {
      "metadata": {
        "id": "ZMYA-CmKjIBb",
        "colab_type": "code",
        "colab": {}
      },
      "cell_type": "code",
      "source": [
        "arr = np.asarray(test_data[4])"
      ],
      "execution_count": 0,
      "outputs": []
    },
    {
      "metadata": {
        "id": "pRFDANV_kT4y",
        "colab_type": "code",
        "outputId": "1ade82e8-44b7-42d6-a47e-8a8ffb4a8924",
        "colab": {
          "base_uri": "https://localhost:8080/",
          "height": 347
        }
      },
      "cell_type": "code",
      "source": [
        "import matplotlib.pyplot as plt\n",
        "\n",
        "plt.imshow(arr)\n",
        "plt.show()"
      ],
      "execution_count": 113,
      "outputs": [
        {
          "output_type": "display_data",
          "data": {
            "image/png": "[encoded data removed]",
            "text/plain": [
              "<Figure size 576x396 with 1 Axes>"
            ]
          },
          "metadata": {
            "tags": []
          }
        }
      ]
    },
    {
      "metadata": {
        "id": "0WzsDlgg-xfr",
        "colab_type": "text"
      },
      "cell_type": "markdown",
      "source": [
        "The, label file is extracted"
      ]
    },
    {
      "metadata": {
        "id": "fFGe69l4kstA",
        "colab_type": "code",
        "colab": {}
      },
      "cell_type": "code",
      "source": [
        "with open('train_label.pkl', 'rb') as t:\n",
        "  lebels = pickle.load(t)"
      ],
      "execution_count": 0,
      "outputs": []
    },
    {
      "metadata": {
        "id": "tf_UzwMC-3li",
        "colab_type": "text"
      },
      "cell_type": "markdown",
      "source": [
        "Till here, I have just extracted the data. Now it modelling wll take place. For this, I will take 3 models and compare their peerformance."
      ]
    },
    {
      "metadata": {
        "id": "XGh6iuDulAnY",
        "colab_type": "code",
        "outputId": "02665bf8-909d-418a-8c70-d813e0da6b29",
        "colab": {
          "base_uri": "https://localhost:8080/",
          "height": 34
        }
      },
      "cell_type": "code",
      "source": [
        "import keras"
      ],
      "execution_count": 10,
      "outputs": [
        {
          "output_type": "stream",
          "text": [
            "Using TensorFlow backend.\n"
          ],
          "name": "stderr"
        }
      ]
    },
    {
      "metadata": {
        "id": "vhHtZ5o5lBO5",
        "colab_type": "code",
        "colab": {}
      },
      "cell_type": "code",
      "source": [
        "# Importing necessary modules\n",
        "from keras.models import Sequential\n",
        "from keras.layers.normalization import BatchNormalization\n",
        "from keras.layers.convolutional import Conv2D\n",
        "from keras.layers.convolutional import MaxPooling2D\n",
        "from keras.layers.core import Activation\n",
        "from keras.layers.core import Flatten\n",
        "from keras.layers.core import Dropout\n",
        "from keras.layers.core import Dense\n",
        "from keras import backend as K"
      ],
      "execution_count": 0,
      "outputs": []
    },
    {
      "metadata": {
        "id": "UlVct9ju_Sgq",
        "colab_type": "text"
      },
      "cell_type": "markdown",
      "source": [
        "Here , the 1st model is designed. The architecture of this model is very similar to VGG16 model but this has very few layers. I have not used the built-in VGG16  model because it accepts only coloured pictures but as plotted above, our dataset contains greyscale images."
      ]
    },
    {
      "metadata": {
        "id": "F6VO5edUNwvf",
        "colab_type": "code",
        "colab": {}
      },
      "cell_type": "code",
      "source": [
        "model = Sequential()"
      ],
      "execution_count": 0,
      "outputs": []
    },
    {
      "metadata": {
        "id": "tLlajYAQOLC1",
        "colab_type": "code",
        "outputId": "c76ea542-2471-49f8-b81a-6c07c829cbdd",
        "colab": {
          "base_uri": "https://localhost:8080/",
          "height": 139
        }
      },
      "cell_type": "code",
      "source": [
        "model.add(Conv2D(32, (3, 3), padding=\"same\",\n",
        "\t\t\tinput_shape=(28,28,1)))\n",
        "model.add(Activation(\"relu\"))\n",
        "model.add(BatchNormalization(axis=-1))\n",
        "model.add(Conv2D(32, (3, 3), padding=\"same\"))\n",
        "model.add(Activation(\"relu\"))\n",
        "model.add(BatchNormalization(axis=-1))\n",
        "model.add(MaxPooling2D(pool_size=(2, 2)))\n",
        "model.add(Dropout(0.25))\n",
        " \n",
        "\n",
        "model.add(Conv2D(64, (3, 3), padding=\"same\"))\n",
        "model.add(Activation(\"relu\"))\n",
        "model.add(BatchNormalization(axis=-1))\n",
        "model.add(Conv2D(64, (3, 3), padding=\"same\"))\n",
        "model.add(Activation(\"relu\"))\n",
        "model.add(BatchNormalization(axis=-1))\n",
        "model.add(MaxPooling2D(pool_size=(2, 2)))\n",
        "model.add(Dropout(0.25))\n",
        " \n",
        "\t\t\n",
        "model.add(Flatten())\n",
        "model.add(Dense(512))\n",
        "model.add(Activation(\"relu\"))\n",
        "model.add(BatchNormalization())\n",
        "model.add(Dropout(0.5))\n",
        " \n",
        "\t\t\n",
        "model.add(Dense(4))\n",
        "model.add(Activation(\"softmax\"))\n",
        " \n",
        "\t\t\n",
        "\t\t"
      ],
      "execution_count": 13,
      "outputs": [
        {
          "output_type": "stream",
          "text": [
            "WARNING:tensorflow:From /usr/local/lib/python3.6/dist-packages/tensorflow/python/framework/op_def_library.py:263: colocate_with (from tensorflow.python.framework.ops) is deprecated and will be removed in a future version.\n",
            "Instructions for updating:\n",
            "Colocations handled automatically by placer.\n",
            "WARNING:tensorflow:From /usr/local/lib/python3.6/dist-packages/keras/backend/tensorflow_backend.py:3445: calling dropout (from tensorflow.python.ops.nn_ops) with keep_prob is deprecated and will be removed in a future version.\n",
            "Instructions for updating:\n",
            "Please use `rate` instead of `keep_prob`. Rate should be set to `rate = 1 - keep_prob`.\n"
          ],
          "name": "stdout"
        }
      ]
    },
    {
      "metadata": {
        "id": "P-T0pUaqRGYr",
        "colab_type": "code",
        "colab": {}
      },
      "cell_type": "code",
      "source": [
        "from keras.optimizers import SGD"
      ],
      "execution_count": 0,
      "outputs": []
    },
    {
      "metadata": {
        "id": "SgMuAiQzQpd9",
        "colab_type": "code",
        "colab": {}
      },
      "cell_type": "code",
      "source": [
        "opt = SGD(lr=1e-2, momentum=0.9)"
      ],
      "execution_count": 0,
      "outputs": []
    },
    {
      "metadata": {
        "id": "2v89F4jp_4WI",
        "colab_type": "text"
      },
      "cell_type": "markdown",
      "source": [
        "Here, test and train data listare converted to numpy arrays "
      ]
    },
    {
      "metadata": {
        "id": "NJmEH5ZGRT0T",
        "colab_type": "code",
        "colab": {}
      },
      "cell_type": "code",
      "source": [
        "train = np.array(train_data)"
      ],
      "execution_count": 0,
      "outputs": []
    },
    {
      "metadata": {
        "id": "QbwN2N29RaJ3",
        "colab_type": "code",
        "colab": {}
      },
      "cell_type": "code",
      "source": [
        "test = np.array(test_data)"
      ],
      "execution_count": 0,
      "outputs": []
    },
    {
      "metadata": {
        "id": "dy1OgqxOR7NF",
        "colab_type": "code",
        "colab": {}
      },
      "cell_type": "code",
      "source": [
        "from keras.utils import np_utils"
      ],
      "execution_count": 0,
      "outputs": []
    },
    {
      "metadata": {
        "id": "IiRPpxj9SPry",
        "colab_type": "code",
        "outputId": "9451ff91-b7d4-4a41-ba54-1a29533dad10",
        "colab": {
          "base_uri": "https://localhost:8080/",
          "height": 282
        }
      },
      "cell_type": "code",
      "source": [
        "train_y = np_utils.to_categorical(lebels, 4)"
      ],
      "execution_count": 19,
      "outputs": [
        {
          "output_type": "error",
          "ename": "IndexError",
          "evalue": "ignored",
          "traceback": [
            "\u001b[0;31m---------------------------------------------------------------------------\u001b[0m",
            "\u001b[0;31mIndexError\u001b[0m                                Traceback (most recent call last)",
            "\u001b[0;32m<ipython-input-19-7c42bf7f0735>\u001b[0m in \u001b[0;36m<module>\u001b[0;34m()\u001b[0m\n\u001b[0;32m----> 1\u001b[0;31m \u001b[0mtrain_y\u001b[0m \u001b[0;34m=\u001b[0m \u001b[0mnp_utils\u001b[0m\u001b[0;34m.\u001b[0m\u001b[0mto_categorical\u001b[0m\u001b[0;34m(\u001b[0m\u001b[0mlebels\u001b[0m\u001b[0;34m,\u001b[0m \u001b[0;36m4\u001b[0m\u001b[0;34m)\u001b[0m\u001b[0;34m\u001b[0m\u001b[0;34m\u001b[0m\u001b[0m\n\u001b[0m",
            "\u001b[0;32m/usr/local/lib/python3.6/dist-packages/keras/utils/np_utils.py\u001b[0m in \u001b[0;36mto_categorical\u001b[0;34m(y, num_classes, dtype)\u001b[0m\n\u001b[1;32m     32\u001b[0m     \u001b[0mn\u001b[0m \u001b[0;34m=\u001b[0m \u001b[0my\u001b[0m\u001b[0;34m.\u001b[0m\u001b[0mshape\u001b[0m\u001b[0;34m[\u001b[0m\u001b[0;36m0\u001b[0m\u001b[0;34m]\u001b[0m\u001b[0;34m\u001b[0m\u001b[0;34m\u001b[0m\u001b[0m\n\u001b[1;32m     33\u001b[0m     \u001b[0mcategorical\u001b[0m \u001b[0;34m=\u001b[0m \u001b[0mnp\u001b[0m\u001b[0;34m.\u001b[0m\u001b[0mzeros\u001b[0m\u001b[0;34m(\u001b[0m\u001b[0;34m(\u001b[0m\u001b[0mn\u001b[0m\u001b[0;34m,\u001b[0m \u001b[0mnum_classes\u001b[0m\u001b[0;34m)\u001b[0m\u001b[0;34m,\u001b[0m \u001b[0mdtype\u001b[0m\u001b[0;34m=\u001b[0m\u001b[0mdtype\u001b[0m\u001b[0;34m)\u001b[0m\u001b[0;34m\u001b[0m\u001b[0;34m\u001b[0m\u001b[0m\n\u001b[0;32m---> 34\u001b[0;31m     \u001b[0mcategorical\u001b[0m\u001b[0;34m[\u001b[0m\u001b[0mnp\u001b[0m\u001b[0;34m.\u001b[0m\u001b[0marange\u001b[0m\u001b[0;34m(\u001b[0m\u001b[0mn\u001b[0m\u001b[0;34m)\u001b[0m\u001b[0;34m,\u001b[0m \u001b[0my\u001b[0m\u001b[0;34m]\u001b[0m \u001b[0;34m=\u001b[0m \u001b[0;36m1\u001b[0m\u001b[0;34m\u001b[0m\u001b[0;34m\u001b[0m\u001b[0m\n\u001b[0m\u001b[1;32m     35\u001b[0m     \u001b[0moutput_shape\u001b[0m \u001b[0;34m=\u001b[0m \u001b[0minput_shape\u001b[0m \u001b[0;34m+\u001b[0m \u001b[0;34m(\u001b[0m\u001b[0mnum_classes\u001b[0m\u001b[0;34m,\u001b[0m\u001b[0;34m)\u001b[0m\u001b[0;34m\u001b[0m\u001b[0;34m\u001b[0m\u001b[0m\n\u001b[1;32m     36\u001b[0m     \u001b[0mcategorical\u001b[0m \u001b[0;34m=\u001b[0m \u001b[0mnp\u001b[0m\u001b[0;34m.\u001b[0m\u001b[0mreshape\u001b[0m\u001b[0;34m(\u001b[0m\u001b[0mcategorical\u001b[0m\u001b[0;34m,\u001b[0m \u001b[0moutput_shape\u001b[0m\u001b[0;34m)\u001b[0m\u001b[0;34m\u001b[0m\u001b[0;34m\u001b[0m\u001b[0m\n",
            "\u001b[0;31mIndexError\u001b[0m: index 6 is out of bounds for axis 1 with size 4"
          ]
        }
      ]
    },
    {
      "metadata": {
        "id": "3UZKcmG9__1L",
        "colab_type": "text"
      },
      "cell_type": "markdown",
      "source": [
        "Here, seems to be a problem regarding index 6."
      ]
    },
    {
      "metadata": {
        "id": "BAQ4WvgFSd0L",
        "colab_type": "code",
        "colab": {}
      },
      "cell_type": "code",
      "source": [
        "count =0\n",
        "for i in range(len(lebels)):\n",
        "  if(lebels[i] == 6):\n",
        "      count = count+1"
      ],
      "execution_count": 0,
      "outputs": []
    },
    {
      "metadata": {
        "id": "fLBLRWXTVOck",
        "colab_type": "code",
        "outputId": "fc94d648-1937-405f-f805-fe8ccbfadab3",
        "colab": {
          "base_uri": "https://localhost:8080/",
          "height": 34
        }
      },
      "cell_type": "code",
      "source": [
        "count"
      ],
      "execution_count": 21,
      "outputs": [
        {
          "output_type": "execute_result",
          "data": {
            "text/plain": [
              "2000"
            ]
          },
          "metadata": {
            "tags": []
          },
          "execution_count": 21
        }
      ]
    },
    {
      "metadata": {
        "id": "G74pVN_JAFwh",
        "colab_type": "text"
      },
      "cell_type": "markdown",
      "source": [
        "  The classes present are- 0,2,3,6. But our model will predict classes from 0 to 4. So what I will do is that I will map all classes that are '6' and rename them as '1'."
      ]
    },
    {
      "metadata": {
        "id": "UfBeztt6Sz0p",
        "colab_type": "code",
        "colab": {}
      },
      "cell_type": "code",
      "source": [
        "for k in range(len(lebels)):\n",
        "  if(lebels[k] ==6):\n",
        "    lebels[k]=1"
      ],
      "execution_count": 0,
      "outputs": []
    },
    {
      "metadata": {
        "id": "CUd6AKxbU6kI",
        "colab_type": "code",
        "colab": {}
      },
      "cell_type": "code",
      "source": [
        "train_y = np_utils.to_categorical(lebels, 4)"
      ],
      "execution_count": 0,
      "outputs": []
    },
    {
      "metadata": {
        "id": "UX8-5KWFAdyd",
        "colab_type": "text"
      },
      "cell_type": "markdown",
      "source": [
        "Model compilation is required, I have used my customized optimizer."
      ]
    },
    {
      "metadata": {
        "id": "ZBDMVG2nVYe7",
        "colab_type": "code",
        "colab": {}
      },
      "cell_type": "code",
      "source": [
        "model.compile(loss=\"categorical_crossentropy\", optimizer=opt,\n",
        "\tmetrics=[\"accuracy\"])\n",
        " "
      ],
      "execution_count": 0,
      "outputs": []
    },
    {
      "metadata": {
        "id": "NXis-rn0AphX",
        "colab_type": "text"
      },
      "cell_type": "markdown",
      "source": [
        "Early Stopping is the feature where the training stops before the complete number of epochs are reached depending on the the decreasing performance of the model.\n",
        "\n",
        "ModelCheckpoint will save the model at each point. I will customize it to save only the best results."
      ]
    },
    {
      "metadata": {
        "id": "QNM8F-MSW8vD",
        "colab_type": "code",
        "colab": {}
      },
      "cell_type": "code",
      "source": [
        "es = keras.callbacks.EarlyStopping(monitor='val_loss', restore_best_weights=True, patience=5)"
      ],
      "execution_count": 0,
      "outputs": []
    },
    {
      "metadata": {
        "id": "v3XElgWXekjB",
        "colab_type": "code",
        "colab": {}
      },
      "cell_type": "code",
      "source": [
        "mp = keras.callbacks.ModelCheckpoint('weights_new.hdf5', monitor='val_loss', verbose=0, save_best_only=True, mode='auto', period=1)"
      ],
      "execution_count": 0,
      "outputs": []
    },
    {
      "metadata": {
        "id": "cmCYXEBqsXlh",
        "colab_type": "code",
        "colab": {
          "base_uri": "https://localhost:8080/",
          "height": 1445
        },
        "outputId": "f02e6776-f03d-40d6-a517-b78f019c42bd"
      },
      "cell_type": "code",
      "source": [
        "train[0]"
      ],
      "execution_count": 27,
      "outputs": [
        {
          "output_type": "execute_result",
          "data": {
            "text/plain": [
              "array([[  0,   0,   0,   0,   0,   1,   0,   0,   0,   0,  41, 188, 103,\n",
              "         54,  48,  43,  87, 168, 133,  16,   0,   0,   0,   0,   0,   0,\n",
              "          0,   0],\n",
              "       [  0,   0,   0,   1,   0,   0,   0,  49, 136, 219, 216, 228, 236,\n",
              "        255, 255, 255, 255, 217, 215, 254, 231, 160,  45,   0,   0,   0,\n",
              "          0,   0],\n",
              "       [  0,   0,   0,   0,   0,  14, 176, 222, 224, 212, 203, 198, 196,\n",
              "        200, 215, 204, 202, 201, 201, 201, 209, 218, 224, 164,   0,   0,\n",
              "          0,   0],\n",
              "       [  0,   0,   0,   0,   0, 188, 219, 200, 198, 202, 198, 199, 199,\n",
              "        201, 196, 198, 198, 200, 200, 200, 200, 201, 200, 225,  41,   0,\n",
              "          0,   0],\n",
              "       [  0,   0,   0,   0,  51, 219, 199, 203, 203, 212, 238, 248, 250,\n",
              "        245, 249, 246, 247, 252, 248, 235, 207, 203, 203, 222, 140,   0,\n",
              "          0,   0],\n",
              "       [  0,   0,   0,   0, 116, 226, 206, 204, 207, 204, 101,  75,  47,\n",
              "         73,  48,  50,  45,  51,  63, 113, 222, 202, 206, 220, 224,   0,\n",
              "          0,   0],\n",
              "       [  0,   0,   0,   0, 200, 222, 209, 203, 215, 200,   0,  70,  98,\n",
              "          0, 103,  59,  68,  71,  49,   0, 219, 206, 214, 210, 250,  38,\n",
              "          0,   0],\n",
              "       [  0,   0,   0,   0, 247, 218, 212, 210, 215, 214,   0, 254, 243,\n",
              "        139, 255, 174, 251, 255, 205,   0, 215, 217, 214, 208, 220,  95,\n",
              "          0,   0],\n",
              "       [  0,   0,   0,  45, 226, 214, 214, 215, 224, 205,   0,  42,  35,\n",
              "         60,  16,  17,  12,  13,  70,   0, 189, 216, 212, 206, 212, 156,\n",
              "          0,   0],\n",
              "       [  0,   0,   0, 164, 235, 214, 211, 220, 216, 201,  52,  71,  89,\n",
              "         94,  83,  78,  70,  76,  92,  87, 206, 207, 222, 213, 219, 208,\n",
              "          0,   0],\n",
              "       [  0,   0,   0, 106, 187, 223, 237, 248, 211, 198, 252, 250, 248,\n",
              "        245, 248, 252, 253, 250, 252, 239, 201, 212, 225, 215, 193, 113,\n",
              "          0,   0],\n",
              "       [  0,   0,   0,   0,   0,  17,  54, 159, 222, 193, 208, 192, 197,\n",
              "        200, 200, 200, 200, 201, 203, 195, 210, 165,   0,   0,   0,   0,\n",
              "          0,   0],\n",
              "       [  0,   0,   0,   0,   0,   0,   0,  47, 225, 192, 214, 203, 206,\n",
              "        204, 204, 205, 206, 204, 212, 197, 218, 107,   0,   0,   0,   0,\n",
              "          0,   0],\n",
              "       [  0,   0,   0,   0,   1,   6,   0,  46, 212, 195, 212, 202, 206,\n",
              "        205, 204, 205, 206, 204, 212, 200, 218,  91,   0,   3,   1,   0,\n",
              "          0,   0],\n",
              "       [  0,   0,   0,   0,   0,   1,   0,  11, 197, 199, 205, 202, 205,\n",
              "        206, 204, 205, 207, 204, 205, 205, 218,  77,   0,   5,   0,   0,\n",
              "          0,   0],\n",
              "       [  0,   0,   0,   0,   0,   3,   0,   2, 191, 198, 201, 205, 206,\n",
              "        205, 205, 206, 209, 206, 199, 209, 219,  74,   0,   5,   0,   0,\n",
              "          0,   0],\n",
              "       [  0,   0,   0,   0,   0,   2,   0,   0, 188, 197, 200, 207, 207,\n",
              "        204, 207, 207, 210, 208, 198, 207, 221,  72,   0,   4,   0,   0,\n",
              "          0,   0],\n",
              "       [  0,   0,   0,   0,   0,   2,   0,   0, 215, 198, 203, 206, 208,\n",
              "        205, 207, 207, 210, 208, 200, 202, 222,  75,   0,   4,   0,   0,\n",
              "          0,   0],\n",
              "       [  0,   0,   0,   0,   0,   1,   0,   0, 212, 198, 209, 206, 209,\n",
              "        206, 208, 207, 211, 206, 205, 198, 221,  80,   0,   3,   0,   0,\n",
              "          0,   0],\n",
              "       [  0,   0,   0,   0,   0,   1,   0,   0, 204, 201, 205, 208, 207,\n",
              "        205, 211, 205, 210, 210, 209, 195, 221,  96,   0,   3,   0,   0,\n",
              "          0,   0],\n",
              "       [  0,   0,   0,   0,   0,   1,   0,   0, 202, 201, 205, 209, 207,\n",
              "        205, 213, 206, 210, 209, 210, 194, 217, 105,   0,   2,   0,   0,\n",
              "          0,   0],\n",
              "       [  0,   0,   0,   0,   0,   1,   0,   0, 204, 204, 205, 208, 207,\n",
              "        205, 215, 207, 210, 208, 211, 193, 213, 115,   0,   2,   0,   0,\n",
              "          0,   0],\n",
              "       [  0,   0,   0,   0,   0,   0,   0,   0, 204, 207, 207, 208, 206,\n",
              "        206, 215, 210, 210, 207, 212, 195, 210, 118,   0,   2,   0,   0,\n",
              "          0,   0],\n",
              "       [  0,   0,   0,   0,   0,   1,   0,   0, 198, 208, 208, 208, 204,\n",
              "        207, 212, 212, 210, 207, 211, 196, 207, 121,   0,   1,   0,   0,\n",
              "          0,   0],\n",
              "       [  0,   0,   0,   0,   0,   1,   0,   0, 198, 210, 207, 208, 206,\n",
              "        209, 213, 212, 211, 207, 210, 197, 207, 124,   0,   1,   0,   0,\n",
              "          0,   0],\n",
              "       [  0,   0,   0,   0,   0,   0,   0,   0, 172, 210, 203, 201, 199,\n",
              "        204, 207, 205, 204, 201, 205, 197, 206, 127,   0,   0,   0,   0,\n",
              "          0,   0],\n",
              "       [  0,   0,   0,   0,   0,   0,   0,   0, 188, 221, 214, 234, 236,\n",
              "        238, 244, 244, 244, 240, 243, 214, 224, 162,   0,   2,   0,   0,\n",
              "          0,   0],\n",
              "       [  0,   0,   0,   0,   0,   1,   0,   0, 139, 146, 130, 135, 135,\n",
              "        137, 125, 124, 125, 121, 119, 114, 130,  76,   0,   0,   0,   0,\n",
              "          0,   0]])"
            ]
          },
          "metadata": {
            "tags": []
          },
          "execution_count": 27
        }
      ]
    },
    {
      "metadata": {
        "id": "4AQDnriBA94R",
        "colab_type": "text"
      },
      "cell_type": "markdown",
      "source": [
        "It is known in Deep Learning that Neural Networks (specifically CNNs), works the best when input data is in the range 0 to 1. So, the all values are divided by 255 (in both train and test dataset)."
      ]
    },
    {
      "metadata": {
        "id": "mKIBJWCDcLYg",
        "colab_type": "code",
        "colab": {}
      },
      "cell_type": "code",
      "source": [
        "train = train/255.0\n",
        "test = test/255.0"
      ],
      "execution_count": 0,
      "outputs": []
    },
    {
      "metadata": {
        "id": "yMOEQBB0shHK",
        "colab_type": "code",
        "colab": {
          "base_uri": "https://localhost:8080/",
          "height": 2873
        },
        "outputId": "6c79d4cd-4aa6-4ce0-e15d-7e33faf248c8"
      },
      "cell_type": "code",
      "source": [
        "train[0]"
      ],
      "execution_count": 29,
      "outputs": [
        {
          "output_type": "execute_result",
          "data": {
            "text/plain": [
              "array([[0.        , 0.        , 0.        , 0.        , 0.        ,\n",
              "        0.00392157, 0.        , 0.        , 0.        , 0.        ,\n",
              "        0.16078431, 0.7372549 , 0.40392157, 0.21176471, 0.18823529,\n",
              "        0.16862745, 0.34117647, 0.65882353, 0.52156863, 0.0627451 ,\n",
              "        0.        , 0.        , 0.        , 0.        , 0.        ,\n",
              "        0.        , 0.        , 0.        ],\n",
              "       [0.        , 0.        , 0.        , 0.00392157, 0.        ,\n",
              "        0.        , 0.        , 0.19215686, 0.53333333, 0.85882353,\n",
              "        0.84705882, 0.89411765, 0.9254902 , 1.        , 1.        ,\n",
              "        1.        , 1.        , 0.85098039, 0.84313725, 0.99607843,\n",
              "        0.90588235, 0.62745098, 0.17647059, 0.        , 0.        ,\n",
              "        0.        , 0.        , 0.        ],\n",
              "       [0.        , 0.        , 0.        , 0.        , 0.        ,\n",
              "        0.05490196, 0.69019608, 0.87058824, 0.87843137, 0.83137255,\n",
              "        0.79607843, 0.77647059, 0.76862745, 0.78431373, 0.84313725,\n",
              "        0.8       , 0.79215686, 0.78823529, 0.78823529, 0.78823529,\n",
              "        0.81960784, 0.85490196, 0.87843137, 0.64313725, 0.        ,\n",
              "        0.        , 0.        , 0.        ],\n",
              "       [0.        , 0.        , 0.        , 0.        , 0.        ,\n",
              "        0.7372549 , 0.85882353, 0.78431373, 0.77647059, 0.79215686,\n",
              "        0.77647059, 0.78039216, 0.78039216, 0.78823529, 0.76862745,\n",
              "        0.77647059, 0.77647059, 0.78431373, 0.78431373, 0.78431373,\n",
              "        0.78431373, 0.78823529, 0.78431373, 0.88235294, 0.16078431,\n",
              "        0.        , 0.        , 0.        ],\n",
              "       [0.        , 0.        , 0.        , 0.        , 0.2       ,\n",
              "        0.85882353, 0.78039216, 0.79607843, 0.79607843, 0.83137255,\n",
              "        0.93333333, 0.97254902, 0.98039216, 0.96078431, 0.97647059,\n",
              "        0.96470588, 0.96862745, 0.98823529, 0.97254902, 0.92156863,\n",
              "        0.81176471, 0.79607843, 0.79607843, 0.87058824, 0.54901961,\n",
              "        0.        , 0.        , 0.        ],\n",
              "       [0.        , 0.        , 0.        , 0.        , 0.45490196,\n",
              "        0.88627451, 0.80784314, 0.8       , 0.81176471, 0.8       ,\n",
              "        0.39607843, 0.29411765, 0.18431373, 0.28627451, 0.18823529,\n",
              "        0.19607843, 0.17647059, 0.2       , 0.24705882, 0.44313725,\n",
              "        0.87058824, 0.79215686, 0.80784314, 0.8627451 , 0.87843137,\n",
              "        0.        , 0.        , 0.        ],\n",
              "       [0.        , 0.        , 0.        , 0.        , 0.78431373,\n",
              "        0.87058824, 0.81960784, 0.79607843, 0.84313725, 0.78431373,\n",
              "        0.        , 0.2745098 , 0.38431373, 0.        , 0.40392157,\n",
              "        0.23137255, 0.26666667, 0.27843137, 0.19215686, 0.        ,\n",
              "        0.85882353, 0.80784314, 0.83921569, 0.82352941, 0.98039216,\n",
              "        0.14901961, 0.        , 0.        ],\n",
              "       [0.        , 0.        , 0.        , 0.        , 0.96862745,\n",
              "        0.85490196, 0.83137255, 0.82352941, 0.84313725, 0.83921569,\n",
              "        0.        , 0.99607843, 0.95294118, 0.54509804, 1.        ,\n",
              "        0.68235294, 0.98431373, 1.        , 0.80392157, 0.        ,\n",
              "        0.84313725, 0.85098039, 0.83921569, 0.81568627, 0.8627451 ,\n",
              "        0.37254902, 0.        , 0.        ],\n",
              "       [0.        , 0.        , 0.        , 0.17647059, 0.88627451,\n",
              "        0.83921569, 0.83921569, 0.84313725, 0.87843137, 0.80392157,\n",
              "        0.        , 0.16470588, 0.1372549 , 0.23529412, 0.0627451 ,\n",
              "        0.06666667, 0.04705882, 0.05098039, 0.2745098 , 0.        ,\n",
              "        0.74117647, 0.84705882, 0.83137255, 0.80784314, 0.83137255,\n",
              "        0.61176471, 0.        , 0.        ],\n",
              "       [0.        , 0.        , 0.        , 0.64313725, 0.92156863,\n",
              "        0.83921569, 0.82745098, 0.8627451 , 0.84705882, 0.78823529,\n",
              "        0.20392157, 0.27843137, 0.34901961, 0.36862745, 0.3254902 ,\n",
              "        0.30588235, 0.2745098 , 0.29803922, 0.36078431, 0.34117647,\n",
              "        0.80784314, 0.81176471, 0.87058824, 0.83529412, 0.85882353,\n",
              "        0.81568627, 0.        , 0.        ],\n",
              "       [0.        , 0.        , 0.        , 0.41568627, 0.73333333,\n",
              "        0.8745098 , 0.92941176, 0.97254902, 0.82745098, 0.77647059,\n",
              "        0.98823529, 0.98039216, 0.97254902, 0.96078431, 0.97254902,\n",
              "        0.98823529, 0.99215686, 0.98039216, 0.98823529, 0.9372549 ,\n",
              "        0.78823529, 0.83137255, 0.88235294, 0.84313725, 0.75686275,\n",
              "        0.44313725, 0.        , 0.        ],\n",
              "       [0.        , 0.        , 0.        , 0.        , 0.        ,\n",
              "        0.06666667, 0.21176471, 0.62352941, 0.87058824, 0.75686275,\n",
              "        0.81568627, 0.75294118, 0.77254902, 0.78431373, 0.78431373,\n",
              "        0.78431373, 0.78431373, 0.78823529, 0.79607843, 0.76470588,\n",
              "        0.82352941, 0.64705882, 0.        , 0.        , 0.        ,\n",
              "        0.        , 0.        , 0.        ],\n",
              "       [0.        , 0.        , 0.        , 0.        , 0.        ,\n",
              "        0.        , 0.        , 0.18431373, 0.88235294, 0.75294118,\n",
              "        0.83921569, 0.79607843, 0.80784314, 0.8       , 0.8       ,\n",
              "        0.80392157, 0.80784314, 0.8       , 0.83137255, 0.77254902,\n",
              "        0.85490196, 0.41960784, 0.        , 0.        , 0.        ,\n",
              "        0.        , 0.        , 0.        ],\n",
              "       [0.        , 0.        , 0.        , 0.        , 0.00392157,\n",
              "        0.02352941, 0.        , 0.18039216, 0.83137255, 0.76470588,\n",
              "        0.83137255, 0.79215686, 0.80784314, 0.80392157, 0.8       ,\n",
              "        0.80392157, 0.80784314, 0.8       , 0.83137255, 0.78431373,\n",
              "        0.85490196, 0.35686275, 0.        , 0.01176471, 0.00392157,\n",
              "        0.        , 0.        , 0.        ],\n",
              "       [0.        , 0.        , 0.        , 0.        , 0.        ,\n",
              "        0.00392157, 0.        , 0.04313725, 0.77254902, 0.78039216,\n",
              "        0.80392157, 0.79215686, 0.80392157, 0.80784314, 0.8       ,\n",
              "        0.80392157, 0.81176471, 0.8       , 0.80392157, 0.80392157,\n",
              "        0.85490196, 0.30196078, 0.        , 0.01960784, 0.        ,\n",
              "        0.        , 0.        , 0.        ],\n",
              "       [0.        , 0.        , 0.        , 0.        , 0.        ,\n",
              "        0.01176471, 0.        , 0.00784314, 0.74901961, 0.77647059,\n",
              "        0.78823529, 0.80392157, 0.80784314, 0.80392157, 0.80392157,\n",
              "        0.80784314, 0.81960784, 0.80784314, 0.78039216, 0.81960784,\n",
              "        0.85882353, 0.29019608, 0.        , 0.01960784, 0.        ,\n",
              "        0.        , 0.        , 0.        ],\n",
              "       [0.        , 0.        , 0.        , 0.        , 0.        ,\n",
              "        0.00784314, 0.        , 0.        , 0.7372549 , 0.77254902,\n",
              "        0.78431373, 0.81176471, 0.81176471, 0.8       , 0.81176471,\n",
              "        0.81176471, 0.82352941, 0.81568627, 0.77647059, 0.81176471,\n",
              "        0.86666667, 0.28235294, 0.        , 0.01568627, 0.        ,\n",
              "        0.        , 0.        , 0.        ],\n",
              "       [0.        , 0.        , 0.        , 0.        , 0.        ,\n",
              "        0.00784314, 0.        , 0.        , 0.84313725, 0.77647059,\n",
              "        0.79607843, 0.80784314, 0.81568627, 0.80392157, 0.81176471,\n",
              "        0.81176471, 0.82352941, 0.81568627, 0.78431373, 0.79215686,\n",
              "        0.87058824, 0.29411765, 0.        , 0.01568627, 0.        ,\n",
              "        0.        , 0.        , 0.        ],\n",
              "       [0.        , 0.        , 0.        , 0.        , 0.        ,\n",
              "        0.00392157, 0.        , 0.        , 0.83137255, 0.77647059,\n",
              "        0.81960784, 0.80784314, 0.81960784, 0.80784314, 0.81568627,\n",
              "        0.81176471, 0.82745098, 0.80784314, 0.80392157, 0.77647059,\n",
              "        0.86666667, 0.31372549, 0.        , 0.01176471, 0.        ,\n",
              "        0.        , 0.        , 0.        ],\n",
              "       [0.        , 0.        , 0.        , 0.        , 0.        ,\n",
              "        0.00392157, 0.        , 0.        , 0.8       , 0.78823529,\n",
              "        0.80392157, 0.81568627, 0.81176471, 0.80392157, 0.82745098,\n",
              "        0.80392157, 0.82352941, 0.82352941, 0.81960784, 0.76470588,\n",
              "        0.86666667, 0.37647059, 0.        , 0.01176471, 0.        ,\n",
              "        0.        , 0.        , 0.        ],\n",
              "       [0.        , 0.        , 0.        , 0.        , 0.        ,\n",
              "        0.00392157, 0.        , 0.        , 0.79215686, 0.78823529,\n",
              "        0.80392157, 0.81960784, 0.81176471, 0.80392157, 0.83529412,\n",
              "        0.80784314, 0.82352941, 0.81960784, 0.82352941, 0.76078431,\n",
              "        0.85098039, 0.41176471, 0.        , 0.00784314, 0.        ,\n",
              "        0.        , 0.        , 0.        ],\n",
              "       [0.        , 0.        , 0.        , 0.        , 0.        ,\n",
              "        0.00392157, 0.        , 0.        , 0.8       , 0.8       ,\n",
              "        0.80392157, 0.81568627, 0.81176471, 0.80392157, 0.84313725,\n",
              "        0.81176471, 0.82352941, 0.81568627, 0.82745098, 0.75686275,\n",
              "        0.83529412, 0.45098039, 0.        , 0.00784314, 0.        ,\n",
              "        0.        , 0.        , 0.        ],\n",
              "       [0.        , 0.        , 0.        , 0.        , 0.        ,\n",
              "        0.        , 0.        , 0.        , 0.8       , 0.81176471,\n",
              "        0.81176471, 0.81568627, 0.80784314, 0.80784314, 0.84313725,\n",
              "        0.82352941, 0.82352941, 0.81176471, 0.83137255, 0.76470588,\n",
              "        0.82352941, 0.4627451 , 0.        , 0.00784314, 0.        ,\n",
              "        0.        , 0.        , 0.        ],\n",
              "       [0.        , 0.        , 0.        , 0.        , 0.        ,\n",
              "        0.00392157, 0.        , 0.        , 0.77647059, 0.81568627,\n",
              "        0.81568627, 0.81568627, 0.8       , 0.81176471, 0.83137255,\n",
              "        0.83137255, 0.82352941, 0.81176471, 0.82745098, 0.76862745,\n",
              "        0.81176471, 0.4745098 , 0.        , 0.00392157, 0.        ,\n",
              "        0.        , 0.        , 0.        ],\n",
              "       [0.        , 0.        , 0.        , 0.        , 0.        ,\n",
              "        0.00392157, 0.        , 0.        , 0.77647059, 0.82352941,\n",
              "        0.81176471, 0.81568627, 0.80784314, 0.81960784, 0.83529412,\n",
              "        0.83137255, 0.82745098, 0.81176471, 0.82352941, 0.77254902,\n",
              "        0.81176471, 0.48627451, 0.        , 0.00392157, 0.        ,\n",
              "        0.        , 0.        , 0.        ],\n",
              "       [0.        , 0.        , 0.        , 0.        , 0.        ,\n",
              "        0.        , 0.        , 0.        , 0.6745098 , 0.82352941,\n",
              "        0.79607843, 0.78823529, 0.78039216, 0.8       , 0.81176471,\n",
              "        0.80392157, 0.8       , 0.78823529, 0.80392157, 0.77254902,\n",
              "        0.80784314, 0.49803922, 0.        , 0.        , 0.        ,\n",
              "        0.        , 0.        , 0.        ],\n",
              "       [0.        , 0.        , 0.        , 0.        , 0.        ,\n",
              "        0.        , 0.        , 0.        , 0.7372549 , 0.86666667,\n",
              "        0.83921569, 0.91764706, 0.9254902 , 0.93333333, 0.95686275,\n",
              "        0.95686275, 0.95686275, 0.94117647, 0.95294118, 0.83921569,\n",
              "        0.87843137, 0.63529412, 0.        , 0.00784314, 0.        ,\n",
              "        0.        , 0.        , 0.        ],\n",
              "       [0.        , 0.        , 0.        , 0.        , 0.        ,\n",
              "        0.00392157, 0.        , 0.        , 0.54509804, 0.57254902,\n",
              "        0.50980392, 0.52941176, 0.52941176, 0.5372549 , 0.49019608,\n",
              "        0.48627451, 0.49019608, 0.4745098 , 0.46666667, 0.44705882,\n",
              "        0.50980392, 0.29803922, 0.        , 0.        , 0.        ,\n",
              "        0.        , 0.        , 0.        ]])"
            ]
          },
          "metadata": {
            "tags": []
          },
          "execution_count": 29
        }
      ]
    },
    {
      "metadata": {
        "id": "ayUQRPaxBYWB",
        "colab_type": "text"
      },
      "cell_type": "markdown",
      "source": [
        "Now, as all other things are done, finally model is to be fit."
      ]
    },
    {
      "metadata": {
        "id": "t86Ul0z8VvzV",
        "colab_type": "code",
        "outputId": "b7e837e6-77af-4ab5-b2dd-e2bb498437a7",
        "colab": {
          "base_uri": "https://localhost:8080/",
          "height": 530
        }
      },
      "cell_type": "code",
      "source": [
        "model.fit(train.reshape(-1,28,28,1), train_y,\n",
        "\tvalidation_split=0.2, epochs=30, callbacks=[es, mp])"
      ],
      "execution_count": 30,
      "outputs": [
        {
          "output_type": "stream",
          "text": [
            "WARNING:tensorflow:From /usr/local/lib/python3.6/dist-packages/tensorflow/python/ops/math_ops.py:3066: to_int32 (from tensorflow.python.ops.math_ops) is deprecated and will be removed in a future version.\n",
            "Instructions for updating:\n",
            "Use tf.cast instead.\n",
            "Train on 6400 samples, validate on 1600 samples\n",
            "Epoch 1/30\n",
            "6400/6400 [==============================] - 7s 1ms/step - loss: 0.7358 - acc: 0.7947 - val_loss: 5.8141 - val_acc: 0.0100\n",
            "Epoch 2/30\n",
            "6400/6400 [==============================] - 3s 498us/step - loss: 0.5428 - acc: 0.8352 - val_loss: 2.3705 - val_acc: 0.1900\n",
            "Epoch 3/30\n",
            "6400/6400 [==============================] - 3s 496us/step - loss: 0.4501 - acc: 0.8613 - val_loss: 2.2723 - val_acc: 0.3444\n",
            "Epoch 4/30\n",
            "6400/6400 [==============================] - 3s 496us/step - loss: 0.4177 - acc: 0.8681 - val_loss: 2.1528 - val_acc: 0.1619\n",
            "Epoch 5/30\n",
            "6400/6400 [==============================] - 3s 494us/step - loss: 0.3883 - acc: 0.8777 - val_loss: 1.3725 - val_acc: 0.4863\n",
            "Epoch 6/30\n",
            "6400/6400 [==============================] - 3s 493us/step - loss: 0.3666 - acc: 0.8816 - val_loss: 1.9981 - val_acc: 0.3256\n",
            "Epoch 7/30\n",
            "6400/6400 [==============================] - 3s 490us/step - loss: 0.3479 - acc: 0.8877 - val_loss: 1.0511 - val_acc: 0.5906\n",
            "Epoch 8/30\n",
            "6400/6400 [==============================] - 3s 487us/step - loss: 0.3149 - acc: 0.8953 - val_loss: 2.4204 - val_acc: 0.2387\n",
            "Epoch 9/30\n",
            "6400/6400 [==============================] - 3s 487us/step - loss: 0.3240 - acc: 0.8948 - val_loss: 1.1691 - val_acc: 0.5706\n",
            "Epoch 10/30\n",
            "6400/6400 [==============================] - 3s 488us/step - loss: 0.2861 - acc: 0.9053 - val_loss: 1.8064 - val_acc: 0.3925\n",
            "Epoch 11/30\n",
            "6400/6400 [==============================] - 3s 491us/step - loss: 0.2967 - acc: 0.9008 - val_loss: 1.5028 - val_acc: 0.4481\n",
            "Epoch 12/30\n",
            "6400/6400 [==============================] - 3s 489us/step - loss: 0.2769 - acc: 0.9045 - val_loss: 2.2804 - val_acc: 0.3306\n"
          ],
          "name": "stdout"
        },
        {
          "output_type": "execute_result",
          "data": {
            "text/plain": [
              "<keras.callbacks.History at 0x7f30fe197128>"
            ]
          },
          "metadata": {
            "tags": []
          },
          "execution_count": 30
        }
      ]
    },
    {
      "metadata": {
        "id": "hNVEp6iTBkCf",
        "colab_type": "text"
      },
      "cell_type": "markdown",
      "source": [
        "This , does not seem to be a good model as validation accuracy is low.\n",
        "\n",
        "Another model which can be constructed is ...."
      ]
    },
    {
      "metadata": {
        "id": "K1_kHhdWdEwH",
        "colab_type": "code",
        "colab": {}
      },
      "cell_type": "code",
      "source": [
        "model1 = Sequential()\n",
        "model1.add(Conv2D(32, (3, 3), padding=\"same\",\n",
        "\t\t\tinput_shape=(28,28,1)))\n",
        "model1.add(Activation(\"relu\"))\n",
        "model1.add(BatchNormalization(axis=-1))\n",
        "model1.add(Conv2D(32, (3, 3), padding=\"same\"))\n",
        "model1.add(Activation(\"relu\"))\n",
        "model1.add(BatchNormalization(axis=-1))\n",
        "model1.add(MaxPooling2D(pool_size=(2, 2)))\n",
        "model1.add(Dropout(0.25))\n",
        " \n",
        "\n",
        "model1.add(Conv2D(64, (3, 3), padding=\"same\"))\n",
        "model1.add(Activation(\"relu\"))\n",
        "model1.add(BatchNormalization(axis=-1))\n",
        "model1.add(Conv2D(64, (3, 3), padding=\"same\"))\n",
        "model1.add(Activation(\"relu\"))\n",
        "model1.add(BatchNormalization(axis=-1))\n",
        "model1.add(MaxPooling2D(pool_size=(2, 2)))\n",
        "model1.add(Dropout(0.25))\n",
        " \n",
        "\t\t\n",
        "model1.add(Flatten())\n",
        "model1.add(Dense(512))\n",
        "model1.add(Activation(\"relu\"))\n",
        "model1.add(BatchNormalization())\n",
        "model1.add(Dropout(0.5))\n",
        " \n",
        "\t\t\n",
        "model1.add(Dense(4))\n",
        "model1.add(Activation(\"softmax\"))\n",
        " "
      ],
      "execution_count": 0,
      "outputs": []
    },
    {
      "metadata": {
        "id": "GsCgjIKbdhOF",
        "colab_type": "code",
        "colab": {}
      },
      "cell_type": "code",
      "source": [
        "model1.compile(loss=\"categorical_crossentropy\", optimizer='adadelta',\n",
        "\tmetrics=[\"accuracy\"])"
      ],
      "execution_count": 0,
      "outputs": []
    },
    {
      "metadata": {
        "id": "vxQgqITndkil",
        "colab_type": "code",
        "outputId": "45a88173-9b70-4658-ae85-ee57b9735f85",
        "colab": {
          "base_uri": "https://localhost:8080/",
          "height": 547
        }
      },
      "cell_type": "code",
      "source": [
        "model1.fit(train.reshape(-1,28,28,1), train_y,\n",
        "\tvalidation_split=0.2, epochs=30, callbacks=[es, mp])"
      ],
      "execution_count": 33,
      "outputs": [
        {
          "output_type": "stream",
          "text": [
            "Train on 6400 samples, validate on 1600 samples\n",
            "Epoch 1/30\n",
            "6400/6400 [==============================] - 6s 883us/step - loss: 0.5915 - acc: 0.8231 - val_loss: 2.2946 - val_acc: 0.3000\n",
            "Epoch 2/30\n",
            "6400/6400 [==============================] - 4s 656us/step - loss: 0.4100 - acc: 0.8697 - val_loss: 1.9213 - val_acc: 0.3269\n",
            "Epoch 3/30\n",
            "6400/6400 [==============================] - 4s 651us/step - loss: 0.3495 - acc: 0.8855 - val_loss: 2.9971 - val_acc: 0.2238\n",
            "Epoch 4/30\n",
            "6400/6400 [==============================] - 4s 646us/step - loss: 0.3193 - acc: 0.8959 - val_loss: 2.7260 - val_acc: 0.1906\n",
            "Epoch 5/30\n",
            "6400/6400 [==============================] - 4s 645us/step - loss: 0.2776 - acc: 0.9072 - val_loss: 1.1662 - val_acc: 0.5500\n",
            "Epoch 6/30\n",
            "6400/6400 [==============================] - 4s 646us/step - loss: 0.2695 - acc: 0.9100 - val_loss: 1.2110 - val_acc: 0.4919\n",
            "Epoch 7/30\n",
            "6400/6400 [==============================] - 4s 646us/step - loss: 0.2511 - acc: 0.9123 - val_loss: 1.6679 - val_acc: 0.4669\n",
            "Epoch 8/30\n",
            "6400/6400 [==============================] - 4s 647us/step - loss: 0.2327 - acc: 0.9186 - val_loss: 1.1266 - val_acc: 0.5800\n",
            "Epoch 9/30\n",
            "6400/6400 [==============================] - 4s 639us/step - loss: 0.2078 - acc: 0.9266 - val_loss: 0.7925 - val_acc: 0.6856\n",
            "Epoch 10/30\n",
            "6400/6400 [==============================] - 4s 645us/step - loss: 0.2046 - acc: 0.9292 - val_loss: 1.3610 - val_acc: 0.5194\n",
            "Epoch 11/30\n",
            "6400/6400 [==============================] - 4s 643us/step - loss: 0.1880 - acc: 0.9323 - val_loss: 1.0713 - val_acc: 0.6256\n",
            "Epoch 12/30\n",
            "6400/6400 [==============================] - 4s 642us/step - loss: 0.1864 - acc: 0.9327 - val_loss: 1.3132 - val_acc: 0.5506\n",
            "Epoch 13/30\n",
            "6400/6400 [==============================] - 4s 644us/step - loss: 0.1694 - acc: 0.9417 - val_loss: 1.5827 - val_acc: 0.4938\n",
            "Epoch 14/30\n",
            "6400/6400 [==============================] - 4s 648us/step - loss: 0.1610 - acc: 0.9408 - val_loss: 1.1323 - val_acc: 0.5869\n"
          ],
          "name": "stdout"
        },
        {
          "output_type": "execute_result",
          "data": {
            "text/plain": [
              "<keras.callbacks.History at 0x7f30fd3f34e0>"
            ]
          },
          "metadata": {
            "tags": []
          },
          "execution_count": 33
        }
      ]
    },
    {
      "metadata": {
        "id": "swM3zxTKB2X1",
        "colab_type": "text"
      },
      "cell_type": "markdown",
      "source": [
        "The result seems to be a bit satisfactory with this model. The optimizer used was adadelta whereby the learning rate in not constant."
      ]
    },
    {
      "metadata": {
        "id": "2gsM_6SgCJms",
        "colab_type": "text"
      },
      "cell_type": "markdown",
      "source": [
        "Now, 3rd model will be a bit simple  to check whether a simple model can outperfrom relatively complex models."
      ]
    },
    {
      "metadata": {
        "id": "JNdMXZzgghBt",
        "colab_type": "code",
        "colab": {}
      },
      "cell_type": "code",
      "source": [
        "model_3 = Sequential()\n",
        "model_3.add(Conv2D(32, (5, 5), padding=\"same\", input_shape=[28, 28, 1]))\n",
        "model_3.add(MaxPooling2D((2,2)))\n",
        "model_3.add(Conv2D(64, (5, 5), padding=\"same\"))\n",
        "model_3.add(MaxPooling2D((2,2)))\n",
        "model_3.add(Flatten())\n",
        "model_3.add(Dense(1024, activation='relu'))\n",
        "model_3.add(Dropout(0.5))\n",
        "model_3.add(Dense(4, activation='softmax'))\n"
      ],
      "execution_count": 0,
      "outputs": []
    },
    {
      "metadata": {
        "id": "XymOO5DOzpKY",
        "colab_type": "code",
        "colab": {}
      },
      "cell_type": "code",
      "source": [
        "model_3.compile(keras.optimizers.Adam(1e-4), loss='categorical_crossentropy', metrics=['accuracy'])"
      ],
      "execution_count": 0,
      "outputs": []
    },
    {
      "metadata": {
        "id": "Zdz2zGe1h1Yj",
        "colab_type": "code",
        "outputId": "943a09d5-5efd-48c4-af65-ed953d67c2aa",
        "colab": {
          "base_uri": "https://localhost:8080/",
          "height": 1091
        }
      },
      "cell_type": "code",
      "source": [
        "model_3.fit(train.reshape(-1,28,28,1), train_y, validation_split=0.10, batch_size=64, epochs=30, callbacks=[mp])"
      ],
      "execution_count": 59,
      "outputs": [
        {
          "output_type": "stream",
          "text": [
            "Train on 7200 samples, validate on 800 samples\n",
            "Epoch 1/30\n",
            "7200/7200 [==============================] - 2s 223us/step - loss: 0.1461 - acc: 0.9464 - val_loss: 0.7640 - val_acc: 0.7212\n",
            "Epoch 2/30\n",
            "7200/7200 [==============================] - 2s 210us/step - loss: 0.1455 - acc: 0.9489 - val_loss: 0.8278 - val_acc: 0.6800\n",
            "Epoch 3/30\n",
            "7200/7200 [==============================] - 2s 210us/step - loss: 0.1344 - acc: 0.9533 - val_loss: 0.7104 - val_acc: 0.7288\n",
            "Epoch 4/30\n",
            "7200/7200 [==============================] - 2s 212us/step - loss: 0.1335 - acc: 0.9526 - val_loss: 0.7574 - val_acc: 0.7087\n",
            "Epoch 5/30\n",
            "7200/7200 [==============================] - 2s 210us/step - loss: 0.1328 - acc: 0.9536 - val_loss: 0.7698 - val_acc: 0.7113\n",
            "Epoch 6/30\n",
            "7200/7200 [==============================] - 1s 208us/step - loss: 0.1147 - acc: 0.9625 - val_loss: 0.6289 - val_acc: 0.7650\n",
            "Epoch 7/30\n",
            "7200/7200 [==============================] - 2s 210us/step - loss: 0.1153 - acc: 0.9625 - val_loss: 0.8622 - val_acc: 0.6763\n",
            "Epoch 8/30\n",
            "7200/7200 [==============================] - 2s 209us/step - loss: 0.1086 - acc: 0.9642 - val_loss: 0.8399 - val_acc: 0.7100\n",
            "Epoch 9/30\n",
            "7200/7200 [==============================] - 2s 210us/step - loss: 0.1079 - acc: 0.9654 - val_loss: 0.7552 - val_acc: 0.7262\n",
            "Epoch 10/30\n",
            "7200/7200 [==============================] - 1s 208us/step - loss: 0.0984 - acc: 0.9700 - val_loss: 0.8168 - val_acc: 0.7000\n",
            "Epoch 11/30\n",
            "7200/7200 [==============================] - 2s 209us/step - loss: 0.0958 - acc: 0.9714 - val_loss: 0.8696 - val_acc: 0.7025\n",
            "Epoch 12/30\n",
            "7200/7200 [==============================] - 2s 210us/step - loss: 0.0898 - acc: 0.9717 - val_loss: 1.1589 - val_acc: 0.6338\n",
            "Epoch 13/30\n",
            "7200/7200 [==============================] - 2s 210us/step - loss: 0.0922 - acc: 0.9733 - val_loss: 0.8585 - val_acc: 0.7137\n",
            "Epoch 14/30\n",
            "7200/7200 [==============================] - 2s 211us/step - loss: 0.0842 - acc: 0.9732 - val_loss: 0.7877 - val_acc: 0.7375\n",
            "Epoch 15/30\n",
            "7200/7200 [==============================] - 2s 209us/step - loss: 0.0845 - acc: 0.9736 - val_loss: 0.8839 - val_acc: 0.7075\n",
            "Epoch 16/30\n",
            "7200/7200 [==============================] - 2s 211us/step - loss: 0.0786 - acc: 0.9758 - val_loss: 0.8839 - val_acc: 0.7100\n",
            "Epoch 17/30\n",
            "7200/7200 [==============================] - 2s 210us/step - loss: 0.0756 - acc: 0.9758 - val_loss: 1.1960 - val_acc: 0.6212\n",
            "Epoch 18/30\n",
            "7200/7200 [==============================] - 2s 211us/step - loss: 0.0701 - acc: 0.9797 - val_loss: 1.0705 - val_acc: 0.6613\n",
            "Epoch 19/30\n",
            "7200/7200 [==============================] - 2s 212us/step - loss: 0.0720 - acc: 0.9765 - val_loss: 0.7222 - val_acc: 0.7588\n",
            "Epoch 20/30\n",
            "7200/7200 [==============================] - 2s 211us/step - loss: 0.0650 - acc: 0.9810 - val_loss: 0.7421 - val_acc: 0.7600\n",
            "Epoch 21/30\n",
            "7200/7200 [==============================] - 2s 212us/step - loss: 0.0662 - acc: 0.9801 - val_loss: 0.8938 - val_acc: 0.7100\n",
            "Epoch 22/30\n",
            "7200/7200 [==============================] - 2s 211us/step - loss: 0.0584 - acc: 0.9826 - val_loss: 0.7699 - val_acc: 0.7475\n",
            "Epoch 23/30\n",
            "7200/7200 [==============================] - 2s 210us/step - loss: 0.0602 - acc: 0.9812 - val_loss: 1.0494 - val_acc: 0.6813\n",
            "Epoch 24/30\n",
            "7200/7200 [==============================] - 2s 210us/step - loss: 0.0567 - acc: 0.9831 - val_loss: 0.9611 - val_acc: 0.7250\n",
            "Epoch 25/30\n",
            "7200/7200 [==============================] - 2s 209us/step - loss: 0.0518 - acc: 0.9842 - val_loss: 0.9826 - val_acc: 0.6975\n",
            "Epoch 26/30\n",
            "7200/7200 [==============================] - 2s 209us/step - loss: 0.0478 - acc: 0.9878 - val_loss: 0.8917 - val_acc: 0.7325\n",
            "Epoch 27/30\n",
            "7200/7200 [==============================] - 2s 213us/step - loss: 0.0491 - acc: 0.9868 - val_loss: 0.9473 - val_acc: 0.7262\n",
            "Epoch 28/30\n",
            "7200/7200 [==============================] - 2s 212us/step - loss: 0.0453 - acc: 0.9885 - val_loss: 0.9022 - val_acc: 0.7512\n",
            "Epoch 29/30\n",
            "7200/7200 [==============================] - 2s 209us/step - loss: 0.0444 - acc: 0.9892 - val_loss: 1.4005 - val_acc: 0.6175\n",
            "Epoch 30/30\n",
            "7200/7200 [==============================] - 2s 212us/step - loss: 0.0408 - acc: 0.9903 - val_loss: 1.0034 - val_acc: 0.7125\n"
          ],
          "name": "stdout"
        },
        {
          "output_type": "execute_result",
          "data": {
            "text/plain": [
              "<keras.callbacks.History at 0x7f30fc87bda0>"
            ]
          },
          "metadata": {
            "tags": []
          },
          "execution_count": 59
        }
      ]
    },
    {
      "metadata": {
        "id": "0r76H3lcCWYs",
        "colab_type": "text"
      },
      "cell_type": "markdown",
      "source": [
        "The result here seems to be best among the 3. On top of that, due to the ModelCheckPoint callback, the best is weights are stored. They are loaded back below."
      ]
    },
    {
      "metadata": {
        "id": "0gJKnWc9iHZa",
        "colab_type": "code",
        "colab": {}
      },
      "cell_type": "code",
      "source": [
        "model_3.load_weights('weights_new.hdf5')"
      ],
      "execution_count": 0,
      "outputs": []
    },
    {
      "metadata": {
        "id": "vkCkaz8MovkS",
        "colab_type": "code",
        "colab": {}
      },
      "cell_type": "code",
      "source": [
        "pr = model_3.predict(test.reshape(-2,28,28,1))"
      ],
      "execution_count": 0,
      "outputs": []
    },
    {
      "metadata": {
        "id": "cVn_BiHYCnuE",
        "colab_type": "text"
      },
      "cell_type": "markdown",
      "source": [
        "The prediction will give us the probablilities of different classes. We need to select the class with maximum probability."
      ]
    },
    {
      "metadata": {
        "id": "3JHuY7CV5qbt",
        "colab_type": "code",
        "colab": {}
      },
      "cell_type": "code",
      "source": [
        "pr = pr.argmax(axis=1)"
      ],
      "execution_count": 0,
      "outputs": []
    },
    {
      "metadata": {
        "id": "DyrIY-NJC0wl",
        "colab_type": "text"
      },
      "cell_type": "markdown",
      "source": [
        "Now, class 1 is changed back to class 6"
      ]
    },
    {
      "metadata": {
        "id": "1Lz_MrSI5uO-",
        "colab_type": "code",
        "colab": {}
      },
      "cell_type": "code",
      "source": [
        "for i in range(len(pr)):\n",
        "  if(pr[i]==1):\n",
        "    pr[i]=6\n",
        "  "
      ],
      "execution_count": 0,
      "outputs": []
    },
    {
      "metadata": {
        "id": "TRChBdJWC4--",
        "colab_type": "text"
      },
      "cell_type": "markdown",
      "source": [
        "Sample Submission file is loaded ."
      ]
    },
    {
      "metadata": {
        "id": "ieVvNUmm6r9G",
        "colab_type": "code",
        "colab": {}
      },
      "cell_type": "code",
      "source": [
        "import pandas as pd\n",
        "df = pd.read_csv('hitkul(sample_submission).csv')"
      ],
      "execution_count": 0,
      "outputs": []
    },
    {
      "metadata": {
        "id": "ceItA9dW6yVG",
        "colab_type": "code",
        "colab": {}
      },
      "cell_type": "code",
      "source": [
        "index1 = [i for i in range(2000)]"
      ],
      "execution_count": 0,
      "outputs": []
    },
    {
      "metadata": {
        "id": "_QXYAgZX7dN2",
        "colab_type": "code",
        "colab": {
          "base_uri": "https://localhost:8080/",
          "height": 173
        },
        "outputId": "783022b7-b2b8-4e93-9bf4-22d44c521339"
      },
      "cell_type": "code",
      "source": [
        "df"
      ],
      "execution_count": 93,
      "outputs": [
        {
          "output_type": "execute_result",
          "data": {
            "text/html": [
              "<div>\n",
              "<style scoped>\n",
              "    .dataframe tbody tr th:only-of-type {\n",
              "        vertical-align: middle;\n",
              "    }\n",
              "\n",
              "    .dataframe tbody tr th {\n",
              "        vertical-align: top;\n",
              "    }\n",
              "\n",
              "    .dataframe thead th {\n",
              "        text-align: right;\n",
              "    }\n",
              "</style>\n",
              "<table border=\"1\" class=\"dataframe\">\n",
              "  <thead>\n",
              "    <tr style=\"text-align: right;\">\n",
              "      <th></th>\n",
              "      <th>image_index</th>\n",
              "      <th>class</th>\n",
              "    </tr>\n",
              "  </thead>\n",
              "  <tbody>\n",
              "    <tr>\n",
              "      <th>0</th>\n",
              "      <td>0</td>\n",
              "      <td>2</td>\n",
              "    </tr>\n",
              "    <tr>\n",
              "      <th>1</th>\n",
              "      <td>1</td>\n",
              "      <td>3</td>\n",
              "    </tr>\n",
              "    <tr>\n",
              "      <th>2</th>\n",
              "      <td>2</td>\n",
              "      <td>0</td>\n",
              "    </tr>\n",
              "    <tr>\n",
              "      <th>3</th>\n",
              "      <td>3</td>\n",
              "      <td>6</td>\n",
              "    </tr>\n",
              "  </tbody>\n",
              "</table>\n",
              "</div>"
            ],
            "text/plain": [
              "   image_index  class\n",
              "0            0      2\n",
              "1            1      3\n",
              "2            2      0\n",
              "3            3      6"
            ]
          },
          "metadata": {
            "tags": []
          },
          "execution_count": 93
        }
      ]
    },
    {
      "metadata": {
        "id": "LNPaKexu7ggy",
        "colab_type": "code",
        "colab": {}
      },
      "cell_type": "code",
      "source": [
        "prediction = pd.DataFrame(index1)"
      ],
      "execution_count": 0,
      "outputs": []
    },
    {
      "metadata": {
        "id": "DcIQqbTf8cA3",
        "colab_type": "code",
        "colab": {}
      },
      "cell_type": "code",
      "source": [
        "prediction.columns= ['image_index']"
      ],
      "execution_count": 0,
      "outputs": []
    },
    {
      "metadata": {
        "id": "KRpYL73Y81nZ",
        "colab_type": "code",
        "colab": {}
      },
      "cell_type": "code",
      "source": [
        "prediction['class'] = pr"
      ],
      "execution_count": 0,
      "outputs": []
    },
    {
      "metadata": {
        "id": "aZu1uEl184gC",
        "colab_type": "code",
        "colab": {
          "base_uri": "https://localhost:8080/",
          "height": 204
        },
        "outputId": "e85feed5-9582-444d-814c-4cf552519637"
      },
      "cell_type": "code",
      "source": [
        "prediction.head()"
      ],
      "execution_count": 107,
      "outputs": [
        {
          "output_type": "execute_result",
          "data": {
            "text/html": [
              "<div>\n",
              "<style scoped>\n",
              "    .dataframe tbody tr th:only-of-type {\n",
              "        vertical-align: middle;\n",
              "    }\n",
              "\n",
              "    .dataframe tbody tr th {\n",
              "        vertical-align: top;\n",
              "    }\n",
              "\n",
              "    .dataframe thead th {\n",
              "        text-align: right;\n",
              "    }\n",
              "</style>\n",
              "<table border=\"1\" class=\"dataframe\">\n",
              "  <thead>\n",
              "    <tr style=\"text-align: right;\">\n",
              "      <th></th>\n",
              "      <th>image_index</th>\n",
              "      <th>class</th>\n",
              "    </tr>\n",
              "  </thead>\n",
              "  <tbody>\n",
              "    <tr>\n",
              "      <th>0</th>\n",
              "      <td>0</td>\n",
              "      <td>0</td>\n",
              "    </tr>\n",
              "    <tr>\n",
              "      <th>1</th>\n",
              "      <td>1</td>\n",
              "      <td>0</td>\n",
              "    </tr>\n",
              "    <tr>\n",
              "      <th>2</th>\n",
              "      <td>2</td>\n",
              "      <td>0</td>\n",
              "    </tr>\n",
              "    <tr>\n",
              "      <th>3</th>\n",
              "      <td>3</td>\n",
              "      <td>0</td>\n",
              "    </tr>\n",
              "    <tr>\n",
              "      <th>4</th>\n",
              "      <td>4</td>\n",
              "      <td>0</td>\n",
              "    </tr>\n",
              "  </tbody>\n",
              "</table>\n",
              "</div>"
            ],
            "text/plain": [
              "   image_index  class\n",
              "0            0      0\n",
              "1            1      0\n",
              "2            2      0\n",
              "3            3      0\n",
              "4            4      0"
            ]
          },
          "metadata": {
            "tags": []
          },
          "execution_count": 107
        }
      ]
    },
    {
      "metadata": {
        "id": "dyIktazUDGvL",
        "colab_type": "text"
      },
      "cell_type": "markdown",
      "source": [
        "Finally, the predictions are saved as csv file."
      ]
    },
    {
      "metadata": {
        "id": "6iunuLQO9V6A",
        "colab_type": "code",
        "colab": {}
      },
      "cell_type": "code",
      "source": [
        "prediction.to_csv('CV_prediction.csv', index=None)"
      ],
      "execution_count": 0,
      "outputs": []
    }
  ]
}