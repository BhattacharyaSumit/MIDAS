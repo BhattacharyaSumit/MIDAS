{
  "nbformat": 4,
  "nbformat_minor": 0,
  "metadata": {
    "colab": {
      "name": "MIDAS_Python.Ipynb",
      "version": "0.3.2",
      "provenance": [],
      "collapsed_sections": []
    },
    "kernelspec": {
      "name": "python3",
      "display_name": "Python 3"
    },
    "accelerator": "GPU"
  },
  "cells": [
    {
      "metadata": {
        "id": "ZzG0ZXLSbK66",
        "colab_type": "code",
        "colab": {}
      },
      "cell_type": "code",
      "source": [
        "consumer_key = \"------\" \n",
        "consumer_secret = \"-----\"\n",
        "access_key = \"------\"\n",
        "access_secret = \"-------\""
      ],
      "execution_count": 0,
      "outputs": []
    },
    {
      "metadata": {
        "id": "jtx3K7xuemOM",
        "colab_type": "code",
        "colab": {}
      },
      "cell_type": "code",
      "source": [
        "usename = \"@midasIIITD\""
      ],
      "execution_count": 0,
      "outputs": []
    },
    {
      "metadata": {
        "id": "s-VVaz_g7PkZ",
        "colab_type": "text"
      },
      "cell_type": "markdown",
      "source": [
        "Above, I have defined my keys and secrets.  \n",
        "I will be using Tweepy package which extracts the tweets and dumps them into JSON files in the form of dictionaries."
      ]
    },
    {
      "metadata": {
        "id": "E2jf_j03cJd-",
        "colab_type": "code",
        "colab": {}
      },
      "cell_type": "code",
      "source": [
        "import tweepy\n",
        "import pandas as pd\n",
        "import datetime"
      ],
      "execution_count": 0,
      "outputs": []
    },
    {
      "metadata": {
        "id": "9Vyt0axB7_Hg",
        "colab_type": "text"
      },
      "cell_type": "markdown",
      "source": [
        "Here, a function wil be defined for getting the tweets from the given twitter handle."
      ]
    },
    {
      "metadata": {
        "id": "FjO-3m-GcLki",
        "colab_type": "code",
        "colab": {}
      },
      "cell_type": "code",
      "source": [
        "def get_tweets(username): \n",
        "          \n",
        "        # Authorization to consumer key and consumer secret \n",
        "        author = tweepy.OAuthHandler(consumer_key, consumer_secret) \n",
        "  \n",
        "        # Access to user's access key and access secret \n",
        "        author.set_access_token(access_key, access_secret) \n",
        "        tot =[]\n",
        "  \n",
        "        # API calling \n",
        "        api = tweepy.API(author) \n",
        "  \n",
        "        # 3200 tweets to be extracted \n",
        "        tweets = api.user_timeline(username, count=200) \n",
        "        tot.extend(tweets)\n",
        "        \n",
        "        first = tot[-1].id -1\n",
        "        \n",
        "        while len(tweets) > 0:\n",
        "          \n",
        "          # The max_id parameter is used to prevent duplicates\n",
        "          tweets = api.user_timeline(username,\n",
        "                         count=200, max_id=first)\n",
        "\n",
        "           # save most recent tweets\n",
        "\n",
        "          tot.extend(tweets)\n",
        "\n",
        "          first = tot[-1].id - 1\n",
        "  \n",
        "        return tot  \n",
        "  \n",
        "        \n",
        "        \n",
        "         \n",
        "  "
      ],
      "execution_count": 0,
      "outputs": []
    },
    {
      "metadata": {
        "id": "T9VzcDco8lsr",
        "colab_type": "text"
      },
      "cell_type": "markdown",
      "source": [
        "Now, creating a JSON variable 'file' of all the tweets."
      ]
    },
    {
      "metadata": {
        "id": "tYXbyfP3nd4p",
        "colab_type": "code",
        "colab": {}
      },
      "cell_type": "code",
      "source": [
        "file = get_tweets_info(usename)"
      ],
      "execution_count": 0,
      "outputs": []
    },
    {
      "metadata": {
        "id": "astHgric8uN4",
        "colab_type": "text"
      },
      "cell_type": "markdown",
      "source": [
        "Getting the text, number of likes, number of retweets of the given tweet, and Date-Time of the tweets."
      ]
    },
    {
      "metadata": {
        "id": "YwTnE9ZYm46n",
        "colab_type": "code",
        "colab": {}
      },
      "cell_type": "code",
      "source": [
        "tweets_text = [tweet.text for tweet in file]\n",
        "tweets_favourite = [tweet.favorite_count for tweet in file]\n",
        "tweets_ret = [tweet.retweet_count for tweet in file ]\n",
        "tweets_date_time = [tweet.created_at for tweet in file]"
      ],
      "execution_count": 0,
      "outputs": []
    },
    {
      "metadata": {
        "id": "pVWCw4PNnj4q",
        "colab_type": "code",
        "outputId": "91e24356-e6d9-4fcd-df97-93a9e14e0ed3",
        "colab": {
          "base_uri": "https://localhost:8080/",
          "height": 34
        }
      },
      "cell_type": "code",
      "source": [
        "tweets_text[5] #Checking the 6th tweet"
      ],
      "execution_count": 0,
      "outputs": [
        {
          "output_type": "execute_result",
          "data": {
            "text/plain": [
              "'Other queries: \"none of the Tweeter Apis give the correct count of favorites tested for most of them, all give the… https://t.co/2jnCTMMqV8'"
            ]
          },
          "metadata": {
            "tags": []
          },
          "execution_count": 91
        }
      ]
    },
    {
      "metadata": {
        "id": "_-IlQwl59hTe",
        "colab_type": "text"
      },
      "cell_type": "markdown",
      "source": [
        "Parsing the date-time into proper format."
      ]
    },
    {
      "metadata": {
        "id": "erp1t7gAOigf",
        "colab_type": "code",
        "colab": {}
      },
      "cell_type": "code",
      "source": [
        "cleaned_dt =[]\n",
        "for dt in tweets_date_time:\n",
        "  cleaned_dt.append(dt.strftime(\"%d/%m/%Y, %H:%M:%S\"))"
      ],
      "execution_count": 0,
      "outputs": []
    },
    {
      "metadata": {
        "id": "LEq6dAqK9nmg",
        "colab_type": "text"
      },
      "cell_type": "markdown",
      "source": [
        "The extended_entities attribute of each tweet stores the infortmation about different media.\n",
        "So, the information of images given in a tweet can be retrieved from there."
      ]
    },
    {
      "metadata": {
        "id": "DO-0UxxJm7a1",
        "colab_type": "code",
        "colab": {}
      },
      "cell_type": "code",
      "source": [
        "tweets_images = []\n",
        "k=0\n",
        "\n",
        "for tweet in file:\n",
        "  \n",
        "  count =0\n",
        "  \n",
        "  k=k+1\n",
        "  try:\n",
        "    for i in range(len(tweet.extended_entities['media'])):\n",
        "        \n",
        "        \n",
        "        if(tweet.extended_entities['media'][i]['type'] == 'photo'):\n",
        "            count= count+1\n",
        "            tweets_images.append(count)\n",
        "        else:\n",
        "            tweets_images.append(0)\n",
        "            \n",
        "  except:\n",
        "    if 'media' in tweet.entities:\n",
        "        if(tweet.entities['media'][0]['type'] == 'photo'):\n",
        "            tweets_images.append(1)\n",
        "        else:\n",
        "            tweets_images.append(0)\n",
        "            \n",
        "    else:\n",
        "        tweets_images.append(0)\n",
        "     "
      ],
      "execution_count": 0,
      "outputs": []
    },
    {
      "metadata": {
        "id": "N_u8mqk4-lQi",
        "colab_type": "text"
      },
      "cell_type": "markdown",
      "source": [
        "The DataFrame is made for tabularization."
      ]
    },
    {
      "metadata": {
        "id": "u-lN98aVzJyU",
        "colab_type": "code",
        "colab": {}
      },
      "cell_type": "code",
      "source": [
        "dataframe = pd.DataFrame({'Text': tweets_text, 'Date and Time': cleaned_dt, 'Favourites': tweets_favourite, 'Number of Retweets': tweets_ret, 'Number of Images': tweets_images})"
      ],
      "execution_count": 0,
      "outputs": []
    },
    {
      "metadata": {
        "id": "1LMEjJDwQgT3",
        "colab_type": "code",
        "outputId": "c9c54f13-a029-4a06-ccb6-69cad61f42c5",
        "colab": {
          "base_uri": "https://localhost:8080/",
          "height": 204
        }
      },
      "cell_type": "code",
      "source": [
        "dataframe.tail()"
      ],
      "execution_count": 0,
      "outputs": [
        {
          "output_type": "execute_result",
          "data": {
            "text/html": [
              "<div>\n",
              "<style scoped>\n",
              "    .dataframe tbody tr th:only-of-type {\n",
              "        vertical-align: middle;\n",
              "    }\n",
              "\n",
              "    .dataframe tbody tr th {\n",
              "        vertical-align: top;\n",
              "    }\n",
              "\n",
              "    .dataframe thead th {\n",
              "        text-align: right;\n",
              "    }\n",
              "</style>\n",
              "<table border=\"1\" class=\"dataframe\">\n",
              "  <thead>\n",
              "    <tr style=\"text-align: right;\">\n",
              "      <th></th>\n",
              "      <th>Date and Time</th>\n",
              "      <th>Favourites</th>\n",
              "      <th>Number of Images</th>\n",
              "      <th>Number of Retweets</th>\n",
              "      <th>Text</th>\n",
              "    </tr>\n",
              "  </thead>\n",
              "  <tbody>\n",
              "    <tr>\n",
              "      <th>333</th>\n",
              "      <td>24/07/2018, 10:33:23</td>\n",
              "      <td>2</td>\n",
              "      <td>0</td>\n",
              "      <td>1</td>\n",
              "      <td>MIDAS@IIITD foundation. https://t.co/LKuzyBHzjm</td>\n",
              "    </tr>\n",
              "    <tr>\n",
              "      <th>334</th>\n",
              "      <td>24/07/2018, 10:12:34</td>\n",
              "      <td>2</td>\n",
              "      <td>0</td>\n",
              "      <td>1</td>\n",
              "      <td>It feels great to be the part of @IIITDelhi. h...</td>\n",
              "    </tr>\n",
              "    <tr>\n",
              "      <th>335</th>\n",
              "      <td>24/07/2018, 09:46:26</td>\n",
              "      <td>4</td>\n",
              "      <td>0</td>\n",
              "      <td>1</td>\n",
              "      <td>Thank you, @toonzratn for designing the logo o...</td>\n",
              "    </tr>\n",
              "    <tr>\n",
              "      <th>336</th>\n",
              "      <td>23/07/2018, 16:25:05</td>\n",
              "      <td>3</td>\n",
              "      <td>0</td>\n",
              "      <td>1</td>\n",
              "      <td>We are on Facebook too. Like our page to get o...</td>\n",
              "    </tr>\n",
              "    <tr>\n",
              "      <th>337</th>\n",
              "      <td>23/07/2018, 12:53:15</td>\n",
              "      <td>7</td>\n",
              "      <td>1</td>\n",
              "      <td>4</td>\n",
              "      <td>MIDAS is a group of researchers at IIIT-Delhi ...</td>\n",
              "    </tr>\n",
              "  </tbody>\n",
              "</table>\n",
              "</div>"
            ],
            "text/plain": [
              "            Date and Time  Favourites  Number of Images  Number of Retweets  \\\n",
              "333  24/07/2018, 10:33:23           2                 0                   1   \n",
              "334  24/07/2018, 10:12:34           2                 0                   1   \n",
              "335  24/07/2018, 09:46:26           4                 0                   1   \n",
              "336  23/07/2018, 16:25:05           3                 0                   1   \n",
              "337  23/07/2018, 12:53:15           7                 1                   4   \n",
              "\n",
              "                                                  Text  \n",
              "333    MIDAS@IIITD foundation. https://t.co/LKuzyBHzjm  \n",
              "334  It feels great to be the part of @IIITDelhi. h...  \n",
              "335  Thank you, @toonzratn for designing the logo o...  \n",
              "336  We are on Facebook too. Like our page to get o...  \n",
              "337  MIDAS is a group of researchers at IIIT-Delhi ...  "
            ]
          },
          "metadata": {
            "tags": []
          },
          "execution_count": 140
        }
      ]
    }
  ]
}